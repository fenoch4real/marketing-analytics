{
  "nbformat": 4,
  "nbformat_minor": 0,
  "metadata": {
    "kernelspec": {
      "display_name": "Python 3",
      "language": "python",
      "name": "python3"
    },
    "language_info": {
      "codemirror_mode": {
        "name": "ipython",
        "version": 3
      },
      "file_extension": ".py",
      "mimetype": "text/x-python",
      "name": "python",
      "nbconvert_exporter": "python",
      "pygments_lexer": "ipython3",
      "version": "3.8.3"
    },
    "colab": {
      "name": "MSCA 32003_Assignment 4.ipynb",
      "provenance": [],
      "collapsed_sections": [
        "B6YEtMk-7Jpo",
        "PZODFigV7Jpo",
        "crg1qMTt7JqF",
        "OHHdDZNC7JqJ"
      ]
    }
  },
  "cells": [
    {
      "cell_type": "markdown",
      "metadata": {
        "id": "LRU2WX3Y7JpH"
      },
      "source": [
        "# MSCA 32003: Assignment 4"
      ]
    },
    {
      "cell_type": "markdown",
      "metadata": {
        "id": "rzyZkZkz7JpL"
      },
      "source": [
        "## Wilson McDermott, Samantha Patil, and Oluwafemi Fabiyi"
      ]
    },
    {
      "cell_type": "markdown",
      "metadata": {
        "id": "pZdhF2Oc7JpL"
      },
      "source": [
        "### March 11, 2021 "
      ]
    },
    {
      "cell_type": "code",
      "metadata": {
        "id": "FDSHWRKF7JpN"
      },
      "source": [
        "import numpy as np\n",
        "import pandas as pd\n",
        "from scipy import stats\n",
        "import matplotlib.pyplot as plt\n",
        "import seaborn as sns\n",
        "from sklearn.model_selection import train_test_split\n",
        "from sklearn.tree import DecisionTreeRegressor\n",
        "from sklearn.ensemble import RandomForestRegressor\n",
        "from sklearn.neighbors import KNeighborsRegressor\n",
        "from sklearn.decomposition import PCA\n",
        "from sklearn.pipeline import make_pipeline\n",
        "from sklearn.linear_model import LinearRegression\n",
        "from sklearn.metrics import mean_squared_error as MSE\n",
        "from sklearn.model_selection import cross_val_score\n",
        "from sklearn.model_selection import GridSearchCV\n",
        "from sklearn.model_selection import RandomizedSearchCV\n",
        "from sklearn import tree\n",
        "from sklearn.ensemble import GradientBoostingRegressor\n",
        "from sklearn.ensemble import VotingRegressor\n",
        "from sklearn.preprocessing import StandardScaler\n",
        "from sklearn.preprocessing import MinMaxScaler\n",
        "from sklearn.preprocessing import scale\n",
        "\n",
        "import warnings\n",
        "warnings.filterwarnings('ignore')"
      ],
      "execution_count": null,
      "outputs": []
    },
    {
      "cell_type": "markdown",
      "metadata": {
        "id": "Fy0qLmks7JpN"
      },
      "source": [
        "#### Sources: "
      ]
    },
    {
      "cell_type": "markdown",
      "metadata": {
        "id": "ys5Rt44A7JpN"
      },
      "source": [
        "http://homepage.divms.uiowa.edu/~chayang/web/papers/emnlp_brand_preference.pdf\n",
        "\n",
        "https://towardsdatascience.com/machine-learning-step-by-step-6fbde95c455a"
      ]
    },
    {
      "cell_type": "markdown",
      "metadata": {
        "id": "sn1pvT6_7JpO"
      },
      "source": [
        "#### Loading / Understanding Data:"
      ]
    },
    {
      "cell_type": "code",
      "metadata": {
        "id": "twRgIcWZ7JpP"
      },
      "source": [
        "metadata = pd.read_excel('Brand_stratategy_data.v3.xls',sheet_name='data Dictionary')\n",
        "datatoclean = pd.read_excel('Brand_stratategy_data.v3.xls',sheet_name='data')"
      ],
      "execution_count": null,
      "outputs": []
    },
    {
      "cell_type": "code",
      "metadata": {
        "id": "BASqPjYw7JpP",
        "outputId": "99ab4b1b-dfd3-4ac1-cfd6-955f72aca811"
      },
      "source": [
        "metadata"
      ],
      "execution_count": null,
      "outputs": [
        {
          "output_type": "execute_result",
          "data": {
            "text/html": [
              "<div>\n",
              "<style scoped>\n",
              "    .dataframe tbody tr th:only-of-type {\n",
              "        vertical-align: middle;\n",
              "    }\n",
              "\n",
              "    .dataframe tbody tr th {\n",
              "        vertical-align: top;\n",
              "    }\n",
              "\n",
              "    .dataframe thead th {\n",
              "        text-align: right;\n",
              "    }\n",
              "</style>\n",
              "<table border=\"1\" class=\"dataframe\">\n",
              "  <thead>\n",
              "    <tr style=\"text-align: right;\">\n",
              "      <th></th>\n",
              "      <th>Variable</th>\n",
              "      <th>Unnamed: 1</th>\n",
              "    </tr>\n",
              "  </thead>\n",
              "  <tbody>\n",
              "    <tr>\n",
              "      <th>0</th>\n",
              "      <td>NaN</td>\n",
              "      <td>-99 is missing brand information for person</td>\n",
              "    </tr>\n",
              "    <tr>\n",
              "      <th>1</th>\n",
              "      <td>respid</td>\n",
              "      <td>respondent id</td>\n",
              "    </tr>\n",
              "    <tr>\n",
              "      <th>2</th>\n",
              "      <td>hq_cell</td>\n",
              "      <td>Revenue groups: 1- LT 100k, 2 - 100 - 250 K, 3...</td>\n",
              "    </tr>\n",
              "    <tr>\n",
              "      <th>3</th>\n",
              "      <td>brandid</td>\n",
              "      <td>brands</td>\n",
              "    </tr>\n",
              "    <tr>\n",
              "      <th>4</th>\n",
              "      <td>NaN</td>\n",
              "      <td>1. Advanta</td>\n",
              "    </tr>\n",
              "    <tr>\n",
              "      <th>5</th>\n",
              "      <td>NaN</td>\n",
              "      <td>2. Amex</td>\n",
              "    </tr>\n",
              "    <tr>\n",
              "      <th>6</th>\n",
              "      <td>NaN</td>\n",
              "      <td>3. Bank of America</td>\n",
              "    </tr>\n",
              "    <tr>\n",
              "      <th>7</th>\n",
              "      <td>NaN</td>\n",
              "      <td>4. Chase</td>\n",
              "    </tr>\n",
              "    <tr>\n",
              "      <th>8</th>\n",
              "      <td>NaN</td>\n",
              "      <td>5. Citibank</td>\n",
              "    </tr>\n",
              "    <tr>\n",
              "      <th>9</th>\n",
              "      <td>NaN</td>\n",
              "      <td>6. HSBC</td>\n",
              "    </tr>\n",
              "    <tr>\n",
              "      <th>10</th>\n",
              "      <td>NaN</td>\n",
              "      <td>7. Wells Fargo</td>\n",
              "    </tr>\n",
              "    <tr>\n",
              "      <th>11</th>\n",
              "      <td>NaN</td>\n",
              "      <td>8. Other Primary</td>\n",
              "    </tr>\n",
              "    <tr>\n",
              "      <th>12</th>\n",
              "      <td>NaN</td>\n",
              "      <td>9. Other Secondary</td>\n",
              "    </tr>\n",
              "    <tr>\n",
              "      <th>13</th>\n",
              "      <td>origbrand</td>\n",
              "      <td>same as brand id except for 8 and 9:  8 and 9 ...</td>\n",
              "    </tr>\n",
              "    <tr>\n",
              "      <th>14</th>\n",
              "      <td>pri_sec</td>\n",
              "      <td>Primary/Secondary flag: 1 - Primary, 2- Second...</td>\n",
              "    </tr>\n",
              "    <tr>\n",
              "      <th>15</th>\n",
              "      <td>q6</td>\n",
              "      <td>Competitive Preference :  1 - Storngly Prefer ...</td>\n",
              "    </tr>\n",
              "    <tr>\n",
              "      <th>16</th>\n",
              "      <td>NaN</td>\n",
              "      <td>Note:  respondent has same q6 value for all re...</td>\n",
              "    </tr>\n",
              "    <tr>\n",
              "      <th>17</th>\n",
              "      <td>consider</td>\n",
              "      <td>Likely to conisder/continue to use:  1: Defeni...</td>\n",
              "    </tr>\n",
              "    <tr>\n",
              "      <th>18</th>\n",
              "      <td>Ratings</td>\n",
              "      <td>1 - low, 2 medium 3 high 4 DK</td>\n",
              "    </tr>\n",
              "    <tr>\n",
              "      <th>19</th>\n",
              "      <td>NaN</td>\n",
              "      <td>NaN</td>\n",
              "    </tr>\n",
              "    <tr>\n",
              "      <th>20</th>\n",
              "      <td>att_rating1</td>\n",
              "      <td>Provides easy access to my accounts</td>\n",
              "    </tr>\n",
              "    <tr>\n",
              "      <th>21</th>\n",
              "      <td>att_rating2</td>\n",
              "      <td>Offers access to my accounts through multiple ...</td>\n",
              "    </tr>\n",
              "    <tr>\n",
              "      <th>22</th>\n",
              "      <td>att_rating3</td>\n",
              "      <td>Has the financial products I need for my business</td>\n",
              "    </tr>\n",
              "    <tr>\n",
              "      <th>23</th>\n",
              "      <td>att_rating4</td>\n",
              "      <td>Helps me manage the cash flow of my business</td>\n",
              "    </tr>\n",
              "    <tr>\n",
              "      <th>24</th>\n",
              "      <td>att_rating5</td>\n",
              "      <td>Is cool</td>\n",
              "    </tr>\n",
              "    <tr>\n",
              "      <th>25</th>\n",
              "      <td>att_rating6</td>\n",
              "      <td>Is an emerging Leader</td>\n",
              "    </tr>\n",
              "    <tr>\n",
              "      <th>26</th>\n",
              "      <td>att_rating7</td>\n",
              "      <td>Is innovative</td>\n",
              "    </tr>\n",
              "    <tr>\n",
              "      <th>27</th>\n",
              "      <td>att_rating8</td>\n",
              "      <td>Provides personalized service</td>\n",
              "    </tr>\n",
              "    <tr>\n",
              "      <th>28</th>\n",
              "      <td>att_rating9</td>\n",
              "      <td>Is trustworthy</td>\n",
              "    </tr>\n",
              "    <tr>\n",
              "      <th>29</th>\n",
              "      <td>att_rating10</td>\n",
              "      <td>Is responsive to my business needs</td>\n",
              "    </tr>\n",
              "    <tr>\n",
              "      <th>30</th>\n",
              "      <td>att_rating11</td>\n",
              "      <td>Is an advisor to my business</td>\n",
              "    </tr>\n",
              "    <tr>\n",
              "      <th>31</th>\n",
              "      <td>att_rating12</td>\n",
              "      <td>Understands my business needs</td>\n",
              "    </tr>\n",
              "    <tr>\n",
              "      <th>32</th>\n",
              "      <td>att_rating13</td>\n",
              "      <td>Helps solve my business problems</td>\n",
              "    </tr>\n",
              "    <tr>\n",
              "      <th>33</th>\n",
              "      <td>att_rating14</td>\n",
              "      <td>Looks out for my best interests</td>\n",
              "    </tr>\n",
              "    <tr>\n",
              "      <th>34</th>\n",
              "      <td>att_rating15</td>\n",
              "      <td>Is a prestigious company</td>\n",
              "    </tr>\n",
              "    <tr>\n",
              "      <th>35</th>\n",
              "      <td>att_rating16</td>\n",
              "      <td>Makes me feel like a valued customer</td>\n",
              "    </tr>\n",
              "    <tr>\n",
              "      <th>36</th>\n",
              "      <td>att_rating17</td>\n",
              "      <td>Recognizes me as a person and as a business</td>\n",
              "    </tr>\n",
              "    <tr>\n",
              "      <th>37</th>\n",
              "      <td>att_rating18</td>\n",
              "      <td>Rewards me for being a good customer</td>\n",
              "    </tr>\n",
              "    <tr>\n",
              "      <th>38</th>\n",
              "      <td>att_rating19</td>\n",
              "      <td>Provides rewards programs best suited for my b...</td>\n",
              "    </tr>\n",
              "    <tr>\n",
              "      <th>39</th>\n",
              "      <td>att_rating20</td>\n",
              "      <td>Offers an easy application process</td>\n",
              "    </tr>\n",
              "    <tr>\n",
              "      <th>40</th>\n",
              "      <td>att_rating21</td>\n",
              "      <td>Provides excellent customer service</td>\n",
              "    </tr>\n",
              "    <tr>\n",
              "      <th>41</th>\n",
              "      <td>att_rating22</td>\n",
              "      <td>Makes it easy to get financing for my business</td>\n",
              "    </tr>\n",
              "    <tr>\n",
              "      <th>42</th>\n",
              "      <td>att_rating23</td>\n",
              "      <td>Communications are straight forward and clear</td>\n",
              "    </tr>\n",
              "    <tr>\n",
              "      <th>43</th>\n",
              "      <td>att_rating24</td>\n",
              "      <td>Provides security for my account information</td>\n",
              "    </tr>\n",
              "    <tr>\n",
              "      <th>44</th>\n",
              "      <td>att_rating25</td>\n",
              "      <td>Makes my life easier</td>\n",
              "    </tr>\n",
              "    <tr>\n",
              "      <th>45</th>\n",
              "      <td>att_rating26</td>\n",
              "      <td>Makes it easy to invest in my business</td>\n",
              "    </tr>\n",
              "    <tr>\n",
              "      <th>46</th>\n",
              "      <td>att_rating27</td>\n",
              "      <td>Offers a quick application approval process</td>\n",
              "    </tr>\n",
              "    <tr>\n",
              "      <th>47</th>\n",
              "      <td>att_rating28</td>\n",
              "      <td>Has reasonable fees</td>\n",
              "    </tr>\n",
              "    <tr>\n",
              "      <th>48</th>\n",
              "      <td>att_rating29</td>\n",
              "      <td>Offers the best rates on its products</td>\n",
              "    </tr>\n",
              "    <tr>\n",
              "      <th>49</th>\n",
              "      <td>att_rating30</td>\n",
              "      <td>Treats me fairly</td>\n",
              "    </tr>\n",
              "    <tr>\n",
              "      <th>50</th>\n",
              "      <td>att_rating31</td>\n",
              "      <td>Provides a good value</td>\n",
              "    </tr>\n",
              "  </tbody>\n",
              "</table>\n",
              "</div>"
            ],
            "text/plain": [
              "        Variable                                         Unnamed: 1\n",
              "0            NaN        -99 is missing brand information for person\n",
              "1         respid                                      respondent id\n",
              "2        hq_cell  Revenue groups: 1- LT 100k, 2 - 100 - 250 K, 3...\n",
              "3        brandid                                             brands\n",
              "4            NaN                                         1. Advanta\n",
              "5            NaN                                            2. Amex\n",
              "6            NaN                                 3. Bank of America\n",
              "7            NaN                                           4. Chase\n",
              "8            NaN                                        5. Citibank\n",
              "9            NaN                                            6. HSBC\n",
              "10           NaN                                     7. Wells Fargo\n",
              "11           NaN                                   8. Other Primary\n",
              "12           NaN                                 9. Other Secondary\n",
              "13     origbrand  same as brand id except for 8 and 9:  8 and 9 ...\n",
              "14       pri_sec  Primary/Secondary flag: 1 - Primary, 2- Second...\n",
              "15            q6  Competitive Preference :  1 - Storngly Prefer ...\n",
              "16           NaN  Note:  respondent has same q6 value for all re...\n",
              "17      consider  Likely to conisder/continue to use:  1: Defeni...\n",
              "18       Ratings                      1 - low, 2 medium 3 high 4 DK\n",
              "19           NaN                                                NaN\n",
              "20   att_rating1                Provides easy access to my accounts\n",
              "21   att_rating2  Offers access to my accounts through multiple ...\n",
              "22   att_rating3  Has the financial products I need for my business\n",
              "23   att_rating4       Helps me manage the cash flow of my business\n",
              "24   att_rating5                                            Is cool\n",
              "25   att_rating6                              Is an emerging Leader\n",
              "26   att_rating7                                      Is innovative\n",
              "27   att_rating8                      Provides personalized service\n",
              "28   att_rating9                                     Is trustworthy\n",
              "29  att_rating10                 Is responsive to my business needs\n",
              "30  att_rating11                       Is an advisor to my business\n",
              "31  att_rating12                      Understands my business needs\n",
              "32  att_rating13                   Helps solve my business problems\n",
              "33  att_rating14                    Looks out for my best interests\n",
              "34  att_rating15                           Is a prestigious company\n",
              "35  att_rating16               Makes me feel like a valued customer\n",
              "36  att_rating17        Recognizes me as a person and as a business\n",
              "37  att_rating18               Rewards me for being a good customer\n",
              "38  att_rating19  Provides rewards programs best suited for my b...\n",
              "39  att_rating20                 Offers an easy application process\n",
              "40  att_rating21                Provides excellent customer service\n",
              "41  att_rating22     Makes it easy to get financing for my business\n",
              "42  att_rating23      Communications are straight forward and clear\n",
              "43  att_rating24       Provides security for my account information\n",
              "44  att_rating25                               Makes my life easier\n",
              "45  att_rating26             Makes it easy to invest in my business\n",
              "46  att_rating27        Offers a quick application approval process\n",
              "47  att_rating28                                Has reasonable fees\n",
              "48  att_rating29              Offers the best rates on its products\n",
              "49  att_rating30                                   Treats me fairly\n",
              "50  att_rating31                              Provides a good value"
            ]
          },
          "metadata": {
            "tags": []
          },
          "execution_count": 3
        }
      ]
    },
    {
      "cell_type": "code",
      "metadata": {
        "id": "MYM1hgk97JpQ",
        "outputId": "c4b582d4-a398-4be0-904b-05ec483d21df"
      },
      "source": [
        "datatoclean"
      ],
      "execution_count": null,
      "outputs": [
        {
          "output_type": "execute_result",
          "data": {
            "text/html": [
              "<div>\n",
              "<style scoped>\n",
              "    .dataframe tbody tr th:only-of-type {\n",
              "        vertical-align: middle;\n",
              "    }\n",
              "\n",
              "    .dataframe tbody tr th {\n",
              "        vertical-align: top;\n",
              "    }\n",
              "\n",
              "    .dataframe thead th {\n",
              "        text-align: right;\n",
              "    }\n",
              "</style>\n",
              "<table border=\"1\" class=\"dataframe\">\n",
              "  <thead>\n",
              "    <tr style=\"text-align: right;\">\n",
              "      <th></th>\n",
              "      <th>respid</th>\n",
              "      <th>hq_cell</th>\n",
              "      <th>brandid</th>\n",
              "      <th>origbrand</th>\n",
              "      <th>pri_sec</th>\n",
              "      <th>q6</th>\n",
              "      <th>consider</th>\n",
              "      <th>att_rating1</th>\n",
              "      <th>att_rating2</th>\n",
              "      <th>att_rating3</th>\n",
              "      <th>...</th>\n",
              "      <th>att_rating22</th>\n",
              "      <th>att_rating23</th>\n",
              "      <th>att_rating24</th>\n",
              "      <th>att_rating25</th>\n",
              "      <th>att_rating26</th>\n",
              "      <th>att_rating27</th>\n",
              "      <th>att_rating28</th>\n",
              "      <th>att_rating29</th>\n",
              "      <th>att_rating30</th>\n",
              "      <th>att_rating31</th>\n",
              "    </tr>\n",
              "  </thead>\n",
              "  <tbody>\n",
              "    <tr>\n",
              "      <th>0</th>\n",
              "      <td>1</td>\n",
              "      <td>3</td>\n",
              "      <td>1</td>\n",
              "      <td>1</td>\n",
              "      <td>-99</td>\n",
              "      <td>6</td>\n",
              "      <td>-99</td>\n",
              "      <td>-99</td>\n",
              "      <td>-99</td>\n",
              "      <td>-99</td>\n",
              "      <td>...</td>\n",
              "      <td>-99</td>\n",
              "      <td>-99</td>\n",
              "      <td>-99</td>\n",
              "      <td>-99</td>\n",
              "      <td>-99</td>\n",
              "      <td>-99</td>\n",
              "      <td>-99</td>\n",
              "      <td>-99</td>\n",
              "      <td>-99</td>\n",
              "      <td>-99</td>\n",
              "    </tr>\n",
              "    <tr>\n",
              "      <th>1</th>\n",
              "      <td>1</td>\n",
              "      <td>3</td>\n",
              "      <td>2</td>\n",
              "      <td>2</td>\n",
              "      <td>0</td>\n",
              "      <td>6</td>\n",
              "      <td>9</td>\n",
              "      <td>4</td>\n",
              "      <td>4</td>\n",
              "      <td>4</td>\n",
              "      <td>...</td>\n",
              "      <td>4</td>\n",
              "      <td>4</td>\n",
              "      <td>4</td>\n",
              "      <td>4</td>\n",
              "      <td>4</td>\n",
              "      <td>4</td>\n",
              "      <td>4</td>\n",
              "      <td>4</td>\n",
              "      <td>4</td>\n",
              "      <td>4</td>\n",
              "    </tr>\n",
              "    <tr>\n",
              "      <th>2</th>\n",
              "      <td>1</td>\n",
              "      <td>3</td>\n",
              "      <td>3</td>\n",
              "      <td>3</td>\n",
              "      <td>0</td>\n",
              "      <td>6</td>\n",
              "      <td>11</td>\n",
              "      <td>3</td>\n",
              "      <td>3</td>\n",
              "      <td>2</td>\n",
              "      <td>...</td>\n",
              "      <td>3</td>\n",
              "      <td>2</td>\n",
              "      <td>3</td>\n",
              "      <td>3</td>\n",
              "      <td>3</td>\n",
              "      <td>3</td>\n",
              "      <td>3</td>\n",
              "      <td>3</td>\n",
              "      <td>3</td>\n",
              "      <td>3</td>\n",
              "    </tr>\n",
              "    <tr>\n",
              "      <th>3</th>\n",
              "      <td>1</td>\n",
              "      <td>3</td>\n",
              "      <td>4</td>\n",
              "      <td>4</td>\n",
              "      <td>0</td>\n",
              "      <td>6</td>\n",
              "      <td>11</td>\n",
              "      <td>3</td>\n",
              "      <td>2</td>\n",
              "      <td>2</td>\n",
              "      <td>...</td>\n",
              "      <td>3</td>\n",
              "      <td>2</td>\n",
              "      <td>3</td>\n",
              "      <td>3</td>\n",
              "      <td>2</td>\n",
              "      <td>2</td>\n",
              "      <td>3</td>\n",
              "      <td>2</td>\n",
              "      <td>3</td>\n",
              "      <td>3</td>\n",
              "    </tr>\n",
              "    <tr>\n",
              "      <th>4</th>\n",
              "      <td>1</td>\n",
              "      <td>3</td>\n",
              "      <td>5</td>\n",
              "      <td>5</td>\n",
              "      <td>-99</td>\n",
              "      <td>6</td>\n",
              "      <td>11</td>\n",
              "      <td>-99</td>\n",
              "      <td>-99</td>\n",
              "      <td>-99</td>\n",
              "      <td>...</td>\n",
              "      <td>-99</td>\n",
              "      <td>-99</td>\n",
              "      <td>-99</td>\n",
              "      <td>-99</td>\n",
              "      <td>-99</td>\n",
              "      <td>-99</td>\n",
              "      <td>-99</td>\n",
              "      <td>-99</td>\n",
              "      <td>-99</td>\n",
              "      <td>-99</td>\n",
              "    </tr>\n",
              "    <tr>\n",
              "      <th>...</th>\n",
              "      <td>...</td>\n",
              "      <td>...</td>\n",
              "      <td>...</td>\n",
              "      <td>...</td>\n",
              "      <td>...</td>\n",
              "      <td>...</td>\n",
              "      <td>...</td>\n",
              "      <td>...</td>\n",
              "      <td>...</td>\n",
              "      <td>...</td>\n",
              "      <td>...</td>\n",
              "      <td>...</td>\n",
              "      <td>...</td>\n",
              "      <td>...</td>\n",
              "      <td>...</td>\n",
              "      <td>...</td>\n",
              "      <td>...</td>\n",
              "      <td>...</td>\n",
              "      <td>...</td>\n",
              "      <td>...</td>\n",
              "      <td>...</td>\n",
              "    </tr>\n",
              "    <tr>\n",
              "      <th>5944</th>\n",
              "      <td>915</td>\n",
              "      <td>2</td>\n",
              "      <td>5</td>\n",
              "      <td>5</td>\n",
              "      <td>0</td>\n",
              "      <td>3</td>\n",
              "      <td>6</td>\n",
              "      <td>3</td>\n",
              "      <td>3</td>\n",
              "      <td>3</td>\n",
              "      <td>...</td>\n",
              "      <td>3</td>\n",
              "      <td>3</td>\n",
              "      <td>3</td>\n",
              "      <td>2</td>\n",
              "      <td>3</td>\n",
              "      <td>4</td>\n",
              "      <td>3</td>\n",
              "      <td>4</td>\n",
              "      <td>4</td>\n",
              "      <td>4</td>\n",
              "    </tr>\n",
              "    <tr>\n",
              "      <th>5945</th>\n",
              "      <td>915</td>\n",
              "      <td>2</td>\n",
              "      <td>6</td>\n",
              "      <td>6</td>\n",
              "      <td>-99</td>\n",
              "      <td>3</td>\n",
              "      <td>-99</td>\n",
              "      <td>-99</td>\n",
              "      <td>-99</td>\n",
              "      <td>-99</td>\n",
              "      <td>...</td>\n",
              "      <td>-99</td>\n",
              "      <td>-99</td>\n",
              "      <td>-99</td>\n",
              "      <td>-99</td>\n",
              "      <td>-99</td>\n",
              "      <td>-99</td>\n",
              "      <td>-99</td>\n",
              "      <td>-99</td>\n",
              "      <td>-99</td>\n",
              "      <td>-99</td>\n",
              "    </tr>\n",
              "    <tr>\n",
              "      <th>5946</th>\n",
              "      <td>915</td>\n",
              "      <td>2</td>\n",
              "      <td>7</td>\n",
              "      <td>7</td>\n",
              "      <td>0</td>\n",
              "      <td>3</td>\n",
              "      <td>8</td>\n",
              "      <td>3</td>\n",
              "      <td>3</td>\n",
              "      <td>3</td>\n",
              "      <td>...</td>\n",
              "      <td>2</td>\n",
              "      <td>3</td>\n",
              "      <td>3</td>\n",
              "      <td>2</td>\n",
              "      <td>3</td>\n",
              "      <td>4</td>\n",
              "      <td>3</td>\n",
              "      <td>4</td>\n",
              "      <td>4</td>\n",
              "      <td>4</td>\n",
              "    </tr>\n",
              "    <tr>\n",
              "      <th>5947</th>\n",
              "      <td>915</td>\n",
              "      <td>2</td>\n",
              "      <td>8</td>\n",
              "      <td>25</td>\n",
              "      <td>1</td>\n",
              "      <td>3</td>\n",
              "      <td>11</td>\n",
              "      <td>3</td>\n",
              "      <td>3</td>\n",
              "      <td>3</td>\n",
              "      <td>...</td>\n",
              "      <td>3</td>\n",
              "      <td>3</td>\n",
              "      <td>3</td>\n",
              "      <td>3</td>\n",
              "      <td>3</td>\n",
              "      <td>3</td>\n",
              "      <td>3</td>\n",
              "      <td>3</td>\n",
              "      <td>3</td>\n",
              "      <td>3</td>\n",
              "    </tr>\n",
              "    <tr>\n",
              "      <th>5948</th>\n",
              "      <td>915</td>\n",
              "      <td>2</td>\n",
              "      <td>9</td>\n",
              "      <td>12</td>\n",
              "      <td>2</td>\n",
              "      <td>3</td>\n",
              "      <td>11</td>\n",
              "      <td>3</td>\n",
              "      <td>3</td>\n",
              "      <td>3</td>\n",
              "      <td>...</td>\n",
              "      <td>3</td>\n",
              "      <td>3</td>\n",
              "      <td>3</td>\n",
              "      <td>2</td>\n",
              "      <td>3</td>\n",
              "      <td>3</td>\n",
              "      <td>3</td>\n",
              "      <td>3</td>\n",
              "      <td>3</td>\n",
              "      <td>3</td>\n",
              "    </tr>\n",
              "  </tbody>\n",
              "</table>\n",
              "<p>5949 rows × 38 columns</p>\n",
              "</div>"
            ],
            "text/plain": [
              "      respid  hq_cell  brandid  origbrand  pri_sec  q6  consider  att_rating1  \\\n",
              "0          1        3        1          1      -99   6       -99          -99   \n",
              "1          1        3        2          2        0   6         9            4   \n",
              "2          1        3        3          3        0   6        11            3   \n",
              "3          1        3        4          4        0   6        11            3   \n",
              "4          1        3        5          5      -99   6        11          -99   \n",
              "...      ...      ...      ...        ...      ...  ..       ...          ...   \n",
              "5944     915        2        5          5        0   3         6            3   \n",
              "5945     915        2        6          6      -99   3       -99          -99   \n",
              "5946     915        2        7          7        0   3         8            3   \n",
              "5947     915        2        8         25        1   3        11            3   \n",
              "5948     915        2        9         12        2   3        11            3   \n",
              "\n",
              "      att_rating2  att_rating3  ...  att_rating22  att_rating23  att_rating24  \\\n",
              "0             -99          -99  ...           -99           -99           -99   \n",
              "1               4            4  ...             4             4             4   \n",
              "2               3            2  ...             3             2             3   \n",
              "3               2            2  ...             3             2             3   \n",
              "4             -99          -99  ...           -99           -99           -99   \n",
              "...           ...          ...  ...           ...           ...           ...   \n",
              "5944            3            3  ...             3             3             3   \n",
              "5945          -99          -99  ...           -99           -99           -99   \n",
              "5946            3            3  ...             2             3             3   \n",
              "5947            3            3  ...             3             3             3   \n",
              "5948            3            3  ...             3             3             3   \n",
              "\n",
              "      att_rating25  att_rating26  att_rating27  att_rating28  att_rating29  \\\n",
              "0              -99           -99           -99           -99           -99   \n",
              "1                4             4             4             4             4   \n",
              "2                3             3             3             3             3   \n",
              "3                3             2             2             3             2   \n",
              "4              -99           -99           -99           -99           -99   \n",
              "...            ...           ...           ...           ...           ...   \n",
              "5944             2             3             4             3             4   \n",
              "5945           -99           -99           -99           -99           -99   \n",
              "5946             2             3             4             3             4   \n",
              "5947             3             3             3             3             3   \n",
              "5948             2             3             3             3             3   \n",
              "\n",
              "      att_rating30  att_rating31  \n",
              "0              -99           -99  \n",
              "1                4             4  \n",
              "2                3             3  \n",
              "3                3             3  \n",
              "4              -99           -99  \n",
              "...            ...           ...  \n",
              "5944             4             4  \n",
              "5945           -99           -99  \n",
              "5946             4             4  \n",
              "5947             3             3  \n",
              "5948             3             3  \n",
              "\n",
              "[5949 rows x 38 columns]"
            ]
          },
          "metadata": {
            "tags": []
          },
          "execution_count": 4
        }
      ]
    },
    {
      "cell_type": "code",
      "metadata": {
        "id": "vtY98WLk7JpS",
        "outputId": "63ccac9f-ad68-4341-9ca8-ec17d345fd53"
      },
      "source": [
        "datatoclean.info()"
      ],
      "execution_count": null,
      "outputs": [
        {
          "output_type": "stream",
          "text": [
            "<class 'pandas.core.frame.DataFrame'>\n",
            "RangeIndex: 5949 entries, 0 to 5948\n",
            "Data columns (total 38 columns):\n",
            " #   Column        Non-Null Count  Dtype\n",
            "---  ------        --------------  -----\n",
            " 0   respid        5949 non-null   int64\n",
            " 1   hq_cell       5949 non-null   int64\n",
            " 2   brandid       5949 non-null   int64\n",
            " 3   origbrand     5949 non-null   int64\n",
            " 4   pri_sec       5949 non-null   int64\n",
            " 5   q6            5949 non-null   int64\n",
            " 6   consider      5949 non-null   int64\n",
            " 7   att_rating1   5949 non-null   int64\n",
            " 8   att_rating2   5949 non-null   int64\n",
            " 9   att_rating3   5949 non-null   int64\n",
            " 10  att_rating4   5949 non-null   int64\n",
            " 11  att_rating5   5949 non-null   int64\n",
            " 12  att_rating6   5949 non-null   int64\n",
            " 13  att_rating7   5949 non-null   int64\n",
            " 14  att_rating8   5949 non-null   int64\n",
            " 15  att_rating9   5949 non-null   int64\n",
            " 16  att_rating10  5949 non-null   int64\n",
            " 17  att_rating11  5949 non-null   int64\n",
            " 18  att_rating12  5949 non-null   int64\n",
            " 19  att_rating13  5949 non-null   int64\n",
            " 20  att_rating14  5949 non-null   int64\n",
            " 21  att_rating15  5949 non-null   int64\n",
            " 22  att_rating16  5949 non-null   int64\n",
            " 23  att_rating17  5949 non-null   int64\n",
            " 24  att_rating18  5949 non-null   int64\n",
            " 25  att_rating19  5949 non-null   int64\n",
            " 26  att_rating20  5949 non-null   int64\n",
            " 27  att_rating21  5949 non-null   int64\n",
            " 28  att_rating22  5949 non-null   int64\n",
            " 29  att_rating23  5949 non-null   int64\n",
            " 30  att_rating24  5949 non-null   int64\n",
            " 31  att_rating25  5949 non-null   int64\n",
            " 32  att_rating26  5949 non-null   int64\n",
            " 33  att_rating27  5949 non-null   int64\n",
            " 34  att_rating28  5949 non-null   int64\n",
            " 35  att_rating29  5949 non-null   int64\n",
            " 36  att_rating30  5949 non-null   int64\n",
            " 37  att_rating31  5949 non-null   int64\n",
            "dtypes: int64(38)\n",
            "memory usage: 1.7 MB\n"
          ],
          "name": "stdout"
        }
      ]
    },
    {
      "cell_type": "code",
      "metadata": {
        "id": "GI7Q1aok7JpS"
      },
      "source": [
        "datatoclean = datatoclean.replace(-99, np.nan)"
      ],
      "execution_count": null,
      "outputs": []
    },
    {
      "cell_type": "code",
      "metadata": {
        "id": "ukhPj5kL7JpT",
        "outputId": "4912c58a-4209-40e9-a8e6-dbc3a63290d2"
      },
      "source": [
        "datatoclean.info()"
      ],
      "execution_count": null,
      "outputs": [
        {
          "output_type": "stream",
          "text": [
            "<class 'pandas.core.frame.DataFrame'>\n",
            "RangeIndex: 5949 entries, 0 to 5948\n",
            "Data columns (total 38 columns):\n",
            " #   Column        Non-Null Count  Dtype  \n",
            "---  ------        --------------  -----  \n",
            " 0   respid        5949 non-null   int64  \n",
            " 1   hq_cell       5949 non-null   int64  \n",
            " 2   brandid       5949 non-null   int64  \n",
            " 3   origbrand     5248 non-null   float64\n",
            " 4   pri_sec       3382 non-null   float64\n",
            " 5   q6            5949 non-null   int64  \n",
            " 6   consider      4305 non-null   float64\n",
            " 7   att_rating1   3382 non-null   float64\n",
            " 8   att_rating2   3382 non-null   float64\n",
            " 9   att_rating3   3382 non-null   float64\n",
            " 10  att_rating4   3382 non-null   float64\n",
            " 11  att_rating5   3382 non-null   float64\n",
            " 12  att_rating6   3382 non-null   float64\n",
            " 13  att_rating7   3382 non-null   float64\n",
            " 14  att_rating8   3382 non-null   float64\n",
            " 15  att_rating9   3382 non-null   float64\n",
            " 16  att_rating10  3382 non-null   float64\n",
            " 17  att_rating11  3382 non-null   float64\n",
            " 18  att_rating12  3382 non-null   float64\n",
            " 19  att_rating13  3382 non-null   float64\n",
            " 20  att_rating14  3382 non-null   float64\n",
            " 21  att_rating15  3382 non-null   float64\n",
            " 22  att_rating16  3382 non-null   float64\n",
            " 23  att_rating17  3382 non-null   float64\n",
            " 24  att_rating18  3382 non-null   float64\n",
            " 25  att_rating19  3382 non-null   float64\n",
            " 26  att_rating20  3382 non-null   float64\n",
            " 27  att_rating21  3382 non-null   float64\n",
            " 28  att_rating22  3382 non-null   float64\n",
            " 29  att_rating23  3382 non-null   float64\n",
            " 30  att_rating24  3382 non-null   float64\n",
            " 31  att_rating25  3382 non-null   float64\n",
            " 32  att_rating26  3382 non-null   float64\n",
            " 33  att_rating27  3382 non-null   float64\n",
            " 34  att_rating28  3382 non-null   float64\n",
            " 35  att_rating29  3382 non-null   float64\n",
            " 36  att_rating30  3382 non-null   float64\n",
            " 37  att_rating31  3382 non-null   float64\n",
            "dtypes: float64(34), int64(4)\n",
            "memory usage: 1.7 MB\n"
          ],
          "name": "stdout"
        }
      ]
    },
    {
      "cell_type": "markdown",
      "metadata": {
        "id": "xVhCeoR87JpU"
      },
      "source": [
        "From our understanding, the goal is to understand and predict the likelihood of a customer to use / continue to use each brand's products (as measured by \"consider\"). As such, I re-orient the data to better predict this."
      ]
    },
    {
      "cell_type": "code",
      "metadata": {
        "id": "txYSJZwu7JpV"
      },
      "source": [
        "datacleanup = datatoclean.copy()"
      ],
      "execution_count": null,
      "outputs": []
    },
    {
      "cell_type": "code",
      "metadata": {
        "id": "yMwCRBc87JpW",
        "outputId": "82ac1511-df26-440d-c0aa-0b15c92044ad"
      },
      "source": [
        "datacleanup[\"hq_cell\"].describe()"
      ],
      "execution_count": null,
      "outputs": [
        {
          "output_type": "execute_result",
          "data": {
            "text/plain": [
              "count    5949.000000\n",
              "mean        2.133132\n",
              "std         0.854255\n",
              "min         1.000000\n",
              "25%         1.000000\n",
              "50%         2.000000\n",
              "75%         3.000000\n",
              "max         3.000000\n",
              "Name: hq_cell, dtype: float64"
            ]
          },
          "metadata": {
            "tags": []
          },
          "execution_count": 9
        }
      ]
    },
    {
      "cell_type": "code",
      "metadata": {
        "id": "xV_r-QBE7JpY",
        "outputId": "2dbc9685-e6f6-4660-e39b-2511d6413f10"
      },
      "source": [
        "datacleanup[\"origbrand\"].describe()"
      ],
      "execution_count": null,
      "outputs": [
        {
          "output_type": "execute_result",
          "data": {
            "text/plain": [
              "count    5248.000000\n",
              "mean        6.051639\n",
              "std         6.295606\n",
              "min         1.000000\n",
              "25%         2.000000\n",
              "50%         4.000000\n",
              "75%         6.000000\n",
              "max        29.000000\n",
              "Name: origbrand, dtype: float64"
            ]
          },
          "metadata": {
            "tags": []
          },
          "execution_count": 10
        }
      ]
    },
    {
      "cell_type": "code",
      "metadata": {
        "id": "VSZx0ZCz7JpY"
      },
      "source": [
        "todrop = [\"respid\",\"origbrand\"]\n",
        "\n",
        "datacleanup = datacleanup.drop(todrop, axis=1)"
      ],
      "execution_count": null,
      "outputs": []
    },
    {
      "cell_type": "code",
      "metadata": {
        "id": "9Y-2BwfC7JpZ",
        "outputId": "aabc06e1-52c7-44f3-efb8-bb0b168c3375"
      },
      "source": [
        "datacleanup.info()"
      ],
      "execution_count": null,
      "outputs": [
        {
          "output_type": "stream",
          "text": [
            "<class 'pandas.core.frame.DataFrame'>\n",
            "RangeIndex: 5949 entries, 0 to 5948\n",
            "Data columns (total 36 columns):\n",
            " #   Column        Non-Null Count  Dtype  \n",
            "---  ------        --------------  -----  \n",
            " 0   hq_cell       5949 non-null   int64  \n",
            " 1   brandid       5949 non-null   int64  \n",
            " 2   pri_sec       3382 non-null   float64\n",
            " 3   q6            5949 non-null   int64  \n",
            " 4   consider      4305 non-null   float64\n",
            " 5   att_rating1   3382 non-null   float64\n",
            " 6   att_rating2   3382 non-null   float64\n",
            " 7   att_rating3   3382 non-null   float64\n",
            " 8   att_rating4   3382 non-null   float64\n",
            " 9   att_rating5   3382 non-null   float64\n",
            " 10  att_rating6   3382 non-null   float64\n",
            " 11  att_rating7   3382 non-null   float64\n",
            " 12  att_rating8   3382 non-null   float64\n",
            " 13  att_rating9   3382 non-null   float64\n",
            " 14  att_rating10  3382 non-null   float64\n",
            " 15  att_rating11  3382 non-null   float64\n",
            " 16  att_rating12  3382 non-null   float64\n",
            " 17  att_rating13  3382 non-null   float64\n",
            " 18  att_rating14  3382 non-null   float64\n",
            " 19  att_rating15  3382 non-null   float64\n",
            " 20  att_rating16  3382 non-null   float64\n",
            " 21  att_rating17  3382 non-null   float64\n",
            " 22  att_rating18  3382 non-null   float64\n",
            " 23  att_rating19  3382 non-null   float64\n",
            " 24  att_rating20  3382 non-null   float64\n",
            " 25  att_rating21  3382 non-null   float64\n",
            " 26  att_rating22  3382 non-null   float64\n",
            " 27  att_rating23  3382 non-null   float64\n",
            " 28  att_rating24  3382 non-null   float64\n",
            " 29  att_rating25  3382 non-null   float64\n",
            " 30  att_rating26  3382 non-null   float64\n",
            " 31  att_rating27  3382 non-null   float64\n",
            " 32  att_rating28  3382 non-null   float64\n",
            " 33  att_rating29  3382 non-null   float64\n",
            " 34  att_rating30  3382 non-null   float64\n",
            " 35  att_rating31  3382 non-null   float64\n",
            "dtypes: float64(33), int64(3)\n",
            "memory usage: 1.6 MB\n"
          ],
          "name": "stdout"
        }
      ]
    },
    {
      "cell_type": "code",
      "metadata": {
        "id": "rxh-m98d7Jpa",
        "outputId": "038a3ffd-fd20-4ff3-ee51-926df47adb5b"
      },
      "source": [
        "metadata"
      ],
      "execution_count": null,
      "outputs": [
        {
          "output_type": "execute_result",
          "data": {
            "text/html": [
              "<div>\n",
              "<style scoped>\n",
              "    .dataframe tbody tr th:only-of-type {\n",
              "        vertical-align: middle;\n",
              "    }\n",
              "\n",
              "    .dataframe tbody tr th {\n",
              "        vertical-align: top;\n",
              "    }\n",
              "\n",
              "    .dataframe thead th {\n",
              "        text-align: right;\n",
              "    }\n",
              "</style>\n",
              "<table border=\"1\" class=\"dataframe\">\n",
              "  <thead>\n",
              "    <tr style=\"text-align: right;\">\n",
              "      <th></th>\n",
              "      <th>Variable</th>\n",
              "      <th>Unnamed: 1</th>\n",
              "    </tr>\n",
              "  </thead>\n",
              "  <tbody>\n",
              "    <tr>\n",
              "      <th>0</th>\n",
              "      <td>NaN</td>\n",
              "      <td>-99 is missing brand information for person</td>\n",
              "    </tr>\n",
              "    <tr>\n",
              "      <th>1</th>\n",
              "      <td>respid</td>\n",
              "      <td>respondent id</td>\n",
              "    </tr>\n",
              "    <tr>\n",
              "      <th>2</th>\n",
              "      <td>hq_cell</td>\n",
              "      <td>Revenue groups: 1- LT 100k, 2 - 100 - 250 K, 3...</td>\n",
              "    </tr>\n",
              "    <tr>\n",
              "      <th>3</th>\n",
              "      <td>brandid</td>\n",
              "      <td>brands</td>\n",
              "    </tr>\n",
              "    <tr>\n",
              "      <th>4</th>\n",
              "      <td>NaN</td>\n",
              "      <td>1. Advanta</td>\n",
              "    </tr>\n",
              "    <tr>\n",
              "      <th>5</th>\n",
              "      <td>NaN</td>\n",
              "      <td>2. Amex</td>\n",
              "    </tr>\n",
              "    <tr>\n",
              "      <th>6</th>\n",
              "      <td>NaN</td>\n",
              "      <td>3. Bank of America</td>\n",
              "    </tr>\n",
              "    <tr>\n",
              "      <th>7</th>\n",
              "      <td>NaN</td>\n",
              "      <td>4. Chase</td>\n",
              "    </tr>\n",
              "    <tr>\n",
              "      <th>8</th>\n",
              "      <td>NaN</td>\n",
              "      <td>5. Citibank</td>\n",
              "    </tr>\n",
              "    <tr>\n",
              "      <th>9</th>\n",
              "      <td>NaN</td>\n",
              "      <td>6. HSBC</td>\n",
              "    </tr>\n",
              "    <tr>\n",
              "      <th>10</th>\n",
              "      <td>NaN</td>\n",
              "      <td>7. Wells Fargo</td>\n",
              "    </tr>\n",
              "    <tr>\n",
              "      <th>11</th>\n",
              "      <td>NaN</td>\n",
              "      <td>8. Other Primary</td>\n",
              "    </tr>\n",
              "    <tr>\n",
              "      <th>12</th>\n",
              "      <td>NaN</td>\n",
              "      <td>9. Other Secondary</td>\n",
              "    </tr>\n",
              "    <tr>\n",
              "      <th>13</th>\n",
              "      <td>origbrand</td>\n",
              "      <td>same as brand id except for 8 and 9:  8 and 9 ...</td>\n",
              "    </tr>\n",
              "    <tr>\n",
              "      <th>14</th>\n",
              "      <td>pri_sec</td>\n",
              "      <td>Primary/Secondary flag: 1 - Primary, 2- Second...</td>\n",
              "    </tr>\n",
              "    <tr>\n",
              "      <th>15</th>\n",
              "      <td>q6</td>\n",
              "      <td>Competitive Preference :  1 - Storngly Prefer ...</td>\n",
              "    </tr>\n",
              "    <tr>\n",
              "      <th>16</th>\n",
              "      <td>NaN</td>\n",
              "      <td>Note:  respondent has same q6 value for all re...</td>\n",
              "    </tr>\n",
              "    <tr>\n",
              "      <th>17</th>\n",
              "      <td>consider</td>\n",
              "      <td>Likely to conisder/continue to use:  1: Defeni...</td>\n",
              "    </tr>\n",
              "    <tr>\n",
              "      <th>18</th>\n",
              "      <td>Ratings</td>\n",
              "      <td>1 - low, 2 medium 3 high 4 DK</td>\n",
              "    </tr>\n",
              "    <tr>\n",
              "      <th>19</th>\n",
              "      <td>NaN</td>\n",
              "      <td>NaN</td>\n",
              "    </tr>\n",
              "    <tr>\n",
              "      <th>20</th>\n",
              "      <td>att_rating1</td>\n",
              "      <td>Provides easy access to my accounts</td>\n",
              "    </tr>\n",
              "    <tr>\n",
              "      <th>21</th>\n",
              "      <td>att_rating2</td>\n",
              "      <td>Offers access to my accounts through multiple ...</td>\n",
              "    </tr>\n",
              "    <tr>\n",
              "      <th>22</th>\n",
              "      <td>att_rating3</td>\n",
              "      <td>Has the financial products I need for my business</td>\n",
              "    </tr>\n",
              "    <tr>\n",
              "      <th>23</th>\n",
              "      <td>att_rating4</td>\n",
              "      <td>Helps me manage the cash flow of my business</td>\n",
              "    </tr>\n",
              "    <tr>\n",
              "      <th>24</th>\n",
              "      <td>att_rating5</td>\n",
              "      <td>Is cool</td>\n",
              "    </tr>\n",
              "    <tr>\n",
              "      <th>25</th>\n",
              "      <td>att_rating6</td>\n",
              "      <td>Is an emerging Leader</td>\n",
              "    </tr>\n",
              "    <tr>\n",
              "      <th>26</th>\n",
              "      <td>att_rating7</td>\n",
              "      <td>Is innovative</td>\n",
              "    </tr>\n",
              "    <tr>\n",
              "      <th>27</th>\n",
              "      <td>att_rating8</td>\n",
              "      <td>Provides personalized service</td>\n",
              "    </tr>\n",
              "    <tr>\n",
              "      <th>28</th>\n",
              "      <td>att_rating9</td>\n",
              "      <td>Is trustworthy</td>\n",
              "    </tr>\n",
              "    <tr>\n",
              "      <th>29</th>\n",
              "      <td>att_rating10</td>\n",
              "      <td>Is responsive to my business needs</td>\n",
              "    </tr>\n",
              "    <tr>\n",
              "      <th>30</th>\n",
              "      <td>att_rating11</td>\n",
              "      <td>Is an advisor to my business</td>\n",
              "    </tr>\n",
              "    <tr>\n",
              "      <th>31</th>\n",
              "      <td>att_rating12</td>\n",
              "      <td>Understands my business needs</td>\n",
              "    </tr>\n",
              "    <tr>\n",
              "      <th>32</th>\n",
              "      <td>att_rating13</td>\n",
              "      <td>Helps solve my business problems</td>\n",
              "    </tr>\n",
              "    <tr>\n",
              "      <th>33</th>\n",
              "      <td>att_rating14</td>\n",
              "      <td>Looks out for my best interests</td>\n",
              "    </tr>\n",
              "    <tr>\n",
              "      <th>34</th>\n",
              "      <td>att_rating15</td>\n",
              "      <td>Is a prestigious company</td>\n",
              "    </tr>\n",
              "    <tr>\n",
              "      <th>35</th>\n",
              "      <td>att_rating16</td>\n",
              "      <td>Makes me feel like a valued customer</td>\n",
              "    </tr>\n",
              "    <tr>\n",
              "      <th>36</th>\n",
              "      <td>att_rating17</td>\n",
              "      <td>Recognizes me as a person and as a business</td>\n",
              "    </tr>\n",
              "    <tr>\n",
              "      <th>37</th>\n",
              "      <td>att_rating18</td>\n",
              "      <td>Rewards me for being a good customer</td>\n",
              "    </tr>\n",
              "    <tr>\n",
              "      <th>38</th>\n",
              "      <td>att_rating19</td>\n",
              "      <td>Provides rewards programs best suited for my b...</td>\n",
              "    </tr>\n",
              "    <tr>\n",
              "      <th>39</th>\n",
              "      <td>att_rating20</td>\n",
              "      <td>Offers an easy application process</td>\n",
              "    </tr>\n",
              "    <tr>\n",
              "      <th>40</th>\n",
              "      <td>att_rating21</td>\n",
              "      <td>Provides excellent customer service</td>\n",
              "    </tr>\n",
              "    <tr>\n",
              "      <th>41</th>\n",
              "      <td>att_rating22</td>\n",
              "      <td>Makes it easy to get financing for my business</td>\n",
              "    </tr>\n",
              "    <tr>\n",
              "      <th>42</th>\n",
              "      <td>att_rating23</td>\n",
              "      <td>Communications are straight forward and clear</td>\n",
              "    </tr>\n",
              "    <tr>\n",
              "      <th>43</th>\n",
              "      <td>att_rating24</td>\n",
              "      <td>Provides security for my account information</td>\n",
              "    </tr>\n",
              "    <tr>\n",
              "      <th>44</th>\n",
              "      <td>att_rating25</td>\n",
              "      <td>Makes my life easier</td>\n",
              "    </tr>\n",
              "    <tr>\n",
              "      <th>45</th>\n",
              "      <td>att_rating26</td>\n",
              "      <td>Makes it easy to invest in my business</td>\n",
              "    </tr>\n",
              "    <tr>\n",
              "      <th>46</th>\n",
              "      <td>att_rating27</td>\n",
              "      <td>Offers a quick application approval process</td>\n",
              "    </tr>\n",
              "    <tr>\n",
              "      <th>47</th>\n",
              "      <td>att_rating28</td>\n",
              "      <td>Has reasonable fees</td>\n",
              "    </tr>\n",
              "    <tr>\n",
              "      <th>48</th>\n",
              "      <td>att_rating29</td>\n",
              "      <td>Offers the best rates on its products</td>\n",
              "    </tr>\n",
              "    <tr>\n",
              "      <th>49</th>\n",
              "      <td>att_rating30</td>\n",
              "      <td>Treats me fairly</td>\n",
              "    </tr>\n",
              "    <tr>\n",
              "      <th>50</th>\n",
              "      <td>att_rating31</td>\n",
              "      <td>Provides a good value</td>\n",
              "    </tr>\n",
              "  </tbody>\n",
              "</table>\n",
              "</div>"
            ],
            "text/plain": [
              "        Variable                                         Unnamed: 1\n",
              "0            NaN        -99 is missing brand information for person\n",
              "1         respid                                      respondent id\n",
              "2        hq_cell  Revenue groups: 1- LT 100k, 2 - 100 - 250 K, 3...\n",
              "3        brandid                                             brands\n",
              "4            NaN                                         1. Advanta\n",
              "5            NaN                                            2. Amex\n",
              "6            NaN                                 3. Bank of America\n",
              "7            NaN                                           4. Chase\n",
              "8            NaN                                        5. Citibank\n",
              "9            NaN                                            6. HSBC\n",
              "10           NaN                                     7. Wells Fargo\n",
              "11           NaN                                   8. Other Primary\n",
              "12           NaN                                 9. Other Secondary\n",
              "13     origbrand  same as brand id except for 8 and 9:  8 and 9 ...\n",
              "14       pri_sec  Primary/Secondary flag: 1 - Primary, 2- Second...\n",
              "15            q6  Competitive Preference :  1 - Storngly Prefer ...\n",
              "16           NaN  Note:  respondent has same q6 value for all re...\n",
              "17      consider  Likely to conisder/continue to use:  1: Defeni...\n",
              "18       Ratings                      1 - low, 2 medium 3 high 4 DK\n",
              "19           NaN                                                NaN\n",
              "20   att_rating1                Provides easy access to my accounts\n",
              "21   att_rating2  Offers access to my accounts through multiple ...\n",
              "22   att_rating3  Has the financial products I need for my business\n",
              "23   att_rating4       Helps me manage the cash flow of my business\n",
              "24   att_rating5                                            Is cool\n",
              "25   att_rating6                              Is an emerging Leader\n",
              "26   att_rating7                                      Is innovative\n",
              "27   att_rating8                      Provides personalized service\n",
              "28   att_rating9                                     Is trustworthy\n",
              "29  att_rating10                 Is responsive to my business needs\n",
              "30  att_rating11                       Is an advisor to my business\n",
              "31  att_rating12                      Understands my business needs\n",
              "32  att_rating13                   Helps solve my business problems\n",
              "33  att_rating14                    Looks out for my best interests\n",
              "34  att_rating15                           Is a prestigious company\n",
              "35  att_rating16               Makes me feel like a valued customer\n",
              "36  att_rating17        Recognizes me as a person and as a business\n",
              "37  att_rating18               Rewards me for being a good customer\n",
              "38  att_rating19  Provides rewards programs best suited for my b...\n",
              "39  att_rating20                 Offers an easy application process\n",
              "40  att_rating21                Provides excellent customer service\n",
              "41  att_rating22     Makes it easy to get financing for my business\n",
              "42  att_rating23      Communications are straight forward and clear\n",
              "43  att_rating24       Provides security for my account information\n",
              "44  att_rating25                               Makes my life easier\n",
              "45  att_rating26             Makes it easy to invest in my business\n",
              "46  att_rating27        Offers a quick application approval process\n",
              "47  att_rating28                                Has reasonable fees\n",
              "48  att_rating29              Offers the best rates on its products\n",
              "49  att_rating30                                   Treats me fairly\n",
              "50  att_rating31                              Provides a good value"
            ]
          },
          "metadata": {
            "tags": []
          },
          "execution_count": 13
        }
      ]
    },
    {
      "cell_type": "code",
      "metadata": {
        "id": "1P7NMe947Jpa",
        "outputId": "5596ccb6-0473-498d-9769-77a6e72174f9"
      },
      "source": [
        "Cols = [\"Revenue Group\",\"Brand_id\",\"Pvs.S\",\"Competitive Preference\",\"Consider\",\"Easy Access\",\"Multi-Channels\",\"Fin_Products\",\"Cash Flow\",\"Cool\",\"Leader\",\"Innovative\",\"Personalized\",\"Trustworthy\",\"Responsive\",\"Advisor\",\"Understands Needs\",\"Problem Solver\",\"Best Interest\",\"Prestigious\",\"Feel Valued\",\"Personal\",\"Rewards\",\"Rewards Program\",\"Easy App\",\"Cust Service\",\"Financing\",\"Clear Comm\",\"Security\",\"Easier Life\",\"Easy To Invest\",\"Quick App\",\"Fees\",\"best Rates\",\"Fair\",\"Value\"]\n",
        "len(Cols)"
      ],
      "execution_count": null,
      "outputs": [
        {
          "output_type": "execute_result",
          "data": {
            "text/plain": [
              "36"
            ]
          },
          "metadata": {
            "tags": []
          },
          "execution_count": 14
        }
      ]
    },
    {
      "cell_type": "code",
      "metadata": {
        "id": "XNu6RnIQ7Jpb",
        "outputId": "cdfd9915-7cd0-4df9-d8c7-981e633aa04d"
      },
      "source": [
        "datacleanup.columns = Cols\n",
        "datacleanup.info()"
      ],
      "execution_count": null,
      "outputs": [
        {
          "output_type": "stream",
          "text": [
            "<class 'pandas.core.frame.DataFrame'>\n",
            "RangeIndex: 5949 entries, 0 to 5948\n",
            "Data columns (total 36 columns):\n",
            " #   Column                  Non-Null Count  Dtype  \n",
            "---  ------                  --------------  -----  \n",
            " 0   Revenue Group           5949 non-null   int64  \n",
            " 1   Brand_id                5949 non-null   int64  \n",
            " 2   Pvs.S                   3382 non-null   float64\n",
            " 3   Competitive Preference  5949 non-null   int64  \n",
            " 4   Consider                4305 non-null   float64\n",
            " 5   Easy Access             3382 non-null   float64\n",
            " 6   Multi-Channels          3382 non-null   float64\n",
            " 7   Fin_Products            3382 non-null   float64\n",
            " 8   Cash Flow               3382 non-null   float64\n",
            " 9   Cool                    3382 non-null   float64\n",
            " 10  Leader                  3382 non-null   float64\n",
            " 11  Innovative              3382 non-null   float64\n",
            " 12  Personalized            3382 non-null   float64\n",
            " 13  Trustworthy             3382 non-null   float64\n",
            " 14  Responsive              3382 non-null   float64\n",
            " 15  Advisor                 3382 non-null   float64\n",
            " 16  Understands Needs       3382 non-null   float64\n",
            " 17  Problem Solver          3382 non-null   float64\n",
            " 18  Best Interest           3382 non-null   float64\n",
            " 19  Prestigious             3382 non-null   float64\n",
            " 20  Feel Valued             3382 non-null   float64\n",
            " 21  Personal                3382 non-null   float64\n",
            " 22  Rewards                 3382 non-null   float64\n",
            " 23  Rewards Program         3382 non-null   float64\n",
            " 24  Easy App                3382 non-null   float64\n",
            " 25  Cust Service            3382 non-null   float64\n",
            " 26  Financing               3382 non-null   float64\n",
            " 27  Clear Comm              3382 non-null   float64\n",
            " 28  Security                3382 non-null   float64\n",
            " 29  Easier Life             3382 non-null   float64\n",
            " 30  Easy To Invest          3382 non-null   float64\n",
            " 31  Quick App               3382 non-null   float64\n",
            " 32  Fees                    3382 non-null   float64\n",
            " 33  best Rates              3382 non-null   float64\n",
            " 34  Fair                    3382 non-null   float64\n",
            " 35  Value                   3382 non-null   float64\n",
            "dtypes: float64(33), int64(3)\n",
            "memory usage: 1.6 MB\n"
          ],
          "name": "stdout"
        }
      ]
    },
    {
      "cell_type": "code",
      "metadata": {
        "id": "avhI87lO7Jpc",
        "outputId": "006de8b3-babd-4b0b-857b-b6cb386ab242"
      },
      "source": [
        "datacleanup[\"Pvs.S\"].describe()"
      ],
      "execution_count": null,
      "outputs": [
        {
          "output_type": "execute_result",
          "data": {
            "text/plain": [
              "count    3382.000000\n",
              "mean        0.586339\n",
              "std         0.796006\n",
              "min         0.000000\n",
              "25%         0.000000\n",
              "50%         0.000000\n",
              "75%         1.000000\n",
              "max         2.000000\n",
              "Name: Pvs.S, dtype: float64"
            ]
          },
          "metadata": {
            "tags": []
          },
          "execution_count": 16
        }
      ]
    },
    {
      "cell_type": "code",
      "metadata": {
        "id": "cc5ZoGza7Jpc"
      },
      "source": [
        "datacleanup = datacleanup.drop([\"Pvs.S\"], axis=1)"
      ],
      "execution_count": null,
      "outputs": []
    },
    {
      "cell_type": "code",
      "metadata": {
        "id": "o26v_xaB7Jpd",
        "outputId": "49c5efba-f249-4f39-9405-25e2296cc478"
      },
      "source": [
        "datacleanup[\"Consider\"].describe()"
      ],
      "execution_count": null,
      "outputs": [
        {
          "output_type": "execute_result",
          "data": {
            "text/plain": [
              "count    4305.000000\n",
              "mean        8.009988\n",
              "std         2.816762\n",
              "min         1.000000\n",
              "25%         6.000000\n",
              "50%         9.000000\n",
              "75%        11.000000\n",
              "max        12.000000\n",
              "Name: Consider, dtype: float64"
            ]
          },
          "metadata": {
            "tags": []
          },
          "execution_count": 18
        }
      ]
    },
    {
      "cell_type": "code",
      "metadata": {
        "id": "kJzBD-TO7Jpg"
      },
      "source": [
        "#dropping any columns we can't learn from\n",
        "datacleanup = datacleanup.dropna(subset = [\"Consider\"])"
      ],
      "execution_count": null,
      "outputs": []
    },
    {
      "cell_type": "code",
      "metadata": {
        "id": "TrKeDMl97Jpg",
        "outputId": "e1a07860-7216-4f63-e2eb-b9b79ab616de"
      },
      "source": [
        "datacleanup.info()"
      ],
      "execution_count": null,
      "outputs": [
        {
          "output_type": "stream",
          "text": [
            "<class 'pandas.core.frame.DataFrame'>\n",
            "Int64Index: 4305 entries, 1 to 5948\n",
            "Data columns (total 35 columns):\n",
            " #   Column                  Non-Null Count  Dtype  \n",
            "---  ------                  --------------  -----  \n",
            " 0   Revenue Group           4305 non-null   int64  \n",
            " 1   Brand_id                4305 non-null   int64  \n",
            " 2   Competitive Preference  4305 non-null   int64  \n",
            " 3   Consider                4305 non-null   float64\n",
            " 4   Easy Access             3327 non-null   float64\n",
            " 5   Multi-Channels          3327 non-null   float64\n",
            " 6   Fin_Products            3327 non-null   float64\n",
            " 7   Cash Flow               3327 non-null   float64\n",
            " 8   Cool                    3327 non-null   float64\n",
            " 9   Leader                  3327 non-null   float64\n",
            " 10  Innovative              3327 non-null   float64\n",
            " 11  Personalized            3327 non-null   float64\n",
            " 12  Trustworthy             3327 non-null   float64\n",
            " 13  Responsive              3327 non-null   float64\n",
            " 14  Advisor                 3327 non-null   float64\n",
            " 15  Understands Needs       3327 non-null   float64\n",
            " 16  Problem Solver          3327 non-null   float64\n",
            " 17  Best Interest           3327 non-null   float64\n",
            " 18  Prestigious             3327 non-null   float64\n",
            " 19  Feel Valued             3327 non-null   float64\n",
            " 20  Personal                3327 non-null   float64\n",
            " 21  Rewards                 3327 non-null   float64\n",
            " 22  Rewards Program         3327 non-null   float64\n",
            " 23  Easy App                3327 non-null   float64\n",
            " 24  Cust Service            3327 non-null   float64\n",
            " 25  Financing               3327 non-null   float64\n",
            " 26  Clear Comm              3327 non-null   float64\n",
            " 27  Security                3327 non-null   float64\n",
            " 28  Easier Life             3327 non-null   float64\n",
            " 29  Easy To Invest          3327 non-null   float64\n",
            " 30  Quick App               3327 non-null   float64\n",
            " 31  Fees                    3327 non-null   float64\n",
            " 32  best Rates              3327 non-null   float64\n",
            " 33  Fair                    3327 non-null   float64\n",
            " 34  Value                   3327 non-null   float64\n",
            "dtypes: float64(32), int64(3)\n",
            "memory usage: 1.2 MB\n"
          ],
          "name": "stdout"
        }
      ]
    },
    {
      "cell_type": "code",
      "metadata": {
        "id": "xn9b0WiE7Jpg",
        "outputId": "a1f07ff2-a3ee-4a92-f2bf-6743505c9f5c"
      },
      "source": [
        "datacleanup"
      ],
      "execution_count": null,
      "outputs": [
        {
          "output_type": "execute_result",
          "data": {
            "text/html": [
              "<div>\n",
              "<style scoped>\n",
              "    .dataframe tbody tr th:only-of-type {\n",
              "        vertical-align: middle;\n",
              "    }\n",
              "\n",
              "    .dataframe tbody tr th {\n",
              "        vertical-align: top;\n",
              "    }\n",
              "\n",
              "    .dataframe thead th {\n",
              "        text-align: right;\n",
              "    }\n",
              "</style>\n",
              "<table border=\"1\" class=\"dataframe\">\n",
              "  <thead>\n",
              "    <tr style=\"text-align: right;\">\n",
              "      <th></th>\n",
              "      <th>Revenue Group</th>\n",
              "      <th>Brand_id</th>\n",
              "      <th>Competitive Preference</th>\n",
              "      <th>Consider</th>\n",
              "      <th>Easy Access</th>\n",
              "      <th>Multi-Channels</th>\n",
              "      <th>Fin_Products</th>\n",
              "      <th>Cash Flow</th>\n",
              "      <th>Cool</th>\n",
              "      <th>Leader</th>\n",
              "      <th>...</th>\n",
              "      <th>Financing</th>\n",
              "      <th>Clear Comm</th>\n",
              "      <th>Security</th>\n",
              "      <th>Easier Life</th>\n",
              "      <th>Easy To Invest</th>\n",
              "      <th>Quick App</th>\n",
              "      <th>Fees</th>\n",
              "      <th>best Rates</th>\n",
              "      <th>Fair</th>\n",
              "      <th>Value</th>\n",
              "    </tr>\n",
              "  </thead>\n",
              "  <tbody>\n",
              "    <tr>\n",
              "      <th>1</th>\n",
              "      <td>3</td>\n",
              "      <td>2</td>\n",
              "      <td>6</td>\n",
              "      <td>9.0</td>\n",
              "      <td>4.0</td>\n",
              "      <td>4.0</td>\n",
              "      <td>4.0</td>\n",
              "      <td>4.0</td>\n",
              "      <td>2.0</td>\n",
              "      <td>3.0</td>\n",
              "      <td>...</td>\n",
              "      <td>4.0</td>\n",
              "      <td>4.0</td>\n",
              "      <td>4.0</td>\n",
              "      <td>4.0</td>\n",
              "      <td>4.0</td>\n",
              "      <td>4.0</td>\n",
              "      <td>4.0</td>\n",
              "      <td>4.0</td>\n",
              "      <td>4.0</td>\n",
              "      <td>4.0</td>\n",
              "    </tr>\n",
              "    <tr>\n",
              "      <th>2</th>\n",
              "      <td>3</td>\n",
              "      <td>3</td>\n",
              "      <td>6</td>\n",
              "      <td>11.0</td>\n",
              "      <td>3.0</td>\n",
              "      <td>3.0</td>\n",
              "      <td>2.0</td>\n",
              "      <td>3.0</td>\n",
              "      <td>3.0</td>\n",
              "      <td>3.0</td>\n",
              "      <td>...</td>\n",
              "      <td>3.0</td>\n",
              "      <td>2.0</td>\n",
              "      <td>3.0</td>\n",
              "      <td>3.0</td>\n",
              "      <td>3.0</td>\n",
              "      <td>3.0</td>\n",
              "      <td>3.0</td>\n",
              "      <td>3.0</td>\n",
              "      <td>3.0</td>\n",
              "      <td>3.0</td>\n",
              "    </tr>\n",
              "    <tr>\n",
              "      <th>3</th>\n",
              "      <td>3</td>\n",
              "      <td>4</td>\n",
              "      <td>6</td>\n",
              "      <td>11.0</td>\n",
              "      <td>3.0</td>\n",
              "      <td>2.0</td>\n",
              "      <td>2.0</td>\n",
              "      <td>3.0</td>\n",
              "      <td>2.0</td>\n",
              "      <td>2.0</td>\n",
              "      <td>...</td>\n",
              "      <td>3.0</td>\n",
              "      <td>2.0</td>\n",
              "      <td>3.0</td>\n",
              "      <td>3.0</td>\n",
              "      <td>2.0</td>\n",
              "      <td>2.0</td>\n",
              "      <td>3.0</td>\n",
              "      <td>2.0</td>\n",
              "      <td>3.0</td>\n",
              "      <td>3.0</td>\n",
              "    </tr>\n",
              "    <tr>\n",
              "      <th>4</th>\n",
              "      <td>3</td>\n",
              "      <td>5</td>\n",
              "      <td>6</td>\n",
              "      <td>11.0</td>\n",
              "      <td>NaN</td>\n",
              "      <td>NaN</td>\n",
              "      <td>NaN</td>\n",
              "      <td>NaN</td>\n",
              "      <td>NaN</td>\n",
              "      <td>NaN</td>\n",
              "      <td>...</td>\n",
              "      <td>NaN</td>\n",
              "      <td>NaN</td>\n",
              "      <td>NaN</td>\n",
              "      <td>NaN</td>\n",
              "      <td>NaN</td>\n",
              "      <td>NaN</td>\n",
              "      <td>NaN</td>\n",
              "      <td>NaN</td>\n",
              "      <td>NaN</td>\n",
              "      <td>NaN</td>\n",
              "    </tr>\n",
              "    <tr>\n",
              "      <th>5</th>\n",
              "      <td>3</td>\n",
              "      <td>6</td>\n",
              "      <td>6</td>\n",
              "      <td>11.0</td>\n",
              "      <td>3.0</td>\n",
              "      <td>3.0</td>\n",
              "      <td>3.0</td>\n",
              "      <td>2.0</td>\n",
              "      <td>3.0</td>\n",
              "      <td>3.0</td>\n",
              "      <td>...</td>\n",
              "      <td>3.0</td>\n",
              "      <td>3.0</td>\n",
              "      <td>3.0</td>\n",
              "      <td>3.0</td>\n",
              "      <td>2.0</td>\n",
              "      <td>3.0</td>\n",
              "      <td>2.0</td>\n",
              "      <td>3.0</td>\n",
              "      <td>2.0</td>\n",
              "      <td>2.0</td>\n",
              "    </tr>\n",
              "    <tr>\n",
              "      <th>...</th>\n",
              "      <td>...</td>\n",
              "      <td>...</td>\n",
              "      <td>...</td>\n",
              "      <td>...</td>\n",
              "      <td>...</td>\n",
              "      <td>...</td>\n",
              "      <td>...</td>\n",
              "      <td>...</td>\n",
              "      <td>...</td>\n",
              "      <td>...</td>\n",
              "      <td>...</td>\n",
              "      <td>...</td>\n",
              "      <td>...</td>\n",
              "      <td>...</td>\n",
              "      <td>...</td>\n",
              "      <td>...</td>\n",
              "      <td>...</td>\n",
              "      <td>...</td>\n",
              "      <td>...</td>\n",
              "      <td>...</td>\n",
              "      <td>...</td>\n",
              "    </tr>\n",
              "    <tr>\n",
              "      <th>5942</th>\n",
              "      <td>2</td>\n",
              "      <td>3</td>\n",
              "      <td>3</td>\n",
              "      <td>7.0</td>\n",
              "      <td>3.0</td>\n",
              "      <td>3.0</td>\n",
              "      <td>3.0</td>\n",
              "      <td>2.0</td>\n",
              "      <td>2.0</td>\n",
              "      <td>2.0</td>\n",
              "      <td>...</td>\n",
              "      <td>2.0</td>\n",
              "      <td>3.0</td>\n",
              "      <td>3.0</td>\n",
              "      <td>2.0</td>\n",
              "      <td>3.0</td>\n",
              "      <td>4.0</td>\n",
              "      <td>3.0</td>\n",
              "      <td>4.0</td>\n",
              "      <td>4.0</td>\n",
              "      <td>4.0</td>\n",
              "    </tr>\n",
              "    <tr>\n",
              "      <th>5944</th>\n",
              "      <td>2</td>\n",
              "      <td>5</td>\n",
              "      <td>3</td>\n",
              "      <td>6.0</td>\n",
              "      <td>3.0</td>\n",
              "      <td>3.0</td>\n",
              "      <td>3.0</td>\n",
              "      <td>2.0</td>\n",
              "      <td>3.0</td>\n",
              "      <td>3.0</td>\n",
              "      <td>...</td>\n",
              "      <td>3.0</td>\n",
              "      <td>3.0</td>\n",
              "      <td>3.0</td>\n",
              "      <td>2.0</td>\n",
              "      <td>3.0</td>\n",
              "      <td>4.0</td>\n",
              "      <td>3.0</td>\n",
              "      <td>4.0</td>\n",
              "      <td>4.0</td>\n",
              "      <td>4.0</td>\n",
              "    </tr>\n",
              "    <tr>\n",
              "      <th>5946</th>\n",
              "      <td>2</td>\n",
              "      <td>7</td>\n",
              "      <td>3</td>\n",
              "      <td>8.0</td>\n",
              "      <td>3.0</td>\n",
              "      <td>3.0</td>\n",
              "      <td>3.0</td>\n",
              "      <td>2.0</td>\n",
              "      <td>3.0</td>\n",
              "      <td>2.0</td>\n",
              "      <td>...</td>\n",
              "      <td>2.0</td>\n",
              "      <td>3.0</td>\n",
              "      <td>3.0</td>\n",
              "      <td>2.0</td>\n",
              "      <td>3.0</td>\n",
              "      <td>4.0</td>\n",
              "      <td>3.0</td>\n",
              "      <td>4.0</td>\n",
              "      <td>4.0</td>\n",
              "      <td>4.0</td>\n",
              "    </tr>\n",
              "    <tr>\n",
              "      <th>5947</th>\n",
              "      <td>2</td>\n",
              "      <td>8</td>\n",
              "      <td>3</td>\n",
              "      <td>11.0</td>\n",
              "      <td>3.0</td>\n",
              "      <td>3.0</td>\n",
              "      <td>3.0</td>\n",
              "      <td>3.0</td>\n",
              "      <td>2.0</td>\n",
              "      <td>2.0</td>\n",
              "      <td>...</td>\n",
              "      <td>3.0</td>\n",
              "      <td>3.0</td>\n",
              "      <td>3.0</td>\n",
              "      <td>3.0</td>\n",
              "      <td>3.0</td>\n",
              "      <td>3.0</td>\n",
              "      <td>3.0</td>\n",
              "      <td>3.0</td>\n",
              "      <td>3.0</td>\n",
              "      <td>3.0</td>\n",
              "    </tr>\n",
              "    <tr>\n",
              "      <th>5948</th>\n",
              "      <td>2</td>\n",
              "      <td>9</td>\n",
              "      <td>3</td>\n",
              "      <td>11.0</td>\n",
              "      <td>3.0</td>\n",
              "      <td>3.0</td>\n",
              "      <td>3.0</td>\n",
              "      <td>3.0</td>\n",
              "      <td>2.0</td>\n",
              "      <td>3.0</td>\n",
              "      <td>...</td>\n",
              "      <td>3.0</td>\n",
              "      <td>3.0</td>\n",
              "      <td>3.0</td>\n",
              "      <td>2.0</td>\n",
              "      <td>3.0</td>\n",
              "      <td>3.0</td>\n",
              "      <td>3.0</td>\n",
              "      <td>3.0</td>\n",
              "      <td>3.0</td>\n",
              "      <td>3.0</td>\n",
              "    </tr>\n",
              "  </tbody>\n",
              "</table>\n",
              "<p>4305 rows × 35 columns</p>\n",
              "</div>"
            ],
            "text/plain": [
              "      Revenue Group  Brand_id  Competitive Preference  Consider  Easy Access  \\\n",
              "1                 3         2                       6       9.0          4.0   \n",
              "2                 3         3                       6      11.0          3.0   \n",
              "3                 3         4                       6      11.0          3.0   \n",
              "4                 3         5                       6      11.0          NaN   \n",
              "5                 3         6                       6      11.0          3.0   \n",
              "...             ...       ...                     ...       ...          ...   \n",
              "5942              2         3                       3       7.0          3.0   \n",
              "5944              2         5                       3       6.0          3.0   \n",
              "5946              2         7                       3       8.0          3.0   \n",
              "5947              2         8                       3      11.0          3.0   \n",
              "5948              2         9                       3      11.0          3.0   \n",
              "\n",
              "      Multi-Channels  Fin_Products  Cash Flow  Cool  Leader  ...  Financing  \\\n",
              "1                4.0           4.0        4.0   2.0     3.0  ...        4.0   \n",
              "2                3.0           2.0        3.0   3.0     3.0  ...        3.0   \n",
              "3                2.0           2.0        3.0   2.0     2.0  ...        3.0   \n",
              "4                NaN           NaN        NaN   NaN     NaN  ...        NaN   \n",
              "5                3.0           3.0        2.0   3.0     3.0  ...        3.0   \n",
              "...              ...           ...        ...   ...     ...  ...        ...   \n",
              "5942             3.0           3.0        2.0   2.0     2.0  ...        2.0   \n",
              "5944             3.0           3.0        2.0   3.0     3.0  ...        3.0   \n",
              "5946             3.0           3.0        2.0   3.0     2.0  ...        2.0   \n",
              "5947             3.0           3.0        3.0   2.0     2.0  ...        3.0   \n",
              "5948             3.0           3.0        3.0   2.0     3.0  ...        3.0   \n",
              "\n",
              "      Clear Comm  Security  Easier Life  Easy To Invest  Quick App  Fees  \\\n",
              "1            4.0       4.0          4.0             4.0        4.0   4.0   \n",
              "2            2.0       3.0          3.0             3.0        3.0   3.0   \n",
              "3            2.0       3.0          3.0             2.0        2.0   3.0   \n",
              "4            NaN       NaN          NaN             NaN        NaN   NaN   \n",
              "5            3.0       3.0          3.0             2.0        3.0   2.0   \n",
              "...          ...       ...          ...             ...        ...   ...   \n",
              "5942         3.0       3.0          2.0             3.0        4.0   3.0   \n",
              "5944         3.0       3.0          2.0             3.0        4.0   3.0   \n",
              "5946         3.0       3.0          2.0             3.0        4.0   3.0   \n",
              "5947         3.0       3.0          3.0             3.0        3.0   3.0   \n",
              "5948         3.0       3.0          2.0             3.0        3.0   3.0   \n",
              "\n",
              "      best Rates  Fair  Value  \n",
              "1            4.0   4.0    4.0  \n",
              "2            3.0   3.0    3.0  \n",
              "3            2.0   3.0    3.0  \n",
              "4            NaN   NaN    NaN  \n",
              "5            3.0   2.0    2.0  \n",
              "...          ...   ...    ...  \n",
              "5942         4.0   4.0    4.0  \n",
              "5944         4.0   4.0    4.0  \n",
              "5946         4.0   4.0    4.0  \n",
              "5947         3.0   3.0    3.0  \n",
              "5948         3.0   3.0    3.0  \n",
              "\n",
              "[4305 rows x 35 columns]"
            ]
          },
          "metadata": {
            "tags": []
          },
          "execution_count": 21
        }
      ]
    },
    {
      "cell_type": "markdown",
      "metadata": {
        "id": "NQWg4EBb7Jph"
      },
      "source": [
        "We can see above that for some rows it looks like th majority of the row is null apart from the first few columns. Becasue these rows will likely not contribute much to the model, and imputing them will skew the data, I will drop rows with null values for at least five attributes."
      ]
    },
    {
      "cell_type": "code",
      "metadata": {
        "id": "FTLOwW467Jpi"
      },
      "source": [
        "datacleanup = datacleanup.dropna(thresh=5)"
      ],
      "execution_count": null,
      "outputs": []
    },
    {
      "cell_type": "code",
      "metadata": {
        "id": "azSQ0giV7Jpi",
        "outputId": "eb930240-9a2b-4721-e025-a117609ce1c9"
      },
      "source": [
        "datacleanup.info()"
      ],
      "execution_count": null,
      "outputs": [
        {
          "output_type": "stream",
          "text": [
            "<class 'pandas.core.frame.DataFrame'>\n",
            "Int64Index: 3327 entries, 1 to 5948\n",
            "Data columns (total 35 columns):\n",
            " #   Column                  Non-Null Count  Dtype  \n",
            "---  ------                  --------------  -----  \n",
            " 0   Revenue Group           3327 non-null   int64  \n",
            " 1   Brand_id                3327 non-null   int64  \n",
            " 2   Competitive Preference  3327 non-null   int64  \n",
            " 3   Consider                3327 non-null   float64\n",
            " 4   Easy Access             3327 non-null   float64\n",
            " 5   Multi-Channels          3327 non-null   float64\n",
            " 6   Fin_Products            3327 non-null   float64\n",
            " 7   Cash Flow               3327 non-null   float64\n",
            " 8   Cool                    3327 non-null   float64\n",
            " 9   Leader                  3327 non-null   float64\n",
            " 10  Innovative              3327 non-null   float64\n",
            " 11  Personalized            3327 non-null   float64\n",
            " 12  Trustworthy             3327 non-null   float64\n",
            " 13  Responsive              3327 non-null   float64\n",
            " 14  Advisor                 3327 non-null   float64\n",
            " 15  Understands Needs       3327 non-null   float64\n",
            " 16  Problem Solver          3327 non-null   float64\n",
            " 17  Best Interest           3327 non-null   float64\n",
            " 18  Prestigious             3327 non-null   float64\n",
            " 19  Feel Valued             3327 non-null   float64\n",
            " 20  Personal                3327 non-null   float64\n",
            " 21  Rewards                 3327 non-null   float64\n",
            " 22  Rewards Program         3327 non-null   float64\n",
            " 23  Easy App                3327 non-null   float64\n",
            " 24  Cust Service            3327 non-null   float64\n",
            " 25  Financing               3327 non-null   float64\n",
            " 26  Clear Comm              3327 non-null   float64\n",
            " 27  Security                3327 non-null   float64\n",
            " 28  Easier Life             3327 non-null   float64\n",
            " 29  Easy To Invest          3327 non-null   float64\n",
            " 30  Quick App               3327 non-null   float64\n",
            " 31  Fees                    3327 non-null   float64\n",
            " 32  best Rates              3327 non-null   float64\n",
            " 33  Fair                    3327 non-null   float64\n",
            " 34  Value                   3327 non-null   float64\n",
            "dtypes: float64(32), int64(3)\n",
            "memory usage: 935.7 KB\n"
          ],
          "name": "stdout"
        }
      ]
    },
    {
      "cell_type": "code",
      "metadata": {
        "id": "zDq89M8U7Jpi",
        "outputId": "13f1ab51-f2c5-4bac-aeda-c2c7d11c7ed9"
      },
      "source": [
        "datacleanup['Brand_id'] = datacleanup['Brand_id'].replace(1, \"Advanta\")\n",
        "datacleanup['Brand_id'] = datacleanup['Brand_id'].replace(2, \"Amex\")\n",
        "datacleanup['Brand_id'] = datacleanup['Brand_id'].replace(3, \"Bank of America\")\n",
        "datacleanup['Brand_id'] = datacleanup['Brand_id'].replace(4, \"Chase\")\n",
        "datacleanup['Brand_id'] = datacleanup['Brand_id'].replace(5, \"Citibank\")\n",
        "datacleanup['Brand_id'] = datacleanup['Brand_id'].replace(6, \"HSBC\")\n",
        "datacleanup['Brand_id'] = datacleanup['Brand_id'].replace(7, \"Wells Fargo\")\n",
        "datacleanup['Brand_id'] = datacleanup['Brand_id'].replace(8, \"Other Primary\")\n",
        "datacleanup['Brand_id'] = datacleanup['Brand_id'].replace(9, \"Other Secondary\")\n",
        "datacleanup['Brand_id']"
      ],
      "execution_count": null,
      "outputs": [
        {
          "output_type": "execute_result",
          "data": {
            "text/plain": [
              "1                  Amex\n",
              "2       Bank of America\n",
              "3                 Chase\n",
              "5                  HSBC\n",
              "6           Wells Fargo\n",
              "             ...       \n",
              "5942    Bank of America\n",
              "5944           Citibank\n",
              "5946        Wells Fargo\n",
              "5947      Other Primary\n",
              "5948    Other Secondary\n",
              "Name: Brand_id, Length: 3327, dtype: object"
            ]
          },
          "metadata": {
            "tags": []
          },
          "execution_count": 24
        }
      ]
    },
    {
      "cell_type": "code",
      "metadata": {
        "id": "srlou_5Y7Jpj",
        "outputId": "cc472086-1287-44ac-8ba4-f38a837e5491"
      },
      "source": [
        "h = sns.PairGrid(data=datacleanup, x_vars=['Brand_id'], y_vars='Consider', size=10)\n",
        "h.map(sns.pointplot, color=\"Green\")"
      ],
      "execution_count": null,
      "outputs": [
        {
          "output_type": "execute_result",
          "data": {
            "text/plain": [
              "<seaborn.axisgrid.PairGrid at 0x7f87d9b53f70>"
            ]
          },
          "metadata": {
            "tags": []
          },
          "execution_count": 25
        },
        {
          "output_type": "display_data",
          "data": {
            "image/png": "[encoded data removed]",
            "text/plain": [
              "<Figure size 720x720 with 1 Axes>"
            ]
          },
          "metadata": {
            "tags": [],
            "needs_background": "light"
          }
        }
      ]
    },
    {
      "cell_type": "markdown",
      "metadata": {
        "id": "alcBzSIz7Jpj"
      },
      "source": [
        "We can see that apart from the \"Other Primary\" and \"Other Secondary\" Amex, Bank of America, and Citibank have the highest mean \"Consider\" score."
      ]
    },
    {
      "cell_type": "code",
      "metadata": {
        "id": "oKggEgjS7Jpj",
        "outputId": "243407b3-ef28-45df-9fe2-9844a11de158"
      },
      "source": [
        "dummies = pd.get_dummies(datacleanup['Brand_id'])\n",
        "datacleanup = pd.concat([dummies,datacleanup],axis=1)\n",
        "datacleanup"
      ],
      "execution_count": null,
      "outputs": [
        {
          "output_type": "execute_result",
          "data": {
            "text/html": [
              "<div>\n",
              "<style scoped>\n",
              "    .dataframe tbody tr th:only-of-type {\n",
              "        vertical-align: middle;\n",
              "    }\n",
              "\n",
              "    .dataframe tbody tr th {\n",
              "        vertical-align: top;\n",
              "    }\n",
              "\n",
              "    .dataframe thead th {\n",
              "        text-align: right;\n",
              "    }\n",
              "</style>\n",
              "<table border=\"1\" class=\"dataframe\">\n",
              "  <thead>\n",
              "    <tr style=\"text-align: right;\">\n",
              "      <th></th>\n",
              "      <th>Advanta</th>\n",
              "      <th>Amex</th>\n",
              "      <th>Bank of America</th>\n",
              "      <th>Chase</th>\n",
              "      <th>Citibank</th>\n",
              "      <th>HSBC</th>\n",
              "      <th>Other Primary</th>\n",
              "      <th>Other Secondary</th>\n",
              "      <th>Wells Fargo</th>\n",
              "      <th>Revenue Group</th>\n",
              "      <th>...</th>\n",
              "      <th>Financing</th>\n",
              "      <th>Clear Comm</th>\n",
              "      <th>Security</th>\n",
              "      <th>Easier Life</th>\n",
              "      <th>Easy To Invest</th>\n",
              "      <th>Quick App</th>\n",
              "      <th>Fees</th>\n",
              "      <th>best Rates</th>\n",
              "      <th>Fair</th>\n",
              "      <th>Value</th>\n",
              "    </tr>\n",
              "  </thead>\n",
              "  <tbody>\n",
              "    <tr>\n",
              "      <th>1</th>\n",
              "      <td>0</td>\n",
              "      <td>1</td>\n",
              "      <td>0</td>\n",
              "      <td>0</td>\n",
              "      <td>0</td>\n",
              "      <td>0</td>\n",
              "      <td>0</td>\n",
              "      <td>0</td>\n",
              "      <td>0</td>\n",
              "      <td>3</td>\n",
              "      <td>...</td>\n",
              "      <td>4.0</td>\n",
              "      <td>4.0</td>\n",
              "      <td>4.0</td>\n",
              "      <td>4.0</td>\n",
              "      <td>4.0</td>\n",
              "      <td>4.0</td>\n",
              "      <td>4.0</td>\n",
              "      <td>4.0</td>\n",
              "      <td>4.0</td>\n",
              "      <td>4.0</td>\n",
              "    </tr>\n",
              "    <tr>\n",
              "      <th>2</th>\n",
              "      <td>0</td>\n",
              "      <td>0</td>\n",
              "      <td>1</td>\n",
              "      <td>0</td>\n",
              "      <td>0</td>\n",
              "      <td>0</td>\n",
              "      <td>0</td>\n",
              "      <td>0</td>\n",
              "      <td>0</td>\n",
              "      <td>3</td>\n",
              "      <td>...</td>\n",
              "      <td>3.0</td>\n",
              "      <td>2.0</td>\n",
              "      <td>3.0</td>\n",
              "      <td>3.0</td>\n",
              "      <td>3.0</td>\n",
              "      <td>3.0</td>\n",
              "      <td>3.0</td>\n",
              "      <td>3.0</td>\n",
              "      <td>3.0</td>\n",
              "      <td>3.0</td>\n",
              "    </tr>\n",
              "    <tr>\n",
              "      <th>3</th>\n",
              "      <td>0</td>\n",
              "      <td>0</td>\n",
              "      <td>0</td>\n",
              "      <td>1</td>\n",
              "      <td>0</td>\n",
              "      <td>0</td>\n",
              "      <td>0</td>\n",
              "      <td>0</td>\n",
              "      <td>0</td>\n",
              "      <td>3</td>\n",
              "      <td>...</td>\n",
              "      <td>3.0</td>\n",
              "      <td>2.0</td>\n",
              "      <td>3.0</td>\n",
              "      <td>3.0</td>\n",
              "      <td>2.0</td>\n",
              "      <td>2.0</td>\n",
              "      <td>3.0</td>\n",
              "      <td>2.0</td>\n",
              "      <td>3.0</td>\n",
              "      <td>3.0</td>\n",
              "    </tr>\n",
              "    <tr>\n",
              "      <th>5</th>\n",
              "      <td>0</td>\n",
              "      <td>0</td>\n",
              "      <td>0</td>\n",
              "      <td>0</td>\n",
              "      <td>0</td>\n",
              "      <td>1</td>\n",
              "      <td>0</td>\n",
              "      <td>0</td>\n",
              "      <td>0</td>\n",
              "      <td>3</td>\n",
              "      <td>...</td>\n",
              "      <td>3.0</td>\n",
              "      <td>3.0</td>\n",
              "      <td>3.0</td>\n",
              "      <td>3.0</td>\n",
              "      <td>2.0</td>\n",
              "      <td>3.0</td>\n",
              "      <td>2.0</td>\n",
              "      <td>3.0</td>\n",
              "      <td>2.0</td>\n",
              "      <td>2.0</td>\n",
              "    </tr>\n",
              "    <tr>\n",
              "      <th>6</th>\n",
              "      <td>0</td>\n",
              "      <td>0</td>\n",
              "      <td>0</td>\n",
              "      <td>0</td>\n",
              "      <td>0</td>\n",
              "      <td>0</td>\n",
              "      <td>0</td>\n",
              "      <td>0</td>\n",
              "      <td>1</td>\n",
              "      <td>3</td>\n",
              "      <td>...</td>\n",
              "      <td>4.0</td>\n",
              "      <td>4.0</td>\n",
              "      <td>4.0</td>\n",
              "      <td>4.0</td>\n",
              "      <td>4.0</td>\n",
              "      <td>4.0</td>\n",
              "      <td>4.0</td>\n",
              "      <td>4.0</td>\n",
              "      <td>4.0</td>\n",
              "      <td>4.0</td>\n",
              "    </tr>\n",
              "    <tr>\n",
              "      <th>...</th>\n",
              "      <td>...</td>\n",
              "      <td>...</td>\n",
              "      <td>...</td>\n",
              "      <td>...</td>\n",
              "      <td>...</td>\n",
              "      <td>...</td>\n",
              "      <td>...</td>\n",
              "      <td>...</td>\n",
              "      <td>...</td>\n",
              "      <td>...</td>\n",
              "      <td>...</td>\n",
              "      <td>...</td>\n",
              "      <td>...</td>\n",
              "      <td>...</td>\n",
              "      <td>...</td>\n",
              "      <td>...</td>\n",
              "      <td>...</td>\n",
              "      <td>...</td>\n",
              "      <td>...</td>\n",
              "      <td>...</td>\n",
              "      <td>...</td>\n",
              "    </tr>\n",
              "    <tr>\n",
              "      <th>5942</th>\n",
              "      <td>0</td>\n",
              "      <td>0</td>\n",
              "      <td>1</td>\n",
              "      <td>0</td>\n",
              "      <td>0</td>\n",
              "      <td>0</td>\n",
              "      <td>0</td>\n",
              "      <td>0</td>\n",
              "      <td>0</td>\n",
              "      <td>2</td>\n",
              "      <td>...</td>\n",
              "      <td>2.0</td>\n",
              "      <td>3.0</td>\n",
              "      <td>3.0</td>\n",
              "      <td>2.0</td>\n",
              "      <td>3.0</td>\n",
              "      <td>4.0</td>\n",
              "      <td>3.0</td>\n",
              "      <td>4.0</td>\n",
              "      <td>4.0</td>\n",
              "      <td>4.0</td>\n",
              "    </tr>\n",
              "    <tr>\n",
              "      <th>5944</th>\n",
              "      <td>0</td>\n",
              "      <td>0</td>\n",
              "      <td>0</td>\n",
              "      <td>0</td>\n",
              "      <td>1</td>\n",
              "      <td>0</td>\n",
              "      <td>0</td>\n",
              "      <td>0</td>\n",
              "      <td>0</td>\n",
              "      <td>2</td>\n",
              "      <td>...</td>\n",
              "      <td>3.0</td>\n",
              "      <td>3.0</td>\n",
              "      <td>3.0</td>\n",
              "      <td>2.0</td>\n",
              "      <td>3.0</td>\n",
              "      <td>4.0</td>\n",
              "      <td>3.0</td>\n",
              "      <td>4.0</td>\n",
              "      <td>4.0</td>\n",
              "      <td>4.0</td>\n",
              "    </tr>\n",
              "    <tr>\n",
              "      <th>5946</th>\n",
              "      <td>0</td>\n",
              "      <td>0</td>\n",
              "      <td>0</td>\n",
              "      <td>0</td>\n",
              "      <td>0</td>\n",
              "      <td>0</td>\n",
              "      <td>0</td>\n",
              "      <td>0</td>\n",
              "      <td>1</td>\n",
              "      <td>2</td>\n",
              "      <td>...</td>\n",
              "      <td>2.0</td>\n",
              "      <td>3.0</td>\n",
              "      <td>3.0</td>\n",
              "      <td>2.0</td>\n",
              "      <td>3.0</td>\n",
              "      <td>4.0</td>\n",
              "      <td>3.0</td>\n",
              "      <td>4.0</td>\n",
              "      <td>4.0</td>\n",
              "      <td>4.0</td>\n",
              "    </tr>\n",
              "    <tr>\n",
              "      <th>5947</th>\n",
              "      <td>0</td>\n",
              "      <td>0</td>\n",
              "      <td>0</td>\n",
              "      <td>0</td>\n",
              "      <td>0</td>\n",
              "      <td>0</td>\n",
              "      <td>1</td>\n",
              "      <td>0</td>\n",
              "      <td>0</td>\n",
              "      <td>2</td>\n",
              "      <td>...</td>\n",
              "      <td>3.0</td>\n",
              "      <td>3.0</td>\n",
              "      <td>3.0</td>\n",
              "      <td>3.0</td>\n",
              "      <td>3.0</td>\n",
              "      <td>3.0</td>\n",
              "      <td>3.0</td>\n",
              "      <td>3.0</td>\n",
              "      <td>3.0</td>\n",
              "      <td>3.0</td>\n",
              "    </tr>\n",
              "    <tr>\n",
              "      <th>5948</th>\n",
              "      <td>0</td>\n",
              "      <td>0</td>\n",
              "      <td>0</td>\n",
              "      <td>0</td>\n",
              "      <td>0</td>\n",
              "      <td>0</td>\n",
              "      <td>0</td>\n",
              "      <td>1</td>\n",
              "      <td>0</td>\n",
              "      <td>2</td>\n",
              "      <td>...</td>\n",
              "      <td>3.0</td>\n",
              "      <td>3.0</td>\n",
              "      <td>3.0</td>\n",
              "      <td>2.0</td>\n",
              "      <td>3.0</td>\n",
              "      <td>3.0</td>\n",
              "      <td>3.0</td>\n",
              "      <td>3.0</td>\n",
              "      <td>3.0</td>\n",
              "      <td>3.0</td>\n",
              "    </tr>\n",
              "  </tbody>\n",
              "</table>\n",
              "<p>3327 rows × 44 columns</p>\n",
              "</div>"
            ],
            "text/plain": [
              "      Advanta  Amex  Bank of America  Chase  Citibank  HSBC  Other Primary  \\\n",
              "1           0     1                0      0         0     0              0   \n",
              "2           0     0                1      0         0     0              0   \n",
              "3           0     0                0      1         0     0              0   \n",
              "5           0     0                0      0         0     1              0   \n",
              "6           0     0                0      0         0     0              0   \n",
              "...       ...   ...              ...    ...       ...   ...            ...   \n",
              "5942        0     0                1      0         0     0              0   \n",
              "5944        0     0                0      0         1     0              0   \n",
              "5946        0     0                0      0         0     0              0   \n",
              "5947        0     0                0      0         0     0              1   \n",
              "5948        0     0                0      0         0     0              0   \n",
              "\n",
              "      Other Secondary  Wells Fargo  Revenue Group  ... Financing  Clear Comm  \\\n",
              "1                   0            0              3  ...       4.0         4.0   \n",
              "2                   0            0              3  ...       3.0         2.0   \n",
              "3                   0            0              3  ...       3.0         2.0   \n",
              "5                   0            0              3  ...       3.0         3.0   \n",
              "6                   0            1              3  ...       4.0         4.0   \n",
              "...               ...          ...            ...  ...       ...         ...   \n",
              "5942                0            0              2  ...       2.0         3.0   \n",
              "5944                0            0              2  ...       3.0         3.0   \n",
              "5946                0            1              2  ...       2.0         3.0   \n",
              "5947                0            0              2  ...       3.0         3.0   \n",
              "5948                1            0              2  ...       3.0         3.0   \n",
              "\n",
              "      Security  Easier Life  Easy To Invest  Quick App  Fees  best Rates  \\\n",
              "1          4.0          4.0             4.0        4.0   4.0         4.0   \n",
              "2          3.0          3.0             3.0        3.0   3.0         3.0   \n",
              "3          3.0          3.0             2.0        2.0   3.0         2.0   \n",
              "5          3.0          3.0             2.0        3.0   2.0         3.0   \n",
              "6          4.0          4.0             4.0        4.0   4.0         4.0   \n",
              "...        ...          ...             ...        ...   ...         ...   \n",
              "5942       3.0          2.0             3.0        4.0   3.0         4.0   \n",
              "5944       3.0          2.0             3.0        4.0   3.0         4.0   \n",
              "5946       3.0          2.0             3.0        4.0   3.0         4.0   \n",
              "5947       3.0          3.0             3.0        3.0   3.0         3.0   \n",
              "5948       3.0          2.0             3.0        3.0   3.0         3.0   \n",
              "\n",
              "      Fair  Value  \n",
              "1      4.0    4.0  \n",
              "2      3.0    3.0  \n",
              "3      3.0    3.0  \n",
              "5      2.0    2.0  \n",
              "6      4.0    4.0  \n",
              "...    ...    ...  \n",
              "5942   4.0    4.0  \n",
              "5944   4.0    4.0  \n",
              "5946   4.0    4.0  \n",
              "5947   3.0    3.0  \n",
              "5948   3.0    3.0  \n",
              "\n",
              "[3327 rows x 44 columns]"
            ]
          },
          "metadata": {
            "tags": []
          },
          "execution_count": 26
        }
      ]
    },
    {
      "cell_type": "code",
      "metadata": {
        "id": "2GU1Yjey7Jpl"
      },
      "source": [
        "datacleanup = datacleanup.drop(['Brand_id'], axis=1)"
      ],
      "execution_count": null,
      "outputs": []
    },
    {
      "cell_type": "markdown",
      "metadata": {
        "id": "vfc3Hk2A7Jpl"
      },
      "source": [
        "Because some models would interpret the 1:9 scoring of the brand ids as having a linear relationship associated with the target variable, \"consider\", we are using dummy variables to account for the brands."
      ]
    },
    {
      "cell_type": "code",
      "metadata": {
        "id": "SI3rp49A7Jpm",
        "outputId": "73368eec-f9d5-4563-a545-690a78121465"
      },
      "source": [
        "h = sns.PairGrid(data=datacleanup, x_vars=['Revenue Group'], y_vars='Consider', size=5)\n",
        "h.map(sns.pointplot, color=\"Blue\")"
      ],
      "execution_count": null,
      "outputs": [
        {
          "output_type": "execute_result",
          "data": {
            "text/plain": [
              "<seaborn.axisgrid.PairGrid at 0x7f87d9a6aeb0>"
            ]
          },
          "metadata": {
            "tags": []
          },
          "execution_count": 28
        },
        {
          "output_type": "display_data",
          "data": {
            "image/png": "[encoded data removed]",
            "text/plain": [
              "<Figure size 360x360 with 1 Axes>"
            ]
          },
          "metadata": {
            "tags": [],
            "needs_background": "light"
          }
        }
      ]
    },
    {
      "cell_type": "markdown",
      "metadata": {
        "id": "H1LSRWjj7Jpm"
      },
      "source": [
        "Interesting to note that individuals that make between 100,000 to 250,000 appear to be more likely to consider / continue to use "
      ]
    },
    {
      "cell_type": "code",
      "metadata": {
        "id": "MJwOgRgV7Jpm",
        "outputId": "2fbc9f03-e917-4ccd-d857-52d55badf5fe"
      },
      "source": [
        "h = sns.PairGrid(data=datacleanup, x_vars=['Fees'], y_vars='Consider', size=5)\n",
        "h.map(sns.pointplot, color=\"Red\")"
      ],
      "execution_count": null,
      "outputs": [
        {
          "output_type": "execute_result",
          "data": {
            "text/plain": [
              "<seaborn.axisgrid.PairGrid at 0x7f87d9ae3ee0>"
            ]
          },
          "metadata": {
            "tags": []
          },
          "execution_count": 29
        },
        {
          "output_type": "display_data",
          "data": {
            "image/png": "[encoded data removed]",
            "text/plain": [
              "<Figure size 360x360 with 1 Axes>"
            ]
          },
          "metadata": {
            "tags": [],
            "needs_background": "light"
          }
        }
      ]
    },
    {
      "cell_type": "markdown",
      "metadata": {
        "id": "rXgJrXOH7Jpn"
      },
      "source": [
        "In line with expectations, the more reasonable the fees, the higher the \"Consider\" rating."
      ]
    },
    {
      "cell_type": "code",
      "metadata": {
        "id": "ld2_5_797Jpn",
        "outputId": "045c0e1c-3410-4ecd-96ed-f0151a113446"
      },
      "source": [
        "h = sns.PairGrid(data=datacleanup, x_vars=['Trustworthy'], y_vars='Consider', size=5)\n",
        "h.map(sns.pointplot, color=\"Orange\")"
      ],
      "execution_count": null,
      "outputs": [
        {
          "output_type": "execute_result",
          "data": {
            "text/plain": [
              "<seaborn.axisgrid.PairGrid at 0x7f87d9dd7580>"
            ]
          },
          "metadata": {
            "tags": []
          },
          "execution_count": 30
        },
        {
          "output_type": "display_data",
          "data": {
            "image/png": "[encoded data removed]",
            "text/plain": [
              "<Figure size 360x360 with 1 Axes>"
            ]
          },
          "metadata": {
            "tags": [],
            "needs_background": "light"
          }
        }
      ]
    },
    {
      "cell_type": "code",
      "metadata": {
        "id": "OsnyLMeZ7Jpn",
        "outputId": "ceba49b2-b0d0-4d94-fca2-912537fed5ff"
      },
      "source": [
        "h = sns.PairGrid(data=datacleanup, x_vars=['Cust Service'], y_vars='Consider', size=5)\n",
        "h.map(sns.pointplot, color=\"Purple\")"
      ],
      "execution_count": null,
      "outputs": [
        {
          "output_type": "execute_result",
          "data": {
            "text/plain": [
              "<seaborn.axisgrid.PairGrid at 0x7f87da7b65b0>"
            ]
          },
          "metadata": {
            "tags": []
          },
          "execution_count": 31
        },
        {
          "output_type": "display_data",
          "data": {
            "image/png": "[encoded data removed]",
            "text/plain": [
              "<Figure size 360x360 with 1 Axes>"
            ]
          },
          "metadata": {
            "tags": [],
            "needs_background": "light"
          }
        }
      ]
    },
    {
      "cell_type": "markdown",
      "metadata": {
        "id": "9wWaPsuC7Jpo"
      },
      "source": [
        "In line with expectations, the more reasonable the fees, trustworthiness, and better customer service, the higher the \"Consider\" rating."
      ]
    },
    {
      "cell_type": "markdown",
      "metadata": {
        "id": "B6YEtMk-7Jpo"
      },
      "source": [
        "#### Preliminary Modeling: "
      ]
    },
    {
      "cell_type": "markdown",
      "metadata": {
        "id": "PZODFigV7Jpo"
      },
      "source": [
        "#### Data Transformation for Modeling:"
      ]
    },
    {
      "cell_type": "markdown",
      "metadata": {
        "id": "FvXTONdi7Jpo"
      },
      "source": [
        "##### Transformation One: Min Max  "
      ]
    },
    {
      "cell_type": "code",
      "metadata": {
        "id": "WgRzcsxb7Jpo"
      },
      "source": [
        "trainmodel = datacleanup.copy()"
      ],
      "execution_count": null,
      "outputs": []
    },
    {
      "cell_type": "code",
      "metadata": {
        "id": "9fPMbK847Jpp"
      },
      "source": [
        "X,y=trainmodel.drop(['Consider'],axis=1),trainmodel['Consider']"
      ],
      "execution_count": null,
      "outputs": []
    },
    {
      "cell_type": "code",
      "metadata": {
        "id": "58S3juWC7Jpp"
      },
      "source": [
        "minmax = MinMaxScaler()\n",
        "minmax.fit(X)\n",
        "\n",
        "x_minmax = minmax.transform(X)\n",
        "x_minmax = pd.DataFrame(x_minmax, columns = X.columns)\n",
        "        "
      ],
      "execution_count": null,
      "outputs": []
    },
    {
      "cell_type": "code",
      "metadata": {
        "id": "OYaW6huF7Jpp"
      },
      "source": [
        "X = x_minmax"
      ],
      "execution_count": null,
      "outputs": []
    },
    {
      "cell_type": "code",
      "metadata": {
        "id": "U0X2rwJa7Jpp"
      },
      "source": [
        "train_X, val_X, train_y, val_y=train_test_split(X,y, train_size=(.8))"
      ],
      "execution_count": null,
      "outputs": []
    },
    {
      "cell_type": "code",
      "metadata": {
        "id": "QM6aVMBk7Jpp"
      },
      "source": [
        "def RegressorFit(model): \n",
        "    Regressor = model()\n",
        "    Regressor.fit(train_X, train_y)\n",
        "    Regressor.predict(val_X)\n",
        "    return Regressor"
      ],
      "execution_count": null,
      "outputs": []
    },
    {
      "cell_type": "markdown",
      "metadata": {
        "id": "DFY_Cnkd7Jpq"
      },
      "source": [
        "##### Min Max Linear Regression# "
      ]
    },
    {
      "cell_type": "code",
      "metadata": {
        "id": "PmnTscyP7Jpr",
        "outputId": "5f1527d8-9499-4225-b012-cd31ff85b07f"
      },
      "source": [
        "linearregression = RegressorFit(LinearRegression)\n",
        "\n",
        "acc_lin_reg = round( linearregression.score(val_X, val_y) * 100, 2)\n",
        "print (str(acc_lin_reg) + ' percent')"
      ],
      "execution_count": null,
      "outputs": [
        {
          "output_type": "stream",
          "text": [
            "10.61 percent\n"
          ],
          "name": "stdout"
        }
      ]
    },
    {
      "cell_type": "markdown",
      "metadata": {
        "id": "wm4X5N8v7Jpr"
      },
      "source": [
        "##### Min Max Decision Tree:"
      ]
    },
    {
      "cell_type": "code",
      "metadata": {
        "id": "5LdBXEyb7Jpr",
        "outputId": "9d8d1475-1734-44de-9499-818bfb782ee9"
      },
      "source": [
        "decisiontree = RegressorFit(DecisionTreeRegressor)\n",
        "\n",
        "acc_decision_tree = round(decisiontree.score(val_X, val_y) * 100, 2)\n",
        "print(round(acc_decision_tree,2,), ' percent')"
      ],
      "execution_count": null,
      "outputs": [
        {
          "output_type": "stream",
          "text": [
            "-17.38  percent\n"
          ],
          "name": "stdout"
        }
      ]
    },
    {
      "cell_type": "markdown",
      "metadata": {
        "id": "JxejvWEe7Jpr"
      },
      "source": [
        "##### Min Max Random Forest:"
      ]
    },
    {
      "cell_type": "code",
      "metadata": {
        "id": "NWXoZKqr7Jps",
        "outputId": "e96d4020-db75-4684-90d5-0c5f003f806a"
      },
      "source": [
        "forest = RegressorFit(RandomForestRegressor)\n",
        "\n",
        "acc_random_forest = round(forest.score(val_X, val_y) * 100, 2)\n",
        "print(round(acc_random_forest,2,), ' percent')"
      ],
      "execution_count": null,
      "outputs": [
        {
          "output_type": "stream",
          "text": [
            "34.16  percent\n"
          ],
          "name": "stdout"
        }
      ]
    },
    {
      "cell_type": "markdown",
      "metadata": {
        "id": "FoO1isg57Jps"
      },
      "source": [
        "##### Min Max KNeighbors Regressor: "
      ]
    },
    {
      "cell_type": "code",
      "metadata": {
        "id": "5Bkam1cJ7Jps",
        "outputId": "b909bbc6-ed5c-4bbe-c521-47cfc1cd1575"
      },
      "source": [
        "KNN = RegressorFit(KNeighborsRegressor)\n",
        "\n",
        "acc_KNN = round(KNN.score(val_X, val_y) * 100, 2)\n",
        "print(round(acc_KNN,2,), ' percent')"
      ],
      "execution_count": null,
      "outputs": [
        {
          "output_type": "stream",
          "text": [
            "12.69  percent\n"
          ],
          "name": "stdout"
        }
      ]
    },
    {
      "cell_type": "markdown",
      "metadata": {
        "id": "nEQWVY2s7Jps"
      },
      "source": [
        "##### Transformation Two: Standard Scaler "
      ]
    },
    {
      "cell_type": "code",
      "metadata": {
        "id": "gJmWxGMA7Jps"
      },
      "source": [
        "trainmodel = datacleanup.copy()"
      ],
      "execution_count": null,
      "outputs": []
    },
    {
      "cell_type": "code",
      "metadata": {
        "id": "PEoSFbaW7Jps"
      },
      "source": [
        "X,y=trainmodel.drop(['Consider'],axis=1),trainmodel['Consider']"
      ],
      "execution_count": null,
      "outputs": []
    },
    {
      "cell_type": "code",
      "metadata": {
        "id": "T800nb_u7Jpt"
      },
      "source": [
        "StandardScaler = StandardScaler()\n",
        "StandardScaler.fit(X)\n",
        "x_StandardScaler = StandardScaler.transform(X)\n",
        "x_StandardScaler_df = pd.DataFrame(x_StandardScaler, columns = X.columns)"
      ],
      "execution_count": null,
      "outputs": []
    },
    {
      "cell_type": "code",
      "metadata": {
        "id": "pN8C3uv87Jpt"
      },
      "source": [
        "X = x_StandardScaler_df"
      ],
      "execution_count": null,
      "outputs": []
    },
    {
      "cell_type": "code",
      "metadata": {
        "id": "LS9lvJdT7Jpt"
      },
      "source": [
        "train_X, val_X, train_y, val_y=train_test_split(X,y, train_size=(.8))"
      ],
      "execution_count": null,
      "outputs": []
    },
    {
      "cell_type": "markdown",
      "metadata": {
        "id": "W-RFO3lL7Jpw"
      },
      "source": [
        "##### Standard Scaler Linear Regression: "
      ]
    },
    {
      "cell_type": "code",
      "metadata": {
        "id": "YYsJceK17Jpx",
        "outputId": "0509b0fe-7c7e-4239-c2a8-77de623a4acc"
      },
      "source": [
        "linearregression = RegressorFit(LinearRegression)\n",
        "\n",
        "acc_lin_reg = round( linearregression.score(val_X, val_y) * 100, 2)\n",
        "print (str(acc_lin_reg) + ' percent')"
      ],
      "execution_count": null,
      "outputs": [
        {
          "output_type": "stream",
          "text": [
            "7.78 percent\n"
          ],
          "name": "stdout"
        }
      ]
    },
    {
      "cell_type": "markdown",
      "metadata": {
        "id": "1cyuI5aW7Jpx"
      },
      "source": [
        "##### Standard Scaler Decision Tree: "
      ]
    },
    {
      "cell_type": "code",
      "metadata": {
        "id": "qXU0pEpt7Jpx",
        "outputId": "67e68602-da69-4e10-f7ae-8e8a0f266fd5"
      },
      "source": [
        "decisiontree = RegressorFit(DecisionTreeRegressor)\n",
        "\n",
        "acc_decision_tree = round(decisiontree.score(val_X, val_y) * 100, 2)\n",
        "print(round(acc_decision_tree,2,), ' percent')"
      ],
      "execution_count": null,
      "outputs": [
        {
          "output_type": "stream",
          "text": [
            "-16.87  percent\n"
          ],
          "name": "stdout"
        }
      ]
    },
    {
      "cell_type": "markdown",
      "metadata": {
        "id": "Uq7UFvjB7Jpy"
      },
      "source": [
        "##### Standard Scaler Random Forest:"
      ]
    },
    {
      "cell_type": "code",
      "metadata": {
        "id": "Cj-4dyto7Jpy",
        "outputId": "440205c1-658b-4c9b-d752-4f3b6235a736"
      },
      "source": [
        "forest = RegressorFit(RandomForestRegressor)\n",
        "\n",
        "acc_random_forest = round(forest.score(val_X, val_y) * 100, 2)\n",
        "print(round(acc_random_forest,2,), ' percent')"
      ],
      "execution_count": null,
      "outputs": [
        {
          "output_type": "stream",
          "text": [
            "34.66  percent\n"
          ],
          "name": "stdout"
        }
      ]
    },
    {
      "cell_type": "markdown",
      "metadata": {
        "id": "RanSHMTX7Jpy"
      },
      "source": [
        "##### Standard Sclaer KNeighbors Regressor: "
      ]
    },
    {
      "cell_type": "code",
      "metadata": {
        "id": "d4mIVavC7Jpy",
        "outputId": "594f6f5d-41ee-469b-ab3c-28fabc052b60"
      },
      "source": [
        "KNN = RegressorFit(KNeighborsRegressor)\n",
        "\n",
        "acc_KNN = round(KNN.score(val_X, val_y) * 100, 2)\n",
        "print(round(acc_KNN,2,), ' percent')"
      ],
      "execution_count": null,
      "outputs": [
        {
          "output_type": "stream",
          "text": [
            "13.41  percent\n"
          ],
          "name": "stdout"
        }
      ]
    },
    {
      "cell_type": "markdown",
      "metadata": {
        "id": "08BWeR9z7Jpz"
      },
      "source": [
        "##### Transformation Three: Mean Centering "
      ]
    },
    {
      "cell_type": "code",
      "metadata": {
        "id": "f0701-AE7Jp0"
      },
      "source": [
        "trainmodel = datacleanup.copy()"
      ],
      "execution_count": null,
      "outputs": []
    },
    {
      "cell_type": "code",
      "metadata": {
        "id": "gSNtLbpk7Jp0"
      },
      "source": [
        "X,y=trainmodel.drop(['Consider'],axis=1),trainmodel['Consider']"
      ],
      "execution_count": null,
      "outputs": []
    },
    {
      "cell_type": "code",
      "metadata": {
        "id": "G1bBeq9L7Jp0"
      },
      "source": [
        "scaled_data = scale(X)\n",
        "x_scale = pd.DataFrame(scaled_data, columns = X.columns)"
      ],
      "execution_count": null,
      "outputs": []
    },
    {
      "cell_type": "code",
      "metadata": {
        "id": "ImP_hLjY7Jp0"
      },
      "source": [
        "X = x_scale"
      ],
      "execution_count": null,
      "outputs": []
    },
    {
      "cell_type": "code",
      "metadata": {
        "id": "MowMC1tl7Jp1"
      },
      "source": [
        "train_X, val_X, train_y, val_y=train_test_split(X,y, train_size=(.8))"
      ],
      "execution_count": null,
      "outputs": []
    },
    {
      "cell_type": "markdown",
      "metadata": {
        "id": "YAj621A87Jp1"
      },
      "source": [
        "##### Mean Centering Linear Regression: "
      ]
    },
    {
      "cell_type": "code",
      "metadata": {
        "id": "9XCm79yK7Jp2",
        "outputId": "05de0f86-faca-43bc-d2b6-cc1adcad9be5"
      },
      "source": [
        "linearregression = RegressorFit(LinearRegression)\n",
        "\n",
        "acc_lin_reg = round( linearregression.score(val_X, val_y) * 100, 2)\n",
        "print (str(acc_lin_reg) + ' percent')"
      ],
      "execution_count": null,
      "outputs": [
        {
          "output_type": "stream",
          "text": [
            "13.15 percent\n"
          ],
          "name": "stdout"
        }
      ]
    },
    {
      "cell_type": "markdown",
      "metadata": {
        "id": "XSk8kokl7Jp2"
      },
      "source": [
        "##### Mean Centering Decision Tree: "
      ]
    },
    {
      "cell_type": "code",
      "metadata": {
        "id": "9mQ2U2l_7Jp3",
        "outputId": "bad1496f-2379-415c-a9dd-e25daf268bf8"
      },
      "source": [
        "decisiontree = RegressorFit(DecisionTreeRegressor)\n",
        "\n",
        "acc_decision_tree = round(decisiontree.score(val_X, val_y) * 100, 2)\n",
        "print(round(acc_decision_tree,2,), ' percent')"
      ],
      "execution_count": null,
      "outputs": [
        {
          "output_type": "stream",
          "text": [
            "-26.14  percent\n"
          ],
          "name": "stdout"
        }
      ]
    },
    {
      "cell_type": "markdown",
      "metadata": {
        "id": "sFYBG0VM7Jp3"
      },
      "source": [
        "##### Mean Centering Random Forest: "
      ]
    },
    {
      "cell_type": "code",
      "metadata": {
        "id": "lF9RaxwP7Jp3",
        "outputId": "aadc5f55-363f-4781-8f7b-e1522b27ef51"
      },
      "source": [
        "Meanforest = RegressorFit(RandomForestRegressor)\n",
        "\n",
        "acc_random_forest = round(Meanforest.score(val_X, val_y) * 100, 2)\n",
        "print(round(acc_random_forest,2,), ' percent')"
      ],
      "execution_count": null,
      "outputs": [
        {
          "output_type": "stream",
          "text": [
            "37.59  percent\n"
          ],
          "name": "stdout"
        }
      ]
    },
    {
      "cell_type": "markdown",
      "metadata": {
        "id": "z3PYIZXS7Jp3"
      },
      "source": [
        "##### KNeighbors Regressor: "
      ]
    },
    {
      "cell_type": "code",
      "metadata": {
        "id": "OgIGA26N7Jp3",
        "outputId": "a85c9b7d-1c54-4c48-8931-3ca86ba0ae19"
      },
      "source": [
        "KNN = RegressorFit(KNeighborsRegressor)\n",
        "\n",
        "acc_KNN = round(KNN.score(val_X, val_y) * 100, 2)\n",
        "print(round(acc_KNN,2,), ' percent')"
      ],
      "execution_count": null,
      "outputs": [
        {
          "output_type": "stream",
          "text": [
            "13.51  percent\n"
          ],
          "name": "stdout"
        }
      ]
    },
    {
      "cell_type": "markdown",
      "metadata": {
        "id": "mdCCKnAd7Jp4"
      },
      "source": [
        "As we can see, the models fit best with the mean centering transformation. As such, we will use this version of the data in the rest of thr analysis. With that said, the models are not fitting well - let's explore why:"
      ]
    },
    {
      "cell_type": "code",
      "metadata": {
        "id": "g8nYtAmZ7Jp4",
        "outputId": "f9289f9f-391d-4eb2-e3ca-8209af7914c3"
      },
      "source": [
        "importances_rf = pd.Series(forest.feature_importances_,\n",
        "index = X.columns)\n",
        "\n",
        "sorted_importances_rf = importances_rf.sort_values()\n",
        "\n",
        "sorted_importances_rf.plot(kind='barh', color='blue')\n",
        "plt.figure(figsize=(30,30))\n",
        "plt.show()"
      ],
      "execution_count": null,
      "outputs": [
        {
          "output_type": "display_data",
          "data": {
            "image/png": "[encoded data removed]",
            "text/plain": [
              "<Figure size 432x288 with 1 Axes>"
            ]
          },
          "metadata": {
            "tags": [],
            "needs_background": "light"
          }
        },
        {
          "output_type": "display_data",
          "data": {
            "text/plain": [
              "<Figure size 2160x2160 with 0 Axes>"
            ]
          },
          "metadata": {
            "tags": []
          }
        }
      ]
    },
    {
      "cell_type": "markdown",
      "metadata": {
        "id": "unyldKet7Jp5"
      },
      "source": [
        "Interesting to see that clear communications is the most influential factor to the random forest model..."
      ]
    },
    {
      "cell_type": "code",
      "metadata": {
        "id": "OYLyCN4q7Jp6",
        "outputId": "dc4b3858-8698-49ee-895d-3541f9613d2b"
      },
      "source": [
        "plt.matshow(trainmodel.corr())\n",
        "plt.xticks(range(len(trainmodel.columns)), trainmodel.columns, rotation='vertical')\n",
        "plt.yticks(range(len(trainmodel.columns)), trainmodel.columns)\n",
        "plt.colorbar()\n",
        "plt.show()"
      ],
      "execution_count": null,
      "outputs": [
        {
          "output_type": "display_data",
          "data": {
            "image/png": "[encoded data removed]",
            "text/plain": [
              "<Figure size 288x288 with 2 Axes>"
            ]
          },
          "metadata": {
            "tags": [],
            "needs_background": "light"
          }
        }
      ]
    },
    {
      "cell_type": "markdown",
      "metadata": {
        "id": "iZTrVNpg7Jp6"
      },
      "source": [
        "As shown above we can see that the factors are all highly correlated."
      ]
    },
    {
      "cell_type": "markdown",
      "metadata": {
        "id": "NKdTv9Z97Jp6"
      },
      "source": [
        "### Primary Component Analyis (\"PCA\"):"
      ]
    },
    {
      "cell_type": "code",
      "metadata": {
        "id": "OwCk6TrF7Jp7",
        "outputId": "80b94652-a242-4ffc-bb2f-1a66f78acc7f"
      },
      "source": [
        "covar_matrix = PCA(n_components = len(trainmodel.columns)) #components are equal to the number of features we have\n",
        "covar_matrix.fit(trainmodel)\n",
        "\n",
        "covar_matrix = PCA(copy=True, iterated_power='auto', n_components=len(trainmodel.columns), random_state=None,\n",
        "    svd_solver='auto', tol=0.0, whiten=False)\n",
        "covar_matrix.fit"
      ],
      "execution_count": null,
      "outputs": [
        {
          "output_type": "execute_result",
          "data": {
            "text/plain": [
              "<bound method PCA.fit of PCA(n_components=43)>"
            ]
          },
          "metadata": {
            "tags": []
          },
          "execution_count": 183
        }
      ]
    },
    {
      "cell_type": "markdown",
      "metadata": {
        "id": "zvuITm3n7Jp7"
      },
      "source": [
        "Exploring and validating:"
      ]
    },
    {
      "cell_type": "code",
      "metadata": {
        "id": "VQcQ9Q1B7Jp7"
      },
      "source": [
        "covar_matrixVal = PCA(copy=True, iterated_power='auto', n_components=len(trainmodel.columns), random_state=None,\n",
        "    svd_solver='auto', tol=0.0, whiten=False)\n",
        "covar_matrixValfit = covar_matrixVal.fit(trainmodel)"
      ],
      "execution_count": null,
      "outputs": []
    },
    {
      "cell_type": "code",
      "metadata": {
        "id": "hE9zM9aL7Jp7",
        "outputId": "5ffb4f91-010d-4ec3-b1ae-4ae359d6663a"
      },
      "source": [
        "variance = covar_matrixVal.explained_variance_ratio_ #calculate variance ratios\n",
        "variance"
      ],
      "execution_count": null,
      "outputs": [
        {
          "output_type": "execute_result",
          "data": {
            "text/plain": [
              "array([3.31801610e-01, 1.76537222e-01, 1.73159605e-01, 2.52225612e-02,\n",
              "       2.34840141e-02, 1.73364106e-02, 1.60340755e-02, 1.53711035e-02,\n",
              "       1.39937156e-02, 1.34481189e-02, 1.17351865e-02, 1.07422316e-02,\n",
              "       1.03011417e-02, 9.84708231e-03, 9.20047899e-03, 8.77390506e-03,\n",
              "       8.38939621e-03, 8.27575237e-03, 8.02887531e-03, 7.81585374e-03,\n",
              "       7.53609170e-03, 7.29715912e-03, 7.16813059e-03, 6.89176704e-03,\n",
              "       6.51532009e-03, 6.28815940e-03, 5.95101306e-03, 5.71067322e-03,\n",
              "       5.47328226e-03, 5.38664597e-03, 5.10910615e-03, 4.70860150e-03,\n",
              "       4.50676507e-03, 3.99335539e-03, 3.44406806e-03, 3.28585591e-03,\n",
              "       2.83458419e-03, 2.33586788e-03, 1.96575490e-03, 1.81198039e-03,\n",
              "       1.66283462e-03, 6.24642638e-04, 2.48757210e-32])"
            ]
          },
          "metadata": {
            "tags": []
          },
          "execution_count": 185
        }
      ]
    },
    {
      "cell_type": "code",
      "metadata": {
        "id": "7-a6nfCx7Jp7",
        "outputId": "1bc9ad11-ed80-4a35-8cca-f042484e2787"
      },
      "source": [
        "var=np.cumsum(np.round(variance, decimals=5)*100)\n",
        "var"
      ],
      "execution_count": null,
      "outputs": [
        {
          "output_type": "execute_result",
          "data": {
            "text/plain": [
              "array([ 33.18 ,  50.834,  68.15 ,  70.672,  73.02 ,  74.754,  76.357,\n",
              "        77.894,  79.293,  80.638,  81.812,  82.886,  83.916,  84.901,\n",
              "        85.821,  86.698,  87.537,  88.365,  89.168,  89.95 ,  90.704,\n",
              "        91.434,  92.151,  92.84 ,  93.492,  94.121,  94.716,  95.287,\n",
              "        95.834,  96.373,  96.884,  97.355,  97.806,  98.205,  98.549,\n",
              "        98.878,  99.161,  99.395,  99.592,  99.773,  99.939, 100.001,\n",
              "       100.001])"
            ]
          },
          "metadata": {
            "tags": []
          },
          "execution_count": 186
        }
      ]
    },
    {
      "cell_type": "markdown",
      "metadata": {
        "id": "uvOUIp517Jp8"
      },
      "source": [
        "Next, as part of our validation process, we want to make sure that the components identified by PCA are unique populations. As such, we look at the top three features for each component:"
      ]
    },
    {
      "cell_type": "code",
      "metadata": {
        "id": "Xov1nrAO7Jp8"
      },
      "source": [
        "covar_matrixVal2 = PCA(copy=True, iterated_power='auto', n_components=43, random_state=None,\n",
        "    svd_solver='auto', tol=0.0, whiten=False)\n",
        "covar_matrixValfit2 = covar_matrixVal2.fit(trainmodel)"
      ],
      "execution_count": null,
      "outputs": []
    },
    {
      "cell_type": "code",
      "metadata": {
        "id": "RH6DKToT7Jp8",
        "outputId": "13c7e501-7d8b-4a71-a735-b1e52d15d550"
      },
      "source": [
        "cols = trainmodel.columns\n",
        "componentsclean = pd.DataFrame(covar_matrixVal2.components_ ,columns = cols)\n",
        "componentsclean.rename(index = lambda x: 'PC-' + str(x + 1), inplace=True)\n",
        "\n",
        "\n",
        "TopThree = pd.DataFrame(componentsclean.columns.values[np.argsort(-componentsclean.values, axis=1)[:, :3]], \n",
        "                  index=componentsclean.index,\n",
        "                  columns = ['1st Max','2nd Max','3rd Max'])\n",
        "TopThree"
      ],
      "execution_count": null,
      "outputs": [
        {
          "output_type": "execute_result",
          "data": {
            "text/html": [
              "<div>\n",
              "<style scoped>\n",
              "    .dataframe tbody tr th:only-of-type {\n",
              "        vertical-align: middle;\n",
              "    }\n",
              "\n",
              "    .dataframe tbody tr th {\n",
              "        vertical-align: top;\n",
              "    }\n",
              "\n",
              "    .dataframe thead th {\n",
              "        text-align: right;\n",
              "    }\n",
              "</style>\n",
              "<table border=\"1\" class=\"dataframe\">\n",
              "  <thead>\n",
              "    <tr style=\"text-align: right;\">\n",
              "      <th></th>\n",
              "      <th>1st Max</th>\n",
              "      <th>2nd Max</th>\n",
              "      <th>3rd Max</th>\n",
              "    </tr>\n",
              "  </thead>\n",
              "  <tbody>\n",
              "    <tr>\n",
              "      <th>PC-1</th>\n",
              "      <td>Consider</td>\n",
              "      <td>Competitive Preference</td>\n",
              "      <td>Other Secondary</td>\n",
              "    </tr>\n",
              "    <tr>\n",
              "      <th>PC-2</th>\n",
              "      <td>Competitive Preference</td>\n",
              "      <td>Revenue Group</td>\n",
              "      <td>Rewards Program</td>\n",
              "    </tr>\n",
              "    <tr>\n",
              "      <th>PC-3</th>\n",
              "      <td>Rewards Program</td>\n",
              "      <td>Advisor</td>\n",
              "      <td>Quick App</td>\n",
              "    </tr>\n",
              "    <tr>\n",
              "      <th>PC-4</th>\n",
              "      <td>Advisor</td>\n",
              "      <td>Cash Flow</td>\n",
              "      <td>Problem Solver</td>\n",
              "    </tr>\n",
              "    <tr>\n",
              "      <th>PC-5</th>\n",
              "      <td>Cust Service</td>\n",
              "      <td>Easy Access</td>\n",
              "      <td>Clear Comm</td>\n",
              "    </tr>\n",
              "    <tr>\n",
              "      <th>PC-6</th>\n",
              "      <td>Quick App</td>\n",
              "      <td>Rewards Program</td>\n",
              "      <td>Easy App</td>\n",
              "    </tr>\n",
              "    <tr>\n",
              "      <th>PC-7</th>\n",
              "      <td>Rewards Program</td>\n",
              "      <td>Rewards</td>\n",
              "      <td>Feel Valued</td>\n",
              "    </tr>\n",
              "    <tr>\n",
              "      <th>PC-8</th>\n",
              "      <td>Revenue Group</td>\n",
              "      <td>Rewards Program</td>\n",
              "      <td>Rewards</td>\n",
              "    </tr>\n",
              "    <tr>\n",
              "      <th>PC-9</th>\n",
              "      <td>Rewards Program</td>\n",
              "      <td>Advisor</td>\n",
              "      <td>Leader</td>\n",
              "    </tr>\n",
              "    <tr>\n",
              "      <th>PC-10</th>\n",
              "      <td>Fees</td>\n",
              "      <td>best Rates</td>\n",
              "      <td>Leader</td>\n",
              "    </tr>\n",
              "    <tr>\n",
              "      <th>PC-11</th>\n",
              "      <td>Advisor</td>\n",
              "      <td>best Rates</td>\n",
              "      <td>Fees</td>\n",
              "    </tr>\n",
              "    <tr>\n",
              "      <th>PC-12</th>\n",
              "      <td>Quick App</td>\n",
              "      <td>Easy App</td>\n",
              "      <td>Advisor</td>\n",
              "    </tr>\n",
              "    <tr>\n",
              "      <th>PC-13</th>\n",
              "      <td>Cash Flow</td>\n",
              "      <td>Rewards</td>\n",
              "      <td>Easier Life</td>\n",
              "    </tr>\n",
              "    <tr>\n",
              "      <th>PC-14</th>\n",
              "      <td>Easy To Invest</td>\n",
              "      <td>Best Interest</td>\n",
              "      <td>Easier Life</td>\n",
              "    </tr>\n",
              "    <tr>\n",
              "      <th>PC-15</th>\n",
              "      <td>Fin_Products</td>\n",
              "      <td>Personal</td>\n",
              "      <td>Cash Flow</td>\n",
              "    </tr>\n",
              "    <tr>\n",
              "      <th>PC-16</th>\n",
              "      <td>Understands Needs</td>\n",
              "      <td>Financing</td>\n",
              "      <td>Trustworthy</td>\n",
              "    </tr>\n",
              "    <tr>\n",
              "      <th>PC-17</th>\n",
              "      <td>Easier Life</td>\n",
              "      <td>Problem Solver</td>\n",
              "      <td>Fin_Products</td>\n",
              "    </tr>\n",
              "    <tr>\n",
              "      <th>PC-18</th>\n",
              "      <td>Innovative</td>\n",
              "      <td>Best Interest</td>\n",
              "      <td>Easier Life</td>\n",
              "    </tr>\n",
              "    <tr>\n",
              "      <th>PC-19</th>\n",
              "      <td>Easy To Invest</td>\n",
              "      <td>Easier Life</td>\n",
              "      <td>Leader</td>\n",
              "    </tr>\n",
              "    <tr>\n",
              "      <th>PC-20</th>\n",
              "      <td>best Rates</td>\n",
              "      <td>Understands Needs</td>\n",
              "      <td>Leader</td>\n",
              "    </tr>\n",
              "    <tr>\n",
              "      <th>PC-21</th>\n",
              "      <td>Fin_Products</td>\n",
              "      <td>Personalized</td>\n",
              "      <td>Rewards</td>\n",
              "    </tr>\n",
              "    <tr>\n",
              "      <th>PC-22</th>\n",
              "      <td>Personalized</td>\n",
              "      <td>Easy To Invest</td>\n",
              "      <td>Trustworthy</td>\n",
              "    </tr>\n",
              "    <tr>\n",
              "      <th>PC-23</th>\n",
              "      <td>Easy To Invest</td>\n",
              "      <td>Prestigious</td>\n",
              "      <td>Problem Solver</td>\n",
              "    </tr>\n",
              "    <tr>\n",
              "      <th>PC-24</th>\n",
              "      <td>Prestigious</td>\n",
              "      <td>best Rates</td>\n",
              "      <td>Rewards</td>\n",
              "    </tr>\n",
              "    <tr>\n",
              "      <th>PC-25</th>\n",
              "      <td>Responsive</td>\n",
              "      <td>Feel Valued</td>\n",
              "      <td>Easy To Invest</td>\n",
              "    </tr>\n",
              "    <tr>\n",
              "      <th>PC-26</th>\n",
              "      <td>Responsive</td>\n",
              "      <td>best Rates</td>\n",
              "      <td>Clear Comm</td>\n",
              "    </tr>\n",
              "    <tr>\n",
              "      <th>PC-27</th>\n",
              "      <td>Fair</td>\n",
              "      <td>Trustworthy</td>\n",
              "      <td>Personal</td>\n",
              "    </tr>\n",
              "    <tr>\n",
              "      <th>PC-28</th>\n",
              "      <td>Cust Service</td>\n",
              "      <td>Feel Valued</td>\n",
              "      <td>Clear Comm</td>\n",
              "    </tr>\n",
              "    <tr>\n",
              "      <th>PC-29</th>\n",
              "      <td>Trustworthy</td>\n",
              "      <td>Security</td>\n",
              "      <td>Value</td>\n",
              "    </tr>\n",
              "    <tr>\n",
              "      <th>PC-30</th>\n",
              "      <td>Security</td>\n",
              "      <td>Easy Access</td>\n",
              "      <td>Feel Valued</td>\n",
              "    </tr>\n",
              "    <tr>\n",
              "      <th>PC-31</th>\n",
              "      <td>Value</td>\n",
              "      <td>Multi-Channels</td>\n",
              "      <td>Clear Comm</td>\n",
              "    </tr>\n",
              "    <tr>\n",
              "      <th>PC-32</th>\n",
              "      <td>Multi-Channels</td>\n",
              "      <td>Fair</td>\n",
              "      <td>Feel Valued</td>\n",
              "    </tr>\n",
              "    <tr>\n",
              "      <th>PC-33</th>\n",
              "      <td>Feel Valued</td>\n",
              "      <td>Easy App</td>\n",
              "      <td>Easy Access</td>\n",
              "    </tr>\n",
              "    <tr>\n",
              "      <th>PC-34</th>\n",
              "      <td>Quick App</td>\n",
              "      <td>Clear Comm</td>\n",
              "      <td>Easy Access</td>\n",
              "    </tr>\n",
              "    <tr>\n",
              "      <th>PC-35</th>\n",
              "      <td>Chase</td>\n",
              "      <td>Prestigious</td>\n",
              "      <td>Clear Comm</td>\n",
              "    </tr>\n",
              "    <tr>\n",
              "      <th>PC-36</th>\n",
              "      <td>Bank of America</td>\n",
              "      <td>Citibank</td>\n",
              "      <td>Security</td>\n",
              "    </tr>\n",
              "    <tr>\n",
              "      <th>PC-37</th>\n",
              "      <td>Citibank</td>\n",
              "      <td>Wells Fargo</td>\n",
              "      <td>HSBC</td>\n",
              "    </tr>\n",
              "    <tr>\n",
              "      <th>PC-38</th>\n",
              "      <td>Wells Fargo</td>\n",
              "      <td>HSBC</td>\n",
              "      <td>Other Primary</td>\n",
              "    </tr>\n",
              "    <tr>\n",
              "      <th>PC-39</th>\n",
              "      <td>HSBC</td>\n",
              "      <td>Other Primary</td>\n",
              "      <td>Other Secondary</td>\n",
              "    </tr>\n",
              "    <tr>\n",
              "      <th>PC-40</th>\n",
              "      <td>Other Primary</td>\n",
              "      <td>Quick App</td>\n",
              "      <td>Rewards Program</td>\n",
              "    </tr>\n",
              "    <tr>\n",
              "      <th>PC-41</th>\n",
              "      <td>Other Secondary</td>\n",
              "      <td>Other Primary</td>\n",
              "      <td>Advanta</td>\n",
              "    </tr>\n",
              "    <tr>\n",
              "      <th>PC-42</th>\n",
              "      <td>Advanta</td>\n",
              "      <td>Fair</td>\n",
              "      <td>Personal</td>\n",
              "    </tr>\n",
              "    <tr>\n",
              "      <th>PC-43</th>\n",
              "      <td>Bank of America</td>\n",
              "      <td>Chase</td>\n",
              "      <td>Advanta</td>\n",
              "    </tr>\n",
              "  </tbody>\n",
              "</table>\n",
              "</div>"
            ],
            "text/plain": [
              "                      1st Max                 2nd Max          3rd Max\n",
              "PC-1                 Consider  Competitive Preference  Other Secondary\n",
              "PC-2   Competitive Preference           Revenue Group  Rewards Program\n",
              "PC-3          Rewards Program                 Advisor        Quick App\n",
              "PC-4                  Advisor               Cash Flow   Problem Solver\n",
              "PC-5             Cust Service             Easy Access       Clear Comm\n",
              "PC-6                Quick App         Rewards Program         Easy App\n",
              "PC-7          Rewards Program                 Rewards      Feel Valued\n",
              "PC-8            Revenue Group         Rewards Program          Rewards\n",
              "PC-9          Rewards Program                 Advisor           Leader\n",
              "PC-10                    Fees              best Rates           Leader\n",
              "PC-11                 Advisor              best Rates             Fees\n",
              "PC-12               Quick App                Easy App          Advisor\n",
              "PC-13               Cash Flow                 Rewards      Easier Life\n",
              "PC-14          Easy To Invest           Best Interest      Easier Life\n",
              "PC-15            Fin_Products                Personal        Cash Flow\n",
              "PC-16       Understands Needs               Financing      Trustworthy\n",
              "PC-17             Easier Life          Problem Solver     Fin_Products\n",
              "PC-18              Innovative           Best Interest      Easier Life\n",
              "PC-19          Easy To Invest             Easier Life           Leader\n",
              "PC-20              best Rates       Understands Needs           Leader\n",
              "PC-21            Fin_Products            Personalized          Rewards\n",
              "PC-22            Personalized          Easy To Invest      Trustworthy\n",
              "PC-23          Easy To Invest             Prestigious   Problem Solver\n",
              "PC-24             Prestigious              best Rates          Rewards\n",
              "PC-25              Responsive             Feel Valued   Easy To Invest\n",
              "PC-26              Responsive              best Rates       Clear Comm\n",
              "PC-27                    Fair             Trustworthy         Personal\n",
              "PC-28            Cust Service             Feel Valued       Clear Comm\n",
              "PC-29             Trustworthy                Security            Value\n",
              "PC-30                Security             Easy Access      Feel Valued\n",
              "PC-31                   Value          Multi-Channels       Clear Comm\n",
              "PC-32          Multi-Channels                    Fair      Feel Valued\n",
              "PC-33             Feel Valued                Easy App      Easy Access\n",
              "PC-34               Quick App              Clear Comm      Easy Access\n",
              "PC-35                   Chase             Prestigious       Clear Comm\n",
              "PC-36         Bank of America                Citibank         Security\n",
              "PC-37                Citibank             Wells Fargo             HSBC\n",
              "PC-38             Wells Fargo                    HSBC    Other Primary\n",
              "PC-39                    HSBC           Other Primary  Other Secondary\n",
              "PC-40           Other Primary               Quick App  Rewards Program\n",
              "PC-41         Other Secondary           Other Primary          Advanta\n",
              "PC-42                 Advanta                    Fair         Personal\n",
              "PC-43         Bank of America                   Chase          Advanta"
            ]
          },
          "metadata": {
            "tags": []
          },
          "execution_count": 188
        }
      ]
    },
    {
      "cell_type": "code",
      "metadata": {
        "id": "C6jc-xRi7Jp8",
        "outputId": "a9cd4cad-e77e-4284-b3be-e94afb1a3b47"
      },
      "source": [
        "sns.set(style='whitegrid')\n",
        "plt.plot(var)\n",
        "\n",
        "plt.xlabel('number of components')\n",
        "plt.ylabel('cumulative explained variance')\n",
        "\n",
        "plt.axvline(linewidth=4, color='r', linestyle = '--', x=26, ymin=0, ymax=1)\n",
        "\n",
        "display(plt.show())\n",
        "evr = covar_matrixVal.explained_variance_ratio_\n",
        "cvr = np.cumsum(covar_matrixVal.explained_variance_ratio_)\n",
        "pca_df = pd.DataFrame()\n",
        "pca_df['Cumulative Variance Ratio'] = cvr\n",
        "pca_df['Explained Variance Ratio'] = evr\n",
        "pca_df['Difference'] = pca_df['Cumulative Variance Ratio'].rolling(window=2).apply(lambda x: x.iloc[1] - x.iloc[0])\n",
        "display(pca_df.head(43))"
      ],
      "execution_count": null,
      "outputs": [
        {
          "output_type": "display_data",
          "data": {
            "image/png": "[encoded data removed]",
            "text/plain": [
              "<Figure size 432x288 with 1 Axes>"
            ]
          },
          "metadata": {
            "tags": []
          }
        },
        {
          "output_type": "display_data",
          "data": {
            "text/plain": [
              "None"
            ]
          },
          "metadata": {
            "tags": []
          }
        },
        {
          "output_type": "display_data",
          "data": {
            "text/html": [
              "<div>\n",
              "<style scoped>\n",
              "    .dataframe tbody tr th:only-of-type {\n",
              "        vertical-align: middle;\n",
              "    }\n",
              "\n",
              "    .dataframe tbody tr th {\n",
              "        vertical-align: top;\n",
              "    }\n",
              "\n",
              "    .dataframe thead th {\n",
              "        text-align: right;\n",
              "    }\n",
              "</style>\n",
              "<table border=\"1\" class=\"dataframe\">\n",
              "  <thead>\n",
              "    <tr style=\"text-align: right;\">\n",
              "      <th></th>\n",
              "      <th>Cumulative Variance Ratio</th>\n",
              "      <th>Explained Variance Ratio</th>\n",
              "      <th>Difference</th>\n",
              "    </tr>\n",
              "  </thead>\n",
              "  <tbody>\n",
              "    <tr>\n",
              "      <th>0</th>\n",
              "      <td>0.331802</td>\n",
              "      <td>3.318016e-01</td>\n",
              "      <td>NaN</td>\n",
              "    </tr>\n",
              "    <tr>\n",
              "      <th>1</th>\n",
              "      <td>0.508339</td>\n",
              "      <td>1.765372e-01</td>\n",
              "      <td>0.176537</td>\n",
              "    </tr>\n",
              "    <tr>\n",
              "      <th>2</th>\n",
              "      <td>0.681498</td>\n",
              "      <td>1.731596e-01</td>\n",
              "      <td>0.173160</td>\n",
              "    </tr>\n",
              "    <tr>\n",
              "      <th>3</th>\n",
              "      <td>0.706721</td>\n",
              "      <td>2.522256e-02</td>\n",
              "      <td>0.025223</td>\n",
              "    </tr>\n",
              "    <tr>\n",
              "      <th>4</th>\n",
              "      <td>0.730205</td>\n",
              "      <td>2.348401e-02</td>\n",
              "      <td>0.023484</td>\n",
              "    </tr>\n",
              "    <tr>\n",
              "      <th>5</th>\n",
              "      <td>0.747541</td>\n",
              "      <td>1.733641e-02</td>\n",
              "      <td>0.017336</td>\n",
              "    </tr>\n",
              "    <tr>\n",
              "      <th>6</th>\n",
              "      <td>0.763575</td>\n",
              "      <td>1.603408e-02</td>\n",
              "      <td>0.016034</td>\n",
              "    </tr>\n",
              "    <tr>\n",
              "      <th>7</th>\n",
              "      <td>0.778947</td>\n",
              "      <td>1.537110e-02</td>\n",
              "      <td>0.015371</td>\n",
              "    </tr>\n",
              "    <tr>\n",
              "      <th>8</th>\n",
              "      <td>0.792940</td>\n",
              "      <td>1.399372e-02</td>\n",
              "      <td>0.013994</td>\n",
              "    </tr>\n",
              "    <tr>\n",
              "      <th>9</th>\n",
              "      <td>0.806388</td>\n",
              "      <td>1.344812e-02</td>\n",
              "      <td>0.013448</td>\n",
              "    </tr>\n",
              "    <tr>\n",
              "      <th>10</th>\n",
              "      <td>0.818124</td>\n",
              "      <td>1.173519e-02</td>\n",
              "      <td>0.011735</td>\n",
              "    </tr>\n",
              "    <tr>\n",
              "      <th>11</th>\n",
              "      <td>0.828866</td>\n",
              "      <td>1.074223e-02</td>\n",
              "      <td>0.010742</td>\n",
              "    </tr>\n",
              "    <tr>\n",
              "      <th>12</th>\n",
              "      <td>0.839167</td>\n",
              "      <td>1.030114e-02</td>\n",
              "      <td>0.010301</td>\n",
              "    </tr>\n",
              "    <tr>\n",
              "      <th>13</th>\n",
              "      <td>0.849014</td>\n",
              "      <td>9.847082e-03</td>\n",
              "      <td>0.009847</td>\n",
              "    </tr>\n",
              "    <tr>\n",
              "      <th>14</th>\n",
              "      <td>0.858215</td>\n",
              "      <td>9.200479e-03</td>\n",
              "      <td>0.009200</td>\n",
              "    </tr>\n",
              "    <tr>\n",
              "      <th>15</th>\n",
              "      <td>0.866988</td>\n",
              "      <td>8.773905e-03</td>\n",
              "      <td>0.008774</td>\n",
              "    </tr>\n",
              "    <tr>\n",
              "      <th>16</th>\n",
              "      <td>0.875378</td>\n",
              "      <td>8.389396e-03</td>\n",
              "      <td>0.008389</td>\n",
              "    </tr>\n",
              "    <tr>\n",
              "      <th>17</th>\n",
              "      <td>0.883654</td>\n",
              "      <td>8.275752e-03</td>\n",
              "      <td>0.008276</td>\n",
              "    </tr>\n",
              "    <tr>\n",
              "      <th>18</th>\n",
              "      <td>0.891682</td>\n",
              "      <td>8.028875e-03</td>\n",
              "      <td>0.008029</td>\n",
              "    </tr>\n",
              "    <tr>\n",
              "      <th>19</th>\n",
              "      <td>0.899498</td>\n",
              "      <td>7.815854e-03</td>\n",
              "      <td>0.007816</td>\n",
              "    </tr>\n",
              "    <tr>\n",
              "      <th>20</th>\n",
              "      <td>0.907034</td>\n",
              "      <td>7.536092e-03</td>\n",
              "      <td>0.007536</td>\n",
              "    </tr>\n",
              "    <tr>\n",
              "      <th>21</th>\n",
              "      <td>0.914332</td>\n",
              "      <td>7.297159e-03</td>\n",
              "      <td>0.007297</td>\n",
              "    </tr>\n",
              "    <tr>\n",
              "      <th>22</th>\n",
              "      <td>0.921500</td>\n",
              "      <td>7.168131e-03</td>\n",
              "      <td>0.007168</td>\n",
              "    </tr>\n",
              "    <tr>\n",
              "      <th>23</th>\n",
              "      <td>0.928391</td>\n",
              "      <td>6.891767e-03</td>\n",
              "      <td>0.006892</td>\n",
              "    </tr>\n",
              "    <tr>\n",
              "      <th>24</th>\n",
              "      <td>0.934907</td>\n",
              "      <td>6.515320e-03</td>\n",
              "      <td>0.006515</td>\n",
              "    </tr>\n",
              "    <tr>\n",
              "      <th>25</th>\n",
              "      <td>0.941195</td>\n",
              "      <td>6.288159e-03</td>\n",
              "      <td>0.006288</td>\n",
              "    </tr>\n",
              "    <tr>\n",
              "      <th>26</th>\n",
              "      <td>0.947146</td>\n",
              "      <td>5.951013e-03</td>\n",
              "      <td>0.005951</td>\n",
              "    </tr>\n",
              "    <tr>\n",
              "      <th>27</th>\n",
              "      <td>0.952857</td>\n",
              "      <td>5.710673e-03</td>\n",
              "      <td>0.005711</td>\n",
              "    </tr>\n",
              "    <tr>\n",
              "      <th>28</th>\n",
              "      <td>0.958330</td>\n",
              "      <td>5.473282e-03</td>\n",
              "      <td>0.005473</td>\n",
              "    </tr>\n",
              "    <tr>\n",
              "      <th>29</th>\n",
              "      <td>0.963717</td>\n",
              "      <td>5.386646e-03</td>\n",
              "      <td>0.005387</td>\n",
              "    </tr>\n",
              "    <tr>\n",
              "      <th>30</th>\n",
              "      <td>0.968826</td>\n",
              "      <td>5.109106e-03</td>\n",
              "      <td>0.005109</td>\n",
              "    </tr>\n",
              "    <tr>\n",
              "      <th>31</th>\n",
              "      <td>0.973534</td>\n",
              "      <td>4.708602e-03</td>\n",
              "      <td>0.004709</td>\n",
              "    </tr>\n",
              "    <tr>\n",
              "      <th>32</th>\n",
              "      <td>0.978041</td>\n",
              "      <td>4.506765e-03</td>\n",
              "      <td>0.004507</td>\n",
              "    </tr>\n",
              "    <tr>\n",
              "      <th>33</th>\n",
              "      <td>0.982034</td>\n",
              "      <td>3.993355e-03</td>\n",
              "      <td>0.003993</td>\n",
              "    </tr>\n",
              "    <tr>\n",
              "      <th>34</th>\n",
              "      <td>0.985478</td>\n",
              "      <td>3.444068e-03</td>\n",
              "      <td>0.003444</td>\n",
              "    </tr>\n",
              "    <tr>\n",
              "      <th>35</th>\n",
              "      <td>0.988764</td>\n",
              "      <td>3.285856e-03</td>\n",
              "      <td>0.003286</td>\n",
              "    </tr>\n",
              "    <tr>\n",
              "      <th>36</th>\n",
              "      <td>0.991599</td>\n",
              "      <td>2.834584e-03</td>\n",
              "      <td>0.002835</td>\n",
              "    </tr>\n",
              "    <tr>\n",
              "      <th>37</th>\n",
              "      <td>0.993935</td>\n",
              "      <td>2.335868e-03</td>\n",
              "      <td>0.002336</td>\n",
              "    </tr>\n",
              "    <tr>\n",
              "      <th>38</th>\n",
              "      <td>0.995901</td>\n",
              "      <td>1.965755e-03</td>\n",
              "      <td>0.001966</td>\n",
              "    </tr>\n",
              "    <tr>\n",
              "      <th>39</th>\n",
              "      <td>0.997713</td>\n",
              "      <td>1.811980e-03</td>\n",
              "      <td>0.001812</td>\n",
              "    </tr>\n",
              "    <tr>\n",
              "      <th>40</th>\n",
              "      <td>0.999375</td>\n",
              "      <td>1.662835e-03</td>\n",
              "      <td>0.001663</td>\n",
              "    </tr>\n",
              "    <tr>\n",
              "      <th>41</th>\n",
              "      <td>1.000000</td>\n",
              "      <td>6.246426e-04</td>\n",
              "      <td>0.000625</td>\n",
              "    </tr>\n",
              "    <tr>\n",
              "      <th>42</th>\n",
              "      <td>1.000000</td>\n",
              "      <td>2.487572e-32</td>\n",
              "      <td>0.000000</td>\n",
              "    </tr>\n",
              "  </tbody>\n",
              "</table>\n",
              "</div>"
            ],
            "text/plain": [
              "    Cumulative Variance Ratio  Explained Variance Ratio  Difference\n",
              "0                    0.331802              3.318016e-01         NaN\n",
              "1                    0.508339              1.765372e-01    0.176537\n",
              "2                    0.681498              1.731596e-01    0.173160\n",
              "3                    0.706721              2.522256e-02    0.025223\n",
              "4                    0.730205              2.348401e-02    0.023484\n",
              "5                    0.747541              1.733641e-02    0.017336\n",
              "6                    0.763575              1.603408e-02    0.016034\n",
              "7                    0.778947              1.537110e-02    0.015371\n",
              "8                    0.792940              1.399372e-02    0.013994\n",
              "9                    0.806388              1.344812e-02    0.013448\n",
              "10                   0.818124              1.173519e-02    0.011735\n",
              "11                   0.828866              1.074223e-02    0.010742\n",
              "12                   0.839167              1.030114e-02    0.010301\n",
              "13                   0.849014              9.847082e-03    0.009847\n",
              "14                   0.858215              9.200479e-03    0.009200\n",
              "15                   0.866988              8.773905e-03    0.008774\n",
              "16                   0.875378              8.389396e-03    0.008389\n",
              "17                   0.883654              8.275752e-03    0.008276\n",
              "18                   0.891682              8.028875e-03    0.008029\n",
              "19                   0.899498              7.815854e-03    0.007816\n",
              "20                   0.907034              7.536092e-03    0.007536\n",
              "21                   0.914332              7.297159e-03    0.007297\n",
              "22                   0.921500              7.168131e-03    0.007168\n",
              "23                   0.928391              6.891767e-03    0.006892\n",
              "24                   0.934907              6.515320e-03    0.006515\n",
              "25                   0.941195              6.288159e-03    0.006288\n",
              "26                   0.947146              5.951013e-03    0.005951\n",
              "27                   0.952857              5.710673e-03    0.005711\n",
              "28                   0.958330              5.473282e-03    0.005473\n",
              "29                   0.963717              5.386646e-03    0.005387\n",
              "30                   0.968826              5.109106e-03    0.005109\n",
              "31                   0.973534              4.708602e-03    0.004709\n",
              "32                   0.978041              4.506765e-03    0.004507\n",
              "33                   0.982034              3.993355e-03    0.003993\n",
              "34                   0.985478              3.444068e-03    0.003444\n",
              "35                   0.988764              3.285856e-03    0.003286\n",
              "36                   0.991599              2.834584e-03    0.002835\n",
              "37                   0.993935              2.335868e-03    0.002336\n",
              "38                   0.995901              1.965755e-03    0.001966\n",
              "39                   0.997713              1.811980e-03    0.001812\n",
              "40                   0.999375              1.662835e-03    0.001663\n",
              "41                   1.000000              6.246426e-04    0.000625\n",
              "42                   1.000000              2.487572e-32    0.000000"
            ]
          },
          "metadata": {
            "tags": []
          }
        }
      ]
    },
    {
      "cell_type": "markdown",
      "metadata": {
        "id": "J9sTTDYn7Jp9"
      },
      "source": [
        "Based on the above we can see that after 26 components we are able to explain 95% of the information and the incremental amount of information explained by each component significantly decreases."
      ]
    },
    {
      "cell_type": "code",
      "metadata": {
        "id": "unSiCGma7Jp-"
      },
      "source": [
        "pca = PCA(n_components=26)\n",
        "pca.fit(train_X)\n",
        "X_train_pca = pca.transform(train_X)\n",
        "X_test_pca = pca.transform(val_X)"
      ],
      "execution_count": null,
      "outputs": []
    },
    {
      "cell_type": "markdown",
      "metadata": {
        "id": "svhT_Ch77Jp-"
      },
      "source": [
        "Looking at loadings:"
      ]
    },
    {
      "cell_type": "code",
      "metadata": {
        "id": "z4aScNWU7Jp-",
        "outputId": "8b1acc48-a921-4654-bc1d-521486e57d44"
      },
      "source": [
        "pca_dims = []\n",
        "for x in range(0, len(pca_df)):\n",
        "    pca_dims.append('PCA Component {}'.format(x))\n",
        "pca_test_df = pd.DataFrame(covar_matrixVal.components_, columns=cols, index=pca_dims)\n",
        "pca_test_df.head(10).T"
      ],
      "execution_count": null,
      "outputs": [
        {
          "output_type": "execute_result",
          "data": {
            "text/html": [
              "<div>\n",
              "<style scoped>\n",
              "    .dataframe tbody tr th:only-of-type {\n",
              "        vertical-align: middle;\n",
              "    }\n",
              "\n",
              "    .dataframe tbody tr th {\n",
              "        vertical-align: top;\n",
              "    }\n",
              "\n",
              "    .dataframe thead th {\n",
              "        text-align: right;\n",
              "    }\n",
              "</style>\n",
              "<table border=\"1\" class=\"dataframe\">\n",
              "  <thead>\n",
              "    <tr style=\"text-align: right;\">\n",
              "      <th></th>\n",
              "      <th>PCA Component 0</th>\n",
              "      <th>PCA Component 1</th>\n",
              "      <th>PCA Component 2</th>\n",
              "      <th>PCA Component 3</th>\n",
              "      <th>PCA Component 4</th>\n",
              "      <th>PCA Component 5</th>\n",
              "      <th>PCA Component 6</th>\n",
              "      <th>PCA Component 7</th>\n",
              "      <th>PCA Component 8</th>\n",
              "      <th>PCA Component 9</th>\n",
              "    </tr>\n",
              "  </thead>\n",
              "  <tbody>\n",
              "    <tr>\n",
              "      <th>Advanta</th>\n",
              "      <td>0.000427</td>\n",
              "      <td>0.002883</td>\n",
              "      <td>0.003760</td>\n",
              "      <td>-0.004095</td>\n",
              "      <td>-0.005090</td>\n",
              "      <td>-0.005873</td>\n",
              "      <td>0.005150</td>\n",
              "      <td>0.001768</td>\n",
              "      <td>0.006249</td>\n",
              "      <td>0.002844</td>\n",
              "    </tr>\n",
              "    <tr>\n",
              "      <th>Amex</th>\n",
              "      <td>-0.003341</td>\n",
              "      <td>0.000071</td>\n",
              "      <td>-0.000918</td>\n",
              "      <td>-0.015610</td>\n",
              "      <td>-0.011223</td>\n",
              "      <td>-0.002325</td>\n",
              "      <td>0.014669</td>\n",
              "      <td>0.005021</td>\n",
              "      <td>0.042039</td>\n",
              "      <td>-0.028996</td>\n",
              "    </tr>\n",
              "    <tr>\n",
              "      <th>Bank of America</th>\n",
              "      <td>-0.000953</td>\n",
              "      <td>0.002074</td>\n",
              "      <td>0.002267</td>\n",
              "      <td>0.009651</td>\n",
              "      <td>-0.005530</td>\n",
              "      <td>0.001248</td>\n",
              "      <td>-0.008394</td>\n",
              "      <td>-0.009709</td>\n",
              "      <td>0.012664</td>\n",
              "      <td>0.003355</td>\n",
              "    </tr>\n",
              "    <tr>\n",
              "      <th>Chase</th>\n",
              "      <td>-0.000455</td>\n",
              "      <td>0.006850</td>\n",
              "      <td>0.011511</td>\n",
              "      <td>0.003860</td>\n",
              "      <td>-0.001987</td>\n",
              "      <td>0.020193</td>\n",
              "      <td>0.015886</td>\n",
              "      <td>0.015399</td>\n",
              "      <td>-0.002078</td>\n",
              "      <td>-0.002492</td>\n",
              "    </tr>\n",
              "    <tr>\n",
              "      <th>Citibank</th>\n",
              "      <td>-0.001832</td>\n",
              "      <td>-0.000012</td>\n",
              "      <td>0.004220</td>\n",
              "      <td>-0.004180</td>\n",
              "      <td>-0.001160</td>\n",
              "      <td>0.016064</td>\n",
              "      <td>0.009350</td>\n",
              "      <td>0.012581</td>\n",
              "      <td>-0.007295</td>\n",
              "      <td>0.006528</td>\n",
              "    </tr>\n",
              "    <tr>\n",
              "      <th>HSBC</th>\n",
              "      <td>0.001149</td>\n",
              "      <td>0.003325</td>\n",
              "      <td>0.003780</td>\n",
              "      <td>0.003787</td>\n",
              "      <td>-0.010966</td>\n",
              "      <td>0.015932</td>\n",
              "      <td>0.003657</td>\n",
              "      <td>0.006562</td>\n",
              "      <td>-0.014048</td>\n",
              "      <td>-0.001540</td>\n",
              "    </tr>\n",
              "    <tr>\n",
              "      <th>Other Primary</th>\n",
              "      <td>0.003017</td>\n",
              "      <td>-0.014062</td>\n",
              "      <td>-0.015929</td>\n",
              "      <td>0.005517</td>\n",
              "      <td>0.020826</td>\n",
              "      <td>-0.029861</td>\n",
              "      <td>-0.017078</td>\n",
              "      <td>-0.016751</td>\n",
              "      <td>-0.020748</td>\n",
              "      <td>-0.005834</td>\n",
              "    </tr>\n",
              "    <tr>\n",
              "      <th>Other Secondary</th>\n",
              "      <td>0.006411</td>\n",
              "      <td>-0.003916</td>\n",
              "      <td>-0.013545</td>\n",
              "      <td>-0.002113</td>\n",
              "      <td>0.012517</td>\n",
              "      <td>-0.013933</td>\n",
              "      <td>-0.012058</td>\n",
              "      <td>-0.017906</td>\n",
              "      <td>-0.025679</td>\n",
              "      <td>0.009267</td>\n",
              "    </tr>\n",
              "    <tr>\n",
              "      <th>Wells Fargo</th>\n",
              "      <td>-0.004426</td>\n",
              "      <td>0.002786</td>\n",
              "      <td>0.004853</td>\n",
              "      <td>0.003184</td>\n",
              "      <td>0.002612</td>\n",
              "      <td>-0.001447</td>\n",
              "      <td>-0.011182</td>\n",
              "      <td>0.003035</td>\n",
              "      <td>0.008896</td>\n",
              "      <td>0.016869</td>\n",
              "    </tr>\n",
              "    <tr>\n",
              "      <th>Revenue Group</th>\n",
              "      <td>-0.000951</td>\n",
              "      <td>0.018856</td>\n",
              "      <td>-0.022110</td>\n",
              "      <td>0.027164</td>\n",
              "      <td>-0.063675</td>\n",
              "      <td>-0.374255</td>\n",
              "      <td>-0.293512</td>\n",
              "      <td>0.823721</td>\n",
              "      <td>-0.019507</td>\n",
              "      <td>-0.210564</td>\n",
              "    </tr>\n",
              "    <tr>\n",
              "      <th>Competitive Preference</th>\n",
              "      <td>0.026219</td>\n",
              "      <td>0.889383</td>\n",
              "      <td>-0.454470</td>\n",
              "      <td>0.007954</td>\n",
              "      <td>-0.004400</td>\n",
              "      <td>0.007903</td>\n",
              "      <td>0.006860</td>\n",
              "      <td>-0.023838</td>\n",
              "      <td>0.003424</td>\n",
              "      <td>0.003081</td>\n",
              "    </tr>\n",
              "    <tr>\n",
              "      <th>Consider</th>\n",
              "      <td>0.042140</td>\n",
              "      <td>-0.453676</td>\n",
              "      <td>-0.883691</td>\n",
              "      <td>0.045123</td>\n",
              "      <td>-0.034937</td>\n",
              "      <td>0.070472</td>\n",
              "      <td>0.024324</td>\n",
              "      <td>0.019153</td>\n",
              "      <td>0.005792</td>\n",
              "      <td>-0.013196</td>\n",
              "    </tr>\n",
              "    <tr>\n",
              "      <th>Easy Access</th>\n",
              "      <td>-0.138633</td>\n",
              "      <td>-0.000132</td>\n",
              "      <td>-0.002437</td>\n",
              "      <td>-0.036789</td>\n",
              "      <td>0.183018</td>\n",
              "      <td>0.039059</td>\n",
              "      <td>-0.107213</td>\n",
              "      <td>-0.046966</td>\n",
              "      <td>0.189796</td>\n",
              "      <td>-0.222475</td>\n",
              "    </tr>\n",
              "    <tr>\n",
              "      <th>Multi-Channels</th>\n",
              "      <td>-0.126060</td>\n",
              "      <td>0.002098</td>\n",
              "      <td>0.002028</td>\n",
              "      <td>-0.076045</td>\n",
              "      <td>0.109478</td>\n",
              "      <td>0.060770</td>\n",
              "      <td>-0.155307</td>\n",
              "      <td>-0.008421</td>\n",
              "      <td>0.198872</td>\n",
              "      <td>-0.149478</td>\n",
              "    </tr>\n",
              "    <tr>\n",
              "      <th>Fin_Products</th>\n",
              "      <td>-0.160506</td>\n",
              "      <td>-0.007637</td>\n",
              "      <td>-0.019242</td>\n",
              "      <td>-0.049012</td>\n",
              "      <td>0.035829</td>\n",
              "      <td>0.105523</td>\n",
              "      <td>-0.281369</td>\n",
              "      <td>-0.032241</td>\n",
              "      <td>-0.050371</td>\n",
              "      <td>0.101433</td>\n",
              "    </tr>\n",
              "    <tr>\n",
              "      <th>Cash Flow</th>\n",
              "      <td>-0.196388</td>\n",
              "      <td>0.013264</td>\n",
              "      <td>0.007042</td>\n",
              "      <td>0.238507</td>\n",
              "      <td>-0.283995</td>\n",
              "      <td>0.088610</td>\n",
              "      <td>-0.207693</td>\n",
              "      <td>-0.022832</td>\n",
              "      <td>0.022031</td>\n",
              "      <td>-0.029428</td>\n",
              "    </tr>\n",
              "    <tr>\n",
              "      <th>Cool</th>\n",
              "      <td>-0.155726</td>\n",
              "      <td>0.004306</td>\n",
              "      <td>-0.006458</td>\n",
              "      <td>-0.582597</td>\n",
              "      <td>-0.510168</td>\n",
              "      <td>0.034361</td>\n",
              "      <td>0.166456</td>\n",
              "      <td>-0.034255</td>\n",
              "      <td>-0.389067</td>\n",
              "      <td>-0.367186</td>\n",
              "    </tr>\n",
              "    <tr>\n",
              "      <th>Leader</th>\n",
              "      <td>-0.131221</td>\n",
              "      <td>0.000182</td>\n",
              "      <td>-0.024156</td>\n",
              "      <td>-0.407530</td>\n",
              "      <td>-0.092061</td>\n",
              "      <td>0.042863</td>\n",
              "      <td>-0.192324</td>\n",
              "      <td>0.011929</td>\n",
              "      <td>0.282266</td>\n",
              "      <td>0.331272</td>\n",
              "    </tr>\n",
              "    <tr>\n",
              "      <th>Innovative</th>\n",
              "      <td>-0.157077</td>\n",
              "      <td>0.001636</td>\n",
              "      <td>-0.010310</td>\n",
              "      <td>-0.284038</td>\n",
              "      <td>-0.071492</td>\n",
              "      <td>0.080396</td>\n",
              "      <td>-0.045033</td>\n",
              "      <td>0.060546</td>\n",
              "      <td>0.190233</td>\n",
              "      <td>0.299572</td>\n",
              "    </tr>\n",
              "    <tr>\n",
              "      <th>Personalized</th>\n",
              "      <td>-0.178160</td>\n",
              "      <td>0.003414</td>\n",
              "      <td>-0.032315</td>\n",
              "      <td>-0.004402</td>\n",
              "      <td>0.145751</td>\n",
              "      <td>-0.179305</td>\n",
              "      <td>0.039729</td>\n",
              "      <td>-0.135137</td>\n",
              "      <td>0.093093</td>\n",
              "      <td>-0.043134</td>\n",
              "    </tr>\n",
              "    <tr>\n",
              "      <th>Trustworthy</th>\n",
              "      <td>-0.127300</td>\n",
              "      <td>-0.018324</td>\n",
              "      <td>-0.044433</td>\n",
              "      <td>-0.173614</td>\n",
              "      <td>0.077820</td>\n",
              "      <td>-0.170370</td>\n",
              "      <td>-0.118537</td>\n",
              "      <td>-0.039453</td>\n",
              "      <td>0.154414</td>\n",
              "      <td>-0.063686</td>\n",
              "    </tr>\n",
              "    <tr>\n",
              "      <th>Responsive</th>\n",
              "      <td>-0.196733</td>\n",
              "      <td>-0.002327</td>\n",
              "      <td>-0.010780</td>\n",
              "      <td>0.104762</td>\n",
              "      <td>0.009646</td>\n",
              "      <td>-0.047508</td>\n",
              "      <td>-0.114088</td>\n",
              "      <td>-0.124261</td>\n",
              "      <td>-0.075070</td>\n",
              "      <td>0.000390</td>\n",
              "    </tr>\n",
              "    <tr>\n",
              "      <th>Advisor</th>\n",
              "      <td>-0.193865</td>\n",
              "      <td>0.000400</td>\n",
              "      <td>0.014544</td>\n",
              "      <td>0.304734</td>\n",
              "      <td>-0.486531</td>\n",
              "      <td>-0.195223</td>\n",
              "      <td>-0.140325</td>\n",
              "      <td>-0.144022</td>\n",
              "      <td>0.304155</td>\n",
              "      <td>0.030768</td>\n",
              "    </tr>\n",
              "    <tr>\n",
              "      <th>Understands Needs</th>\n",
              "      <td>-0.195464</td>\n",
              "      <td>0.004170</td>\n",
              "      <td>-0.007548</td>\n",
              "      <td>0.166018</td>\n",
              "      <td>-0.114193</td>\n",
              "      <td>-0.079597</td>\n",
              "      <td>-0.062335</td>\n",
              "      <td>-0.023999</td>\n",
              "      <td>-0.124965</td>\n",
              "      <td>0.139445</td>\n",
              "    </tr>\n",
              "    <tr>\n",
              "      <th>Problem Solver</th>\n",
              "      <td>-0.208408</td>\n",
              "      <td>-0.005776</td>\n",
              "      <td>0.001103</td>\n",
              "      <td>0.203034</td>\n",
              "      <td>-0.215058</td>\n",
              "      <td>-0.008789</td>\n",
              "      <td>-0.078841</td>\n",
              "      <td>-0.071980</td>\n",
              "      <td>-0.143706</td>\n",
              "      <td>0.109270</td>\n",
              "    </tr>\n",
              "    <tr>\n",
              "      <th>Best Interest</th>\n",
              "      <td>-0.206230</td>\n",
              "      <td>-0.007035</td>\n",
              "      <td>-0.018333</td>\n",
              "      <td>0.047165</td>\n",
              "      <td>-0.071223</td>\n",
              "      <td>-0.192084</td>\n",
              "      <td>0.118257</td>\n",
              "      <td>-0.021880</td>\n",
              "      <td>-0.169131</td>\n",
              "      <td>0.005039</td>\n",
              "    </tr>\n",
              "    <tr>\n",
              "      <th>Prestigious</th>\n",
              "      <td>-0.111720</td>\n",
              "      <td>-0.016804</td>\n",
              "      <td>-0.033203</td>\n",
              "      <td>-0.285180</td>\n",
              "      <td>-0.027532</td>\n",
              "      <td>-0.099448</td>\n",
              "      <td>-0.119593</td>\n",
              "      <td>-0.081268</td>\n",
              "      <td>0.236586</td>\n",
              "      <td>0.047349</td>\n",
              "    </tr>\n",
              "    <tr>\n",
              "      <th>Feel Valued</th>\n",
              "      <td>-0.203506</td>\n",
              "      <td>-0.007894</td>\n",
              "      <td>-0.021370</td>\n",
              "      <td>0.020893</td>\n",
              "      <td>0.138727</td>\n",
              "      <td>-0.211287</td>\n",
              "      <td>0.188427</td>\n",
              "      <td>-0.111403</td>\n",
              "      <td>-0.056248</td>\n",
              "      <td>-0.104475</td>\n",
              "    </tr>\n",
              "    <tr>\n",
              "      <th>Personal</th>\n",
              "      <td>-0.203286</td>\n",
              "      <td>0.001947</td>\n",
              "      <td>-0.015956</td>\n",
              "      <td>0.062212</td>\n",
              "      <td>0.089003</td>\n",
              "      <td>-0.198167</td>\n",
              "      <td>0.163950</td>\n",
              "      <td>-0.170010</td>\n",
              "      <td>-0.074742</td>\n",
              "      <td>-0.154197</td>\n",
              "    </tr>\n",
              "    <tr>\n",
              "      <th>Rewards</th>\n",
              "      <td>-0.207016</td>\n",
              "      <td>0.017201</td>\n",
              "      <td>0.013653</td>\n",
              "      <td>0.121239</td>\n",
              "      <td>-0.070151</td>\n",
              "      <td>0.087405</td>\n",
              "      <td>0.396950</td>\n",
              "      <td>0.203895</td>\n",
              "      <td>0.204136</td>\n",
              "      <td>-0.098848</td>\n",
              "    </tr>\n",
              "    <tr>\n",
              "      <th>Rewards Program</th>\n",
              "      <td>-0.206958</td>\n",
              "      <td>0.017331</td>\n",
              "      <td>0.026910</td>\n",
              "      <td>0.085889</td>\n",
              "      <td>-0.129619</td>\n",
              "      <td>0.341016</td>\n",
              "      <td>0.464959</td>\n",
              "      <td>0.259227</td>\n",
              "      <td>0.360552</td>\n",
              "      <td>-0.033713</td>\n",
              "    </tr>\n",
              "    <tr>\n",
              "      <th>Easy App</th>\n",
              "      <td>-0.172747</td>\n",
              "      <td>0.016230</td>\n",
              "      <td>0.012936</td>\n",
              "      <td>-0.009220</td>\n",
              "      <td>0.177987</td>\n",
              "      <td>0.316140</td>\n",
              "      <td>-0.099278</td>\n",
              "      <td>0.087516</td>\n",
              "      <td>-0.050455</td>\n",
              "      <td>-0.187270</td>\n",
              "    </tr>\n",
              "    <tr>\n",
              "      <th>Cust Service</th>\n",
              "      <td>-0.184185</td>\n",
              "      <td>-0.005222</td>\n",
              "      <td>-0.032612</td>\n",
              "      <td>-0.060139</td>\n",
              "      <td>0.193237</td>\n",
              "      <td>-0.167117</td>\n",
              "      <td>0.043354</td>\n",
              "      <td>-0.067765</td>\n",
              "      <td>0.048443</td>\n",
              "      <td>-0.063961</td>\n",
              "    </tr>\n",
              "    <tr>\n",
              "      <th>Financing</th>\n",
              "      <td>-0.196293</td>\n",
              "      <td>0.013057</td>\n",
              "      <td>-0.006247</td>\n",
              "      <td>0.047255</td>\n",
              "      <td>0.054994</td>\n",
              "      <td>0.246022</td>\n",
              "      <td>-0.175734</td>\n",
              "      <td>0.015403</td>\n",
              "      <td>-0.266066</td>\n",
              "      <td>0.051315</td>\n",
              "    </tr>\n",
              "    <tr>\n",
              "      <th>Clear Comm</th>\n",
              "      <td>-0.185168</td>\n",
              "      <td>-0.008131</td>\n",
              "      <td>-0.004292</td>\n",
              "      <td>-0.013912</td>\n",
              "      <td>0.178225</td>\n",
              "      <td>0.010415</td>\n",
              "      <td>-0.011108</td>\n",
              "      <td>0.009584</td>\n",
              "      <td>-0.008691</td>\n",
              "      <td>-0.139437</td>\n",
              "    </tr>\n",
              "    <tr>\n",
              "      <th>Security</th>\n",
              "      <td>-0.129487</td>\n",
              "      <td>0.002873</td>\n",
              "      <td>-0.007637</td>\n",
              "      <td>-0.042641</td>\n",
              "      <td>0.118581</td>\n",
              "      <td>0.035724</td>\n",
              "      <td>-0.119205</td>\n",
              "      <td>-0.040582</td>\n",
              "      <td>0.183153</td>\n",
              "      <td>-0.183429</td>\n",
              "    </tr>\n",
              "    <tr>\n",
              "      <th>Easier Life</th>\n",
              "      <td>-0.191717</td>\n",
              "      <td>-0.011100</td>\n",
              "      <td>-0.017821</td>\n",
              "      <td>0.034756</td>\n",
              "      <td>0.026110</td>\n",
              "      <td>-0.136851</td>\n",
              "      <td>0.007021</td>\n",
              "      <td>-0.078942</td>\n",
              "      <td>0.044190</td>\n",
              "      <td>-0.054152</td>\n",
              "    </tr>\n",
              "    <tr>\n",
              "      <th>Easy To Invest</th>\n",
              "      <td>-0.202007</td>\n",
              "      <td>0.010135</td>\n",
              "      <td>-0.003056</td>\n",
              "      <td>0.124626</td>\n",
              "      <td>-0.031798</td>\n",
              "      <td>0.259358</td>\n",
              "      <td>-0.186413</td>\n",
              "      <td>0.055224</td>\n",
              "      <td>-0.176507</td>\n",
              "      <td>0.050550</td>\n",
              "    </tr>\n",
              "    <tr>\n",
              "      <th>Quick App</th>\n",
              "      <td>-0.175944</td>\n",
              "      <td>0.004148</td>\n",
              "      <td>0.013975</td>\n",
              "      <td>0.021397</td>\n",
              "      <td>0.146240</td>\n",
              "      <td>0.365442</td>\n",
              "      <td>-0.121948</td>\n",
              "      <td>0.075225</td>\n",
              "      <td>-0.082068</td>\n",
              "      <td>-0.142387</td>\n",
              "    </tr>\n",
              "    <tr>\n",
              "      <th>Fees</th>\n",
              "      <td>-0.186900</td>\n",
              "      <td>0.000798</td>\n",
              "      <td>-0.020404</td>\n",
              "      <td>-0.060010</td>\n",
              "      <td>0.156635</td>\n",
              "      <td>-0.081701</td>\n",
              "      <td>0.155775</td>\n",
              "      <td>0.170520</td>\n",
              "      <td>-0.166347</td>\n",
              "      <td>0.403315</td>\n",
              "    </tr>\n",
              "    <tr>\n",
              "      <th>best Rates</th>\n",
              "      <td>-0.194493</td>\n",
              "      <td>-0.002158</td>\n",
              "      <td>-0.007020</td>\n",
              "      <td>-0.044335</td>\n",
              "      <td>0.084660</td>\n",
              "      <td>-0.031589</td>\n",
              "      <td>0.166272</td>\n",
              "      <td>0.166398</td>\n",
              "      <td>-0.181509</td>\n",
              "      <td>0.368989</td>\n",
              "    </tr>\n",
              "    <tr>\n",
              "      <th>Fair</th>\n",
              "      <td>-0.183046</td>\n",
              "      <td>-0.008671</td>\n",
              "      <td>-0.033298</td>\n",
              "      <td>-0.017978</td>\n",
              "      <td>0.151380</td>\n",
              "      <td>-0.136816</td>\n",
              "      <td>-0.017316</td>\n",
              "      <td>-0.014291</td>\n",
              "      <td>-0.053823</td>\n",
              "      <td>-0.123843</td>\n",
              "    </tr>\n",
              "    <tr>\n",
              "      <th>Value</th>\n",
              "      <td>-0.185519</td>\n",
              "      <td>-0.003515</td>\n",
              "      <td>-0.018515</td>\n",
              "      <td>-0.019045</td>\n",
              "      <td>0.137274</td>\n",
              "      <td>-0.144436</td>\n",
              "      <td>0.075106</td>\n",
              "      <td>0.074111</td>\n",
              "      <td>-0.075966</td>\n",
              "      <td>0.126287</td>\n",
              "    </tr>\n",
              "  </tbody>\n",
              "</table>\n",
              "</div>"
            ],
            "text/plain": [
              "                        PCA Component 0  PCA Component 1  PCA Component 2  \\\n",
              "Advanta                        0.000427         0.002883         0.003760   \n",
              "Amex                          -0.003341         0.000071        -0.000918   \n",
              "Bank of America               -0.000953         0.002074         0.002267   \n",
              "Chase                         -0.000455         0.006850         0.011511   \n",
              "Citibank                      -0.001832        -0.000012         0.004220   \n",
              "HSBC                           0.001149         0.003325         0.003780   \n",
              "Other Primary                  0.003017        -0.014062        -0.015929   \n",
              "Other Secondary                0.006411        -0.003916        -0.013545   \n",
              "Wells Fargo                   -0.004426         0.002786         0.004853   \n",
              "Revenue Group                 -0.000951         0.018856        -0.022110   \n",
              "Competitive Preference         0.026219         0.889383        -0.454470   \n",
              "Consider                       0.042140        -0.453676        -0.883691   \n",
              "Easy Access                   -0.138633        -0.000132        -0.002437   \n",
              "Multi-Channels                -0.126060         0.002098         0.002028   \n",
              "Fin_Products                  -0.160506        -0.007637        -0.019242   \n",
              "Cash Flow                     -0.196388         0.013264         0.007042   \n",
              "Cool                          -0.155726         0.004306        -0.006458   \n",
              "Leader                        -0.131221         0.000182        -0.024156   \n",
              "Innovative                    -0.157077         0.001636        -0.010310   \n",
              "Personalized                  -0.178160         0.003414        -0.032315   \n",
              "Trustworthy                   -0.127300        -0.018324        -0.044433   \n",
              "Responsive                    -0.196733        -0.002327        -0.010780   \n",
              "Advisor                       -0.193865         0.000400         0.014544   \n",
              "Understands Needs             -0.195464         0.004170        -0.007548   \n",
              "Problem Solver                -0.208408        -0.005776         0.001103   \n",
              "Best Interest                 -0.206230        -0.007035        -0.018333   \n",
              "Prestigious                   -0.111720        -0.016804        -0.033203   \n",
              "Feel Valued                   -0.203506        -0.007894        -0.021370   \n",
              "Personal                      -0.203286         0.001947        -0.015956   \n",
              "Rewards                       -0.207016         0.017201         0.013653   \n",
              "Rewards Program               -0.206958         0.017331         0.026910   \n",
              "Easy App                      -0.172747         0.016230         0.012936   \n",
              "Cust Service                  -0.184185        -0.005222        -0.032612   \n",
              "Financing                     -0.196293         0.013057        -0.006247   \n",
              "Clear Comm                    -0.185168        -0.008131        -0.004292   \n",
              "Security                      -0.129487         0.002873        -0.007637   \n",
              "Easier Life                   -0.191717        -0.011100        -0.017821   \n",
              "Easy To Invest                -0.202007         0.010135        -0.003056   \n",
              "Quick App                     -0.175944         0.004148         0.013975   \n",
              "Fees                          -0.186900         0.000798        -0.020404   \n",
              "best Rates                    -0.194493        -0.002158        -0.007020   \n",
              "Fair                          -0.183046        -0.008671        -0.033298   \n",
              "Value                         -0.185519        -0.003515        -0.018515   \n",
              "\n",
              "                        PCA Component 3  PCA Component 4  PCA Component 5  \\\n",
              "Advanta                       -0.004095        -0.005090        -0.005873   \n",
              "Amex                          -0.015610        -0.011223        -0.002325   \n",
              "Bank of America                0.009651        -0.005530         0.001248   \n",
              "Chase                          0.003860        -0.001987         0.020193   \n",
              "Citibank                      -0.004180        -0.001160         0.016064   \n",
              "HSBC                           0.003787        -0.010966         0.015932   \n",
              "Other Primary                  0.005517         0.020826        -0.029861   \n",
              "Other Secondary               -0.002113         0.012517        -0.013933   \n",
              "Wells Fargo                    0.003184         0.002612        -0.001447   \n",
              "Revenue Group                  0.027164        -0.063675        -0.374255   \n",
              "Competitive Preference         0.007954        -0.004400         0.007903   \n",
              "Consider                       0.045123        -0.034937         0.070472   \n",
              "Easy Access                   -0.036789         0.183018         0.039059   \n",
              "Multi-Channels                -0.076045         0.109478         0.060770   \n",
              "Fin_Products                  -0.049012         0.035829         0.105523   \n",
              "Cash Flow                      0.238507        -0.283995         0.088610   \n",
              "Cool                          -0.582597        -0.510168         0.034361   \n",
              "Leader                        -0.407530        -0.092061         0.042863   \n",
              "Innovative                    -0.284038        -0.071492         0.080396   \n",
              "Personalized                  -0.004402         0.145751        -0.179305   \n",
              "Trustworthy                   -0.173614         0.077820        -0.170370   \n",
              "Responsive                     0.104762         0.009646        -0.047508   \n",
              "Advisor                        0.304734        -0.486531        -0.195223   \n",
              "Understands Needs              0.166018        -0.114193        -0.079597   \n",
              "Problem Solver                 0.203034        -0.215058        -0.008789   \n",
              "Best Interest                  0.047165        -0.071223        -0.192084   \n",
              "Prestigious                   -0.285180        -0.027532        -0.099448   \n",
              "Feel Valued                    0.020893         0.138727        -0.211287   \n",
              "Personal                       0.062212         0.089003        -0.198167   \n",
              "Rewards                        0.121239        -0.070151         0.087405   \n",
              "Rewards Program                0.085889        -0.129619         0.341016   \n",
              "Easy App                      -0.009220         0.177987         0.316140   \n",
              "Cust Service                  -0.060139         0.193237        -0.167117   \n",
              "Financing                      0.047255         0.054994         0.246022   \n",
              "Clear Comm                    -0.013912         0.178225         0.010415   \n",
              "Security                      -0.042641         0.118581         0.035724   \n",
              "Easier Life                    0.034756         0.026110        -0.136851   \n",
              "Easy To Invest                 0.124626        -0.031798         0.259358   \n",
              "Quick App                      0.021397         0.146240         0.365442   \n",
              "Fees                          -0.060010         0.156635        -0.081701   \n",
              "best Rates                    -0.044335         0.084660        -0.031589   \n",
              "Fair                          -0.017978         0.151380        -0.136816   \n",
              "Value                         -0.019045         0.137274        -0.144436   \n",
              "\n",
              "                        PCA Component 6  PCA Component 7  PCA Component 8  \\\n",
              "Advanta                        0.005150         0.001768         0.006249   \n",
              "Amex                           0.014669         0.005021         0.042039   \n",
              "Bank of America               -0.008394        -0.009709         0.012664   \n",
              "Chase                          0.015886         0.015399        -0.002078   \n",
              "Citibank                       0.009350         0.012581        -0.007295   \n",
              "HSBC                           0.003657         0.006562        -0.014048   \n",
              "Other Primary                 -0.017078        -0.016751        -0.020748   \n",
              "Other Secondary               -0.012058        -0.017906        -0.025679   \n",
              "Wells Fargo                   -0.011182         0.003035         0.008896   \n",
              "Revenue Group                 -0.293512         0.823721        -0.019507   \n",
              "Competitive Preference         0.006860        -0.023838         0.003424   \n",
              "Consider                       0.024324         0.019153         0.005792   \n",
              "Easy Access                   -0.107213        -0.046966         0.189796   \n",
              "Multi-Channels                -0.155307        -0.008421         0.198872   \n",
              "Fin_Products                  -0.281369        -0.032241        -0.050371   \n",
              "Cash Flow                     -0.207693        -0.022832         0.022031   \n",
              "Cool                           0.166456        -0.034255        -0.389067   \n",
              "Leader                        -0.192324         0.011929         0.282266   \n",
              "Innovative                    -0.045033         0.060546         0.190233   \n",
              "Personalized                   0.039729        -0.135137         0.093093   \n",
              "Trustworthy                   -0.118537        -0.039453         0.154414   \n",
              "Responsive                    -0.114088        -0.124261        -0.075070   \n",
              "Advisor                       -0.140325        -0.144022         0.304155   \n",
              "Understands Needs             -0.062335        -0.023999        -0.124965   \n",
              "Problem Solver                -0.078841        -0.071980        -0.143706   \n",
              "Best Interest                  0.118257        -0.021880        -0.169131   \n",
              "Prestigious                   -0.119593        -0.081268         0.236586   \n",
              "Feel Valued                    0.188427        -0.111403        -0.056248   \n",
              "Personal                       0.163950        -0.170010        -0.074742   \n",
              "Rewards                        0.396950         0.203895         0.204136   \n",
              "Rewards Program                0.464959         0.259227         0.360552   \n",
              "Easy App                      -0.099278         0.087516        -0.050455   \n",
              "Cust Service                   0.043354        -0.067765         0.048443   \n",
              "Financing                     -0.175734         0.015403        -0.266066   \n",
              "Clear Comm                    -0.011108         0.009584        -0.008691   \n",
              "Security                      -0.119205        -0.040582         0.183153   \n",
              "Easier Life                    0.007021        -0.078942         0.044190   \n",
              "Easy To Invest                -0.186413         0.055224        -0.176507   \n",
              "Quick App                     -0.121948         0.075225        -0.082068   \n",
              "Fees                           0.155775         0.170520        -0.166347   \n",
              "best Rates                     0.166272         0.166398        -0.181509   \n",
              "Fair                          -0.017316        -0.014291        -0.053823   \n",
              "Value                          0.075106         0.074111        -0.075966   \n",
              "\n",
              "                        PCA Component 9  \n",
              "Advanta                        0.002844  \n",
              "Amex                          -0.028996  \n",
              "Bank of America                0.003355  \n",
              "Chase                         -0.002492  \n",
              "Citibank                       0.006528  \n",
              "HSBC                          -0.001540  \n",
              "Other Primary                 -0.005834  \n",
              "Other Secondary                0.009267  \n",
              "Wells Fargo                    0.016869  \n",
              "Revenue Group                 -0.210564  \n",
              "Competitive Preference         0.003081  \n",
              "Consider                      -0.013196  \n",
              "Easy Access                   -0.222475  \n",
              "Multi-Channels                -0.149478  \n",
              "Fin_Products                   0.101433  \n",
              "Cash Flow                     -0.029428  \n",
              "Cool                          -0.367186  \n",
              "Leader                         0.331272  \n",
              "Innovative                     0.299572  \n",
              "Personalized                  -0.043134  \n",
              "Trustworthy                   -0.063686  \n",
              "Responsive                     0.000390  \n",
              "Advisor                        0.030768  \n",
              "Understands Needs              0.139445  \n",
              "Problem Solver                 0.109270  \n",
              "Best Interest                  0.005039  \n",
              "Prestigious                    0.047349  \n",
              "Feel Valued                   -0.104475  \n",
              "Personal                      -0.154197  \n",
              "Rewards                       -0.098848  \n",
              "Rewards Program               -0.033713  \n",
              "Easy App                      -0.187270  \n",
              "Cust Service                  -0.063961  \n",
              "Financing                      0.051315  \n",
              "Clear Comm                    -0.139437  \n",
              "Security                      -0.183429  \n",
              "Easier Life                   -0.054152  \n",
              "Easy To Invest                 0.050550  \n",
              "Quick App                     -0.142387  \n",
              "Fees                           0.403315  \n",
              "best Rates                     0.368989  \n",
              "Fair                          -0.123843  \n",
              "Value                          0.126287  "
            ]
          },
          "metadata": {
            "tags": []
          },
          "execution_count": 191
        }
      ]
    },
    {
      "cell_type": "code",
      "metadata": {
        "id": "8hMBdjUl7JqA"
      },
      "source": [
        "PCAtrainmodel = trainmodel.copy()\n",
        "X,y=PCAtrainmodel.drop(['Consider'],axis=1),PCAtrainmodel['Consider']\n",
        "train_X, val_X, train_y, val_y=train_test_split(X,y, train_size=(.8))"
      ],
      "execution_count": null,
      "outputs": []
    },
    {
      "cell_type": "code",
      "metadata": {
        "id": "1db2o3wf7JqA"
      },
      "source": [
        "train_y = np.array(train_y)"
      ],
      "execution_count": null,
      "outputs": []
    },
    {
      "cell_type": "code",
      "metadata": {
        "id": "qmsBGED77JqA"
      },
      "source": [
        "pca = PCA(n_components = 26)\n",
        "pca.fit(train_X,train_y)\n",
        "\n",
        "X_train_pca = pca.transform(train_X)\n",
        "X_test_pca = pca.transform(val_X)"
      ],
      "execution_count": null,
      "outputs": []
    },
    {
      "cell_type": "code",
      "metadata": {
        "id": "NMsDOdzw7JqA"
      },
      "source": [
        "def PCARegressorFit(model): \n",
        "    Regressor = model()\n",
        "    Regressor.fit(X_train_pca, train_y)\n",
        "    Regressor.predict(X_test_pca)\n",
        "    return Regressor"
      ],
      "execution_count": null,
      "outputs": []
    },
    {
      "cell_type": "markdown",
      "metadata": {
        "id": "KgR9gD_Q7JqB"
      },
      "source": [
        "##### Linear Regression: "
      ]
    },
    {
      "cell_type": "code",
      "metadata": {
        "id": "qN8lim6o7JqC",
        "outputId": "1e75f50b-7889-4a30-e49e-0bc8cb5bcb4c"
      },
      "source": [
        "linearregression = PCARegressorFit(LinearRegression)\n",
        "\n",
        "acc_lin_reg = round( linearregression.score(X_test_pca, val_y) * 100, 2)\n",
        "print (str(acc_lin_reg) + ' percent')"
      ],
      "execution_count": null,
      "outputs": [
        {
          "output_type": "stream",
          "text": [
            "9.92 percent\n"
          ],
          "name": "stdout"
        }
      ]
    },
    {
      "cell_type": "markdown",
      "metadata": {
        "id": "sqM0kJHt7JqC"
      },
      "source": [
        "##### Decision Tree: "
      ]
    },
    {
      "cell_type": "code",
      "metadata": {
        "id": "V2xrCfys7JqC",
        "outputId": "6ef213a7-7ce9-436c-91fa-ceb7c0ade2b9"
      },
      "source": [
        "decisiontree = PCARegressorFit(DecisionTreeRegressor)\n",
        "\n",
        "acc_decision_tree = round(decisiontree.score(X_test_pca, val_y) * 100, 2)\n",
        "print(round(acc_decision_tree,2,), ' percent')"
      ],
      "execution_count": null,
      "outputs": [
        {
          "output_type": "stream",
          "text": [
            "-44.3  percent\n"
          ],
          "name": "stdout"
        }
      ]
    },
    {
      "cell_type": "markdown",
      "metadata": {
        "id": "ZfNuKfZQ7JqD"
      },
      "source": [
        "##### Random Forest:  "
      ]
    },
    {
      "cell_type": "code",
      "metadata": {
        "id": "xX23vWa97JqD",
        "outputId": "ed5793ae-8567-4a80-8554-8f1fb4732a72"
      },
      "source": [
        "forest = PCARegressorFit(RandomForestRegressor)\n",
        "\n",
        "acc_random_forest = round(forest.score(X_test_pca, val_y) * 100, 2)\n",
        "print(round(acc_random_forest,2,), ' percent')"
      ],
      "execution_count": null,
      "outputs": [
        {
          "output_type": "stream",
          "text": [
            "25.87  percent\n"
          ],
          "name": "stdout"
        }
      ]
    },
    {
      "cell_type": "markdown",
      "metadata": {
        "id": "TIISm5br7JqD"
      },
      "source": [
        "##### KNeighbors Regressor:"
      ]
    },
    {
      "cell_type": "code",
      "metadata": {
        "id": "BiXO1p2X7JqF",
        "outputId": "c53fc0c9-126d-4a0e-a302-afa3df3fd1bc"
      },
      "source": [
        "KNN = PCARegressorFit(KNeighborsRegressor)\n",
        "\n",
        "acc_KNN = round(KNN.score(X_test_pca, val_y) * 100, 2)\n",
        "print(round(acc_KNN,2,), ' percent')"
      ],
      "execution_count": null,
      "outputs": [
        {
          "output_type": "stream",
          "text": [
            "16.75  percent\n"
          ],
          "name": "stdout"
        }
      ]
    },
    {
      "cell_type": "markdown",
      "metadata": {
        "id": "crg1qMTt7JqF"
      },
      "source": [
        "#### Selecting Hyperparameters Via Randomized Search CV:"
      ]
    },
    {
      "cell_type": "code",
      "metadata": {
        "id": "BT7erY407JqF"
      },
      "source": [
        "forest_2 = RandomForestRegressor()"
      ],
      "execution_count": null,
      "outputs": []
    },
    {
      "cell_type": "code",
      "metadata": {
        "id": "RijFB-H97JqG",
        "outputId": "614c659e-8654-4332-b6c4-decf96558de6"
      },
      "source": [
        "\n",
        "n_estimators = [int(x) for x in np.linspace(start = 100, stop = 1000, num = 10)]\n",
        "max_features = ['log2', 'sqrt']\n",
        "max_depth = [int(x) for x in np.linspace(start = 1, stop = 15, num = 15)]\n",
        "min_samples_split = [int(x) for x in np.linspace(start = 2, stop = 50, num = 10)]\n",
        "min_samples_leaf = [int(x) for x in np.linspace(start = 2, stop = 50, num = 10)]\n",
        "bootstrap = [True, False]\n",
        "param_dist = {'n_estimators': n_estimators,\n",
        "               'max_features': max_features,\n",
        "               'max_depth': max_depth,\n",
        "               'min_samples_split': min_samples_split,\n",
        "               'min_samples_leaf': min_samples_leaf,\n",
        "               'bootstrap': bootstrap}\n",
        "\n",
        "rs = RandomizedSearchCV(forest_2, \n",
        "                        param_dist, \n",
        "                        n_iter = 100, \n",
        "                        cv = 3, \n",
        "                        verbose = 1, \n",
        "                        n_jobs=-1, \n",
        "                        random_state=0)\n",
        "\n",
        "rs.fit(X_train_pca, train_y)\n",
        "rs.best_params_\n"
      ],
      "execution_count": null,
      "outputs": [
        {
          "output_type": "stream",
          "text": [
            "Fitting 3 folds for each of 100 candidates, totalling 300 fits\n"
          ],
          "name": "stdout"
        },
        {
          "output_type": "execute_result",
          "data": {
            "text/plain": [
              "{'n_estimators': 700,\n",
              " 'min_samples_split': 12,\n",
              " 'min_samples_leaf': 2,\n",
              " 'max_features': 'sqrt',\n",
              " 'max_depth': 13,\n",
              " 'bootstrap': False}"
            ]
          },
          "metadata": {
            "tags": []
          },
          "execution_count": 201
        }
      ]
    },
    {
      "cell_type": "markdown",
      "metadata": {
        "id": "qTuV64Kn7JqH"
      },
      "source": [
        "Looking at parameters by rank:"
      ]
    },
    {
      "cell_type": "code",
      "metadata": {
        "id": "s815vcCS7JqJ",
        "outputId": "f898161e-4e82-47ed-af96-a51ebab68d5b"
      },
      "source": [
        "rs_df = pd.DataFrame(rs.cv_results_).sort_values('rank_test_score').reset_index(drop=True)\n",
        "rs_df = rs_df.drop([\n",
        "            'mean_fit_time', \n",
        "            'std_fit_time', \n",
        "            'mean_score_time',\n",
        "            'std_score_time', \n",
        "            'params', \n",
        "            'split0_test_score', \n",
        "            'split1_test_score', \n",
        "            'split2_test_score', \n",
        "            'std_test_score'],\n",
        "            axis=1)\n",
        "rs_df.head(10)"
      ],
      "execution_count": null,
      "outputs": [
        {
          "output_type": "execute_result",
          "data": {
            "text/html": [
              "<div>\n",
              "<style scoped>\n",
              "    .dataframe tbody tr th:only-of-type {\n",
              "        vertical-align: middle;\n",
              "    }\n",
              "\n",
              "    .dataframe tbody tr th {\n",
              "        vertical-align: top;\n",
              "    }\n",
              "\n",
              "    .dataframe thead th {\n",
              "        text-align: right;\n",
              "    }\n",
              "</style>\n",
              "<table border=\"1\" class=\"dataframe\">\n",
              "  <thead>\n",
              "    <tr style=\"text-align: right;\">\n",
              "      <th></th>\n",
              "      <th>param_n_estimators</th>\n",
              "      <th>param_min_samples_split</th>\n",
              "      <th>param_min_samples_leaf</th>\n",
              "      <th>param_max_features</th>\n",
              "      <th>param_max_depth</th>\n",
              "      <th>param_bootstrap</th>\n",
              "      <th>mean_test_score</th>\n",
              "      <th>rank_test_score</th>\n",
              "    </tr>\n",
              "  </thead>\n",
              "  <tbody>\n",
              "    <tr>\n",
              "      <th>0</th>\n",
              "      <td>700</td>\n",
              "      <td>12</td>\n",
              "      <td>2</td>\n",
              "      <td>sqrt</td>\n",
              "      <td>13</td>\n",
              "      <td>False</td>\n",
              "      <td>0.273245</td>\n",
              "      <td>1</td>\n",
              "    </tr>\n",
              "    <tr>\n",
              "      <th>1</th>\n",
              "      <td>600</td>\n",
              "      <td>23</td>\n",
              "      <td>2</td>\n",
              "      <td>sqrt</td>\n",
              "      <td>15</td>\n",
              "      <td>False</td>\n",
              "      <td>0.272383</td>\n",
              "      <td>2</td>\n",
              "    </tr>\n",
              "    <tr>\n",
              "      <th>2</th>\n",
              "      <td>400</td>\n",
              "      <td>23</td>\n",
              "      <td>2</td>\n",
              "      <td>sqrt</td>\n",
              "      <td>14</td>\n",
              "      <td>False</td>\n",
              "      <td>0.271782</td>\n",
              "      <td>3</td>\n",
              "    </tr>\n",
              "    <tr>\n",
              "      <th>3</th>\n",
              "      <td>700</td>\n",
              "      <td>23</td>\n",
              "      <td>7</td>\n",
              "      <td>log2</td>\n",
              "      <td>15</td>\n",
              "      <td>False</td>\n",
              "      <td>0.257589</td>\n",
              "      <td>4</td>\n",
              "    </tr>\n",
              "    <tr>\n",
              "      <th>4</th>\n",
              "      <td>700</td>\n",
              "      <td>2</td>\n",
              "      <td>2</td>\n",
              "      <td>log2</td>\n",
              "      <td>11</td>\n",
              "      <td>True</td>\n",
              "      <td>0.257149</td>\n",
              "      <td>5</td>\n",
              "    </tr>\n",
              "    <tr>\n",
              "      <th>5</th>\n",
              "      <td>1000</td>\n",
              "      <td>12</td>\n",
              "      <td>7</td>\n",
              "      <td>sqrt</td>\n",
              "      <td>10</td>\n",
              "      <td>True</td>\n",
              "      <td>0.245363</td>\n",
              "      <td>6</td>\n",
              "    </tr>\n",
              "    <tr>\n",
              "      <th>6</th>\n",
              "      <td>300</td>\n",
              "      <td>28</td>\n",
              "      <td>7</td>\n",
              "      <td>log2</td>\n",
              "      <td>13</td>\n",
              "      <td>True</td>\n",
              "      <td>0.239917</td>\n",
              "      <td>7</td>\n",
              "    </tr>\n",
              "    <tr>\n",
              "      <th>7</th>\n",
              "      <td>500</td>\n",
              "      <td>12</td>\n",
              "      <td>18</td>\n",
              "      <td>sqrt</td>\n",
              "      <td>13</td>\n",
              "      <td>False</td>\n",
              "      <td>0.239726</td>\n",
              "      <td>8</td>\n",
              "    </tr>\n",
              "    <tr>\n",
              "      <th>8</th>\n",
              "      <td>100</td>\n",
              "      <td>2</td>\n",
              "      <td>18</td>\n",
              "      <td>sqrt</td>\n",
              "      <td>15</td>\n",
              "      <td>False</td>\n",
              "      <td>0.239397</td>\n",
              "      <td>9</td>\n",
              "    </tr>\n",
              "    <tr>\n",
              "      <th>9</th>\n",
              "      <td>800</td>\n",
              "      <td>28</td>\n",
              "      <td>12</td>\n",
              "      <td>sqrt</td>\n",
              "      <td>14</td>\n",
              "      <td>True</td>\n",
              "      <td>0.238682</td>\n",
              "      <td>10</td>\n",
              "    </tr>\n",
              "  </tbody>\n",
              "</table>\n",
              "</div>"
            ],
            "text/plain": [
              "  param_n_estimators param_min_samples_split param_min_samples_leaf  \\\n",
              "0                700                      12                      2   \n",
              "1                600                      23                      2   \n",
              "2                400                      23                      2   \n",
              "3                700                      23                      7   \n",
              "4                700                       2                      2   \n",
              "5               1000                      12                      7   \n",
              "6                300                      28                      7   \n",
              "7                500                      12                     18   \n",
              "8                100                       2                     18   \n",
              "9                800                      28                     12   \n",
              "\n",
              "  param_max_features param_max_depth param_bootstrap  mean_test_score  \\\n",
              "0               sqrt              13           False         0.273245   \n",
              "1               sqrt              15           False         0.272383   \n",
              "2               sqrt              14           False         0.271782   \n",
              "3               log2              15           False         0.257589   \n",
              "4               log2              11            True         0.257149   \n",
              "5               sqrt              10            True         0.245363   \n",
              "6               log2              13            True         0.239917   \n",
              "7               sqrt              13           False         0.239726   \n",
              "8               sqrt              15           False         0.239397   \n",
              "9               sqrt              14            True         0.238682   \n",
              "\n",
              "   rank_test_score  \n",
              "0                1  \n",
              "1                2  \n",
              "2                3  \n",
              "3                4  \n",
              "4                5  \n",
              "5                6  \n",
              "6                7  \n",
              "7                8  \n",
              "8                9  \n",
              "9               10  "
            ]
          },
          "metadata": {
            "tags": []
          },
          "execution_count": 202
        }
      ]
    },
    {
      "cell_type": "code",
      "metadata": {
        "id": "Jg327w717JqJ",
        "outputId": "483e3762-bfa8-4bc9-d104-9e1a5569f4ba"
      },
      "source": [
        "fig, axs = plt.subplots(ncols=3, nrows=2)\n",
        "\n",
        "sns.set(style=\"whitegrid\", color_codes=True, font_scale = 2)\n",
        "fig.set_size_inches(30,25)\n",
        "\n",
        "sns.barplot(x='param_n_estimators', y='mean_test_score', data=rs_df, ax=axs[0,0], color='lightgrey')\n",
        "axs[0,0].set_ylim([.13,.3])\n",
        "axs[0,0].set_title(label = 'n_estimators', size=30, weight='bold')\n",
        "\n",
        "sns.barplot(x='param_min_samples_split', y='mean_test_score', data=rs_df, ax=axs[0,1], color='coral')\n",
        "axs[0,1].set_ylim([.13,.3])\n",
        "axs[0,1].set_title(label = 'min_samples_split', size=30, weight='bold')\n",
        "\n",
        "sns.barplot(x='param_min_samples_leaf', y='mean_test_score', data=rs_df, ax=axs[0,2], color='lightgreen')\n",
        "axs[0,2].set_ylim([.13,.3])\n",
        "axs[0,2].set_title(label = 'min_samples_leaf', size=30, weight='bold')\n",
        "\n",
        "sns.barplot(x='param_max_features', y='mean_test_score', data=rs_df, ax=axs[1,0], color='wheat')\n",
        "axs[1,0].set_ylim([.13,.3])\n",
        "axs[1,0].set_title(label = 'max_features', size=30, weight='bold')\n",
        "\n",
        "sns.barplot(x='param_max_depth', y='mean_test_score', data=rs_df, ax=axs[1,1], color='lightpink')\n",
        "axs[1,1].set_ylim([.13,.3])\n",
        "axs[1,1].set_title(label = 'max_depth', size=30, weight='bold')\n",
        "\n",
        "sns.barplot(x='param_bootstrap',y='mean_test_score', data=rs_df, ax=axs[1,2], color='skyblue')\n",
        "axs[1,2].set_ylim([.13,.3])\n",
        "\n",
        "axs[1,2].set_title(label = 'bootstrap', size=30, weight='bold')\n",
        "\n",
        "plt.show()"
      ],
      "execution_count": null,
      "outputs": [
        {
          "output_type": "display_data",
          "data": {
            "image/png": "[encoded data removed]",
            "text/plain": [
              "<Figure size 2160x1800 with 6 Axes>"
            ]
          },
          "metadata": {
            "tags": []
          }
        }
      ]
    },
    {
      "cell_type": "markdown",
      "metadata": {
        "id": "OHHdDZNC7JqJ"
      },
      "source": [
        "#### Selecting Hyperparameters Via Grid Search CV:"
      ]
    },
    {
      "cell_type": "code",
      "metadata": {
        "id": "9esdifb47JqJ",
        "outputId": "19acbb26-6836-41e8-81bd-c40558b134eb"
      },
      "source": [
        "n_estimators = [300,500,700]\n",
        "max_features = ['sqrt']\n",
        "max_depth = [2,3,7,11,15]\n",
        "min_samples_split = [2,3,4,22,23,24]\n",
        "min_samples_leaf = [2,3,4,5,6,7]\n",
        "bootstrap = [False]\n",
        "param_grid = {'n_estimators': n_estimators,\n",
        "               'max_features': max_features,\n",
        "               'max_depth': max_depth,\n",
        "               'min_samples_split': min_samples_split,\n",
        "               'min_samples_leaf': min_samples_leaf,\n",
        "               'bootstrap': bootstrap}\n",
        "gs = GridSearchCV(forest_2, param_grid, cv = 3, verbose = 1, n_jobs=-1)\n",
        "gs.fit(X_train_pca, train_y)\n",
        "rfc_3 = gs.best_estimator_\n",
        "gs.best_params_"
      ],
      "execution_count": null,
      "outputs": [
        {
          "output_type": "stream",
          "text": [
            "Fitting 3 folds for each of 540 candidates, totalling 1620 fits\n"
          ],
          "name": "stdout"
        },
        {
          "output_type": "execute_result",
          "data": {
            "text/plain": [
              "{'bootstrap': False,\n",
              " 'max_depth': 15,\n",
              " 'max_features': 'sqrt',\n",
              " 'min_samples_leaf': 3,\n",
              " 'min_samples_split': 4,\n",
              " 'n_estimators': 700}"
            ]
          },
          "metadata": {
            "tags": []
          },
          "execution_count": 204
        }
      ]
    },
    {
      "cell_type": "code",
      "metadata": {
        "id": "BDuhMs977JqK",
        "outputId": "b799bea4-35ce-40dc-dfd0-6432a281d11f"
      },
      "source": [
        "rf3 = gs.best_estimator_.fit(X_train_pca, train_y)\n",
        "\n",
        "# Predict the test set labels 'y_pred'\n",
        "y_pred = gs.best_estimator_.predict(X_test_pca)\n",
        "y_pred_train=gs.best_estimator_.predict(X_train_pca)\n",
        "# Evaluate the test set RMSE\n",
        "rmse_test = MSE(val_y, y_pred)**(1/2)\n",
        "rmse_train = MSE(train_y, y_pred_train)**(1/2)\n",
        "# Print the test set RMSE\n",
        "print('Test set RMSE: {:.2f}'.format(rmse_test))\n",
        "print('Train set RMSE: {:.2f}'.format(rmse_train))\n",
        "\n",
        "MSE_CV_scores = - cross_val_score(rf3, train_X, train_y, cv=3, \n",
        "                                  scoring='neg_mean_squared_error', \n",
        "                                  n_jobs=-1) \n",
        "\n",
        "RMSE_CV = (MSE_CV_scores.mean())**(1/2)\n",
        "\n",
        "print('CV RMSE is: {:.2f}'.format(RMSE_CV))\n",
        "acc_random_forest2 = round(rf3.score(X_test_pca, val_y) * 100, 2)\n",
        "print(round(acc_random_forest2,2,), ' percent')"
      ],
      "execution_count": null,
      "outputs": [
        {
          "output_type": "stream",
          "text": [
            "Test set RMSE: 2.49\n",
            "Train set RMSE: 1.08\n",
            "CV RMSE is: 2.30\n",
            "26.16  percent\n"
          ],
          "name": "stdout"
        }
      ]
    },
    {
      "cell_type": "code",
      "metadata": {
        "id": "rXokZI3s7JqK",
        "outputId": "96e95119-bd72-4b34-cbed-f2c0a49904f0"
      },
      "source": [
        "rf3 = RandomForestRegressor(n_estimators=700,\n",
        "n_jobs=-1)\n",
        "\n",
        "rf3.fit(X_train_pca, train_y)\n",
        "\n",
        "# Predict the test set labels 'y_pred'\n",
        "y_pred = gs.best_estimator_.predict(X_test_pca)\n",
        "y_pred_train=gs.best_estimator_.predict(X_train_pca)\n",
        "# Evaluate the test set RMSE\n",
        "rmse_test = MSE(val_y, y_pred)**(1/2)\n",
        "rmse_train = MSE(train_y, y_pred_train)**(1/2)\n",
        "# Print the test set RMSE\n",
        "print('Test set RMSE: {:.2f}'.format(rmse_test))\n",
        "print('Train set RMSE: {:.2f}'.format(rmse_train))\n",
        "\n",
        "MSE_CV_scores = - cross_val_score(rf3, train_X, train_y, cv=3, \n",
        "                                  scoring='neg_mean_squared_error', \n",
        "                                  n_jobs=-1) \n",
        "\n",
        "RMSE_CV = (MSE_CV_scores.mean())**(1/2)\n",
        "\n",
        "print('CV RMSE is: {:.2f}'.format(RMSE_CV))\n",
        "acc_random_forest2 = round(rf3.score(X_test_pca, val_y) * 100, 2)\n",
        "print(round(acc_random_forest2,2,), ' percent')"
      ],
      "execution_count": null,
      "outputs": [
        {
          "output_type": "stream",
          "text": [
            "Test set RMSE: 2.49\n",
            "Train set RMSE: 1.08\n",
            "CV RMSE is: 2.31\n",
            "27.39  percent\n"
          ],
          "name": "stdout"
        }
      ]
    },
    {
      "cell_type": "markdown",
      "metadata": {
        "id": "nzLWZ4qp7JqK"
      },
      "source": [
        "##### Ensemble: "
      ]
    },
    {
      "cell_type": "code",
      "metadata": {
        "id": "gGW6zkp07JqK",
        "outputId": "6a685f37-c3d2-4f60-aa18-8160a68d5ef7"
      },
      "source": [
        "gb = GradientBoostingRegressor()\n",
        "\n",
        "gb.fit(X_train_pca, train_y)\n",
        "\n",
        "y_pred_Gboost = gb.predict(X_test_pca)\n",
        "\n",
        "y_pred_train=gb.predict(X_train_pca)\n",
        "\n",
        "rmse_test = MSE(val_y, y_pred_Gboost)**(1/2)\n",
        "rmse_train = MSE(train_y, y_pred_train)**(1/2)\n",
        "\n",
        "\n",
        "print('Test set RMSE of gb: {:.2f}'.format(rmse_test))\n",
        "print('Train set RMSE of gb: {:.2f}'.format(rmse_train))\n",
        "\n",
        "acc_GradientBoostingRegressor = round(gb.score(X_test_pca, val_y) * 100, 2)\n",
        "print(round(acc_GradientBoostingRegressor,2,), ' percent')"
      ],
      "execution_count": null,
      "outputs": [
        {
          "output_type": "stream",
          "text": [
            "Test set RMSE of gb: 2.51\n",
            "Train set RMSE of gb: 2.03\n",
            "24.99  percent\n"
          ],
          "name": "stdout"
        }
      ]
    },
    {
      "cell_type": "code",
      "metadata": {
        "id": "8D7DzU6H7JqL"
      },
      "source": [
        "lr = LinearRegression()\n",
        "\n",
        "rf = RandomForestRegressor()\n",
        "\n",
        "dt = DecisionTreeRegressor()\n",
        "\n",
        "regressors = [('Linear Regression', lr), ('Decision Tree', dt),('Random Forest',rf)]"
      ],
      "execution_count": null,
      "outputs": []
    },
    {
      "cell_type": "code",
      "metadata": {
        "id": "6z4cwaBg7JqM",
        "outputId": "c2c5ee76-e71e-43af-b7cf-5471b68f976c"
      },
      "source": [
        "for i, model in regressors:\n",
        "    model.fit(X_train_pca, train_y)\n",
        "    y_pred = model.predict(X_test_pca)\n",
        "    print(f\"{i}:{MSE(val_y, y_pred)**(1/2)}\")"
      ],
      "execution_count": null,
      "outputs": [
        {
          "output_type": "stream",
          "text": [
            "Linear Regression:2.749397752724853\n",
            "Decision Tree:3.380852110685657\n",
            "Random Forest:2.4735884871437825\n"
          ],
          "name": "stdout"
        }
      ]
    },
    {
      "cell_type": "code",
      "metadata": {
        "id": "yPlcvFkS7JqV",
        "outputId": "12d0465a-0a18-49e1-df49-0598de2e48b0"
      },
      "source": [
        "vc = VotingRegressor(estimators=regressors)     \n",
        "\n",
        "vc.fit(X_train_pca, train_y)   \n",
        "\n",
        "y_pred = vc.predict(X_test_pca)\n",
        "\n",
        "y_pred_train=vc.predict(X_train_pca)\n",
        "\n",
        "rmse_test = MSE(val_y, y_pred)**(1/2)\n",
        "rmse_train = MSE(train_y, y_pred_train)**(1/2)\n",
        "\n",
        "\n",
        "print('Test set RMSE of VC: {:.2f}'.format(rmse_test))\n",
        "print('Train set RMSE of VC: {:.2f}'.format(rmse_train))\n",
        "\n",
        "acc_VotingRegressor = round(vc.score(X_test_pca, val_y) * 100, 2)\n",
        "print('Voting Regressor:',round(acc_VotingRegressor,2,), ' percent')"
      ],
      "execution_count": null,
      "outputs": [
        {
          "output_type": "stream",
          "text": [
            "Test set RMSE of VC: 2.56\n",
            "Train set RMSE of VC: 1.22\n",
            "Voting Regressor: 21.73  percent\n"
          ],
          "name": "stdout"
        }
      ]
    },
    {
      "cell_type": "markdown",
      "metadata": {
        "id": "PgHjmhbv7JqW"
      },
      "source": [
        "### Best Model: "
      ]
    },
    {
      "cell_type": "code",
      "metadata": {
        "id": "RZIn5oGO7JqY",
        "outputId": "d73ac09a-ce46-479c-ef74-8396549e56fb"
      },
      "source": [
        "acc_random_forest = round(Meanforest.score(val_X, val_y) * 100, 2)\n",
        "print(round(acc_random_forest,2,), ' percent')"
      ],
      "execution_count": null,
      "outputs": [
        {
          "output_type": "stream",
          "text": [
            "37.59  percent\n"
          ],
          "name": "stdout"
        }
      ]
    },
    {
      "cell_type": "code",
      "metadata": {
        "id": "WTBEgdt07Jqb",
        "outputId": "7e788b03-e577-4f39-a850-19a7eb55a65e"
      },
      "source": [
        "y_pred = forest.predict(val_X)\n",
        "\n",
        "predictions_df = pd.DataFrame(y_pred, columns = [\"yhat\"])\n",
        "predictions_df[\"y\"] = val_y.values\n",
        "predictions_df"
      ],
      "execution_count": null,
      "outputs": [
        {
          "output_type": "execute_result",
          "data": {
            "text/html": [
              "<div>\n",
              "<style scoped>\n",
              "    .dataframe tbody tr th:only-of-type {\n",
              "        vertical-align: middle;\n",
              "    }\n",
              "\n",
              "    .dataframe tbody tr th {\n",
              "        vertical-align: top;\n",
              "    }\n",
              "\n",
              "    .dataframe thead th {\n",
              "        text-align: right;\n",
              "    }\n",
              "</style>\n",
              "<table border=\"1\" class=\"dataframe\">\n",
              "  <thead>\n",
              "    <tr style=\"text-align: right;\">\n",
              "      <th></th>\n",
              "      <th>yhat</th>\n",
              "      <th>y</th>\n",
              "    </tr>\n",
              "  </thead>\n",
              "  <tbody>\n",
              "    <tr>\n",
              "      <th>0</th>\n",
              "      <td>5.19</td>\n",
              "      <td>6.0</td>\n",
              "    </tr>\n",
              "    <tr>\n",
              "      <th>1</th>\n",
              "      <td>3.35</td>\n",
              "      <td>9.0</td>\n",
              "    </tr>\n",
              "    <tr>\n",
              "      <th>2</th>\n",
              "      <td>6.33</td>\n",
              "      <td>8.0</td>\n",
              "    </tr>\n",
              "    <tr>\n",
              "      <th>3</th>\n",
              "      <td>8.05</td>\n",
              "      <td>10.0</td>\n",
              "    </tr>\n",
              "    <tr>\n",
              "      <th>4</th>\n",
              "      <td>7.66</td>\n",
              "      <td>10.0</td>\n",
              "    </tr>\n",
              "    <tr>\n",
              "      <th>...</th>\n",
              "      <td>...</td>\n",
              "      <td>...</td>\n",
              "    </tr>\n",
              "    <tr>\n",
              "      <th>661</th>\n",
              "      <td>5.56</td>\n",
              "      <td>10.0</td>\n",
              "    </tr>\n",
              "    <tr>\n",
              "      <th>662</th>\n",
              "      <td>4.78</td>\n",
              "      <td>10.0</td>\n",
              "    </tr>\n",
              "    <tr>\n",
              "      <th>663</th>\n",
              "      <td>4.85</td>\n",
              "      <td>1.0</td>\n",
              "    </tr>\n",
              "    <tr>\n",
              "      <th>664</th>\n",
              "      <td>5.00</td>\n",
              "      <td>6.0</td>\n",
              "    </tr>\n",
              "    <tr>\n",
              "      <th>665</th>\n",
              "      <td>8.34</td>\n",
              "      <td>11.0</td>\n",
              "    </tr>\n",
              "  </tbody>\n",
              "</table>\n",
              "<p>666 rows × 2 columns</p>\n",
              "</div>"
            ],
            "text/plain": [
              "     yhat     y\n",
              "0    5.19   6.0\n",
              "1    3.35   9.0\n",
              "2    6.33   8.0\n",
              "3    8.05  10.0\n",
              "4    7.66  10.0\n",
              "..    ...   ...\n",
              "661  5.56  10.0\n",
              "662  4.78  10.0\n",
              "663  4.85   1.0\n",
              "664  5.00   6.0\n",
              "665  8.34  11.0\n",
              "\n",
              "[666 rows x 2 columns]"
            ]
          },
          "metadata": {
            "tags": []
          },
          "execution_count": 263
        }
      ]
    },
    {
      "cell_type": "markdown",
      "metadata": {
        "id": "qW_g4ex37Jqb"
      },
      "source": [
        "We began this analysis by first loading and understanding both the data and metadata provided in the brand strategy file. From our understanding, the goal of this assignment is to understand and predict the likelihood of a customer to use / continue to use each brand's products (as measured by \"consider\"). As such, we re-oriented the data to better predict this. To do this we dropped columns that do not pertain to the target brands or any of their attributes. Then, based on the metadata descriptions, we assigned more comprehensive column labels to make data handling easier throughout the analysis.\n",
        "\n",
        "\n",
        "As shown, approximately 23% of the rows contain null values for the vast majority of the brand attributes. While our first instinct was to potentially cluster the data and then impute the values based on the mean values for each attribute, after thinking through the context of the dataset we chose not to. When looking at the rows that contain missing values, we can see that the respondent only completed the first four questions and skipped the rest of the survey. This could be due to survey fatigue, false motives for taking the survey or lack of brand knowledge. Based thereon, we made the decision to delete any rows missing five or more questions as imputing the values would significantly skew the data and render our analysis nonmeaningful. Further, we removed any rows missing the target variable, “Consider”, as our model would not have been able to learn from such records. \n",
        "\n",
        "\n",
        "After handling the null values, we moved to properly attribute each survey response to a brand in a more appropriate manner for our model. Originally, the “Brand_id” column was filled with values from one to nine, each corresponding to a brand. However, in a regression model, the model would interpret this as there being a linear relationship between brands which is not correct. As such, we created a dummy variable for each brand and dropped the “Brand_id” column.\n",
        "\n",
        "\n",
        "Once our data set was substantially clean, we fitted preliminary models on the data after using standard scaler, min max, and mean centering normalization methods to handle the skewness of the survey responses. As shown, random forest regressor on mean centered data performed the highest.\n",
        "\n",
        "\n",
        "After fitting the models, we explored the most important features and the correlation of the attributes. As shown in the heatmap, we can see that there is an extreme amount of redundancy among the attributes. As such, we move to incorporate PCA into our analysis in order to account for this collinearity using 26 components which accounts for approximately 95% of the variance. \n",
        "\n",
        "\n",
        "As shown, our base PCA models do not have higher accuracy scores, as measured by r-squared, compared to our preliminary models. In order to improve our models, we used random search cv, grid search cv, and ensemble methods, including gradient boosting regressor and voting regressor. However, as shown, hyperparameters and ensemble methods fail to improve our model.\n",
        "\n",
        "\n",
        "Based thereon, our best model, as measured by r-squared, is the mean centered random forest regression model with an accuracy of approximately 38%. While we would ideally like to be able to report an accuracy score above 80%, our methodology failed to produce such a model. In reflection, we believe that this is due to the original survey response data. While we aimed to transform the data to account for any collinearity and skewness, the original questions in the survey were ultimately not unique enough to allow us to explain enough information to accurately deduce the relationships between the brand attributes and our target variable. As Anil has covered in class, each survey question needs to be unique and worth its weight in gold. As exemplified in our analysis, poor survey questions that do not extract unique information / dimensions of a consumer’s relationship with a brand are meaningless and ultimately not actionable for a data science team. \n"
      ]
    },
    {
      "cell_type": "code",
      "metadata": {
        "id": "9oYM7KIw7Jqe"
      },
      "source": [
        ""
      ],
      "execution_count": null,
      "outputs": []
    }
  ]
}